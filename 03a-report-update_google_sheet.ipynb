{
 "cells": [
  {
   "cell_type": "markdown",
   "id": "82c05d4f-82a2-4b70-8525-e2e406cc54cd",
   "metadata": {},
   "source": [
    "# Update Google Sheet"
   ]
  },
  {
   "cell_type": "code",
   "execution_count": 1,
   "id": "42198736-ba53-47bc-9fd0-2e33d45084d5",
   "metadata": {},
   "outputs": [],
   "source": [
    "from functools import reduce\n",
    "\n",
    "from cycler import cycler\n",
    "from dateutil.relativedelta import relativedelta\n",
    "import matplotlib.pyplot as plt\n",
    "from numbers import Number\n",
    "import numpy as np\n",
    "import pandas as pd\n",
    "#from scipy import stats as sstats\n",
    "import wmfdata as wmf\n",
    "from wmfdata.utils import pct_str, sig_figs\n",
    "\n",
    "import gspread\n",
    "from google.oauth2.service_account import Credentials"
   ]
  },
  {
   "cell_type": "markdown",
   "id": "5f2632ba-d859-4312-981f-97bfb2551ec5",
   "metadata": {},
   "source": [
    "This notebook will update the metrics in the Google sheet ['readers'](https://docs.google.com/spreadsheets/d/1mK-R8qWzKjSeHMBBek9sJsbecdic9s3r28OIW7QkqrE/edit?usp=sharing) which is accessible by WMF staff"
   ]
  },
  {
   "cell_type": "code",
   "execution_count": 2,
   "id": "8a312d5f-4bc6-484e-a624-60a2d50fe29b",
   "metadata": {},
   "outputs": [],
   "source": [
    "FILE = \"metrics/metrics.tsv\"\n",
    "all_metrics = pd.read_csv(FILE, sep=\"\\t\")\n",
    "\n",
    "DIV_FILE = \"metrics/diversity_metrics.tsv\"\n",
    "diversity_metrics = pd.read_csv(DIV_FILE, sep=\"\\t\")\n"
   ]
  },
  {
   "cell_type": "code",
   "execution_count": 3,
   "id": "21c9f6cb-5c3f-4463-8f95-73471fb8ef75",
   "metadata": {},
   "outputs": [],
   "source": [
    "all_metrics.iloc[-1,1:] = all_metrics.iloc[-1,1:].astype(float)\n",
    "diversity_metrics.iloc[-1,1:] = diversity_metrics.iloc[-1,1:].astype(float)"
   ]
  },
  {
   "cell_type": "code",
   "execution_count": 4,
   "id": "59b2fa42-95e5-4a57-b631-c6e8161c4627",
   "metadata": {},
   "outputs": [],
   "source": [
    "scope = ['https://spreadsheets.google.com/feeds',\n",
    "         'https://www.googleapis.com/auth/drive']\n",
    "\n",
    "credentials = Credentials.from_service_account_file('key-metrics-343717-07427b76df93.json', scopes=scope)\n",
    "gc = gspread.authorize(credentials)"
   ]
  },
  {
   "cell_type": "code",
   "execution_count": 5,
   "id": "a9e0401c-9f78-40b8-83e0-630924b2a638",
   "metadata": {},
   "outputs": [],
   "source": [
    "@property\n",
    "def sheet1(self):\n",
    "    \"\"\"Shortcut property for getting the first worksheet.\"\"\"\n",
    "    return self.get_worksheet(0)"
   ]
  },
  {
   "cell_type": "code",
   "execution_count": 6,
   "id": "c56e02ce-289a-4a97-8c90-b5301947b498",
   "metadata": {},
   "outputs": [
    {
     "data": {
      "text/plain": [
       "{'spreadsheetId': '1mK-R8qWzKjSeHMBBek9sJsbecdic9s3r28OIW7QkqrE',\n",
       " 'tableRange': 'metrics!A1:H85',\n",
       " 'updates': {'spreadsheetId': '1mK-R8qWzKjSeHMBBek9sJsbecdic9s3r28OIW7QkqrE',\n",
       "  'updatedRange': 'metrics!A86:H86',\n",
       "  'updatedRows': 1,\n",
       "  'updatedColumns': 8,\n",
       "  'updatedCells': 8}}"
      ]
     },
     "execution_count": 6,
     "metadata": {},
     "output_type": "execute_result"
    }
   ],
   "source": [
    "wks1 = gc.open(\"readers\").sheet1\n",
    "new_metrics = all_metrics.iloc[-1,[0,1,2,3,4,5,6,7]].tolist()\n",
    "wks1.append_row(new_metrics)"
   ]
  },
  {
   "cell_type": "code",
   "execution_count": 7,
   "id": "916a5bc6-c280-4394-ae92-76871894fb91",
   "metadata": {},
   "outputs": [
    {
     "data": {
      "text/plain": [
       "{'spreadsheetId': '1mK-R8qWzKjSeHMBBek9sJsbecdic9s3r28OIW7QkqrE',\n",
       " 'tableRange': 'diversity_global_market!A1:G85',\n",
       " 'updates': {'spreadsheetId': '1mK-R8qWzKjSeHMBBek9sJsbecdic9s3r28OIW7QkqrE',\n",
       "  'updatedRange': 'diversity_global_market!A86:G86',\n",
       "  'updatedRows': 1,\n",
       "  'updatedColumns': 7,\n",
       "  'updatedCells': 7}}"
      ]
     },
     "execution_count": 7,
     "metadata": {},
     "output_type": "execute_result"
    }
   ],
   "source": [
    "wks3 = gc.open(\"readers\").get_worksheet(1)\n",
    "div_metrics = diversity_metrics.iloc[-1].tolist()\n",
    "wks3.append_row(div_metrics)"
   ]
  },
  {
   "cell_type": "code",
   "execution_count": null,
   "id": "3a4414c5-642d-47c1-ad86-21ce8fb66770",
   "metadata": {},
   "outputs": [],
   "source": []
  },
  {
   "cell_type": "code",
   "execution_count": null,
   "id": "feb80228-635f-4b77-9f47-70764cf85864",
   "metadata": {},
   "outputs": [],
   "source": []
  },
  {
   "cell_type": "code",
   "execution_count": null,
   "id": "8de12a23-6563-410b-8426-6cf1b4199414",
   "metadata": {},
   "outputs": [],
   "source": []
  },
  {
   "cell_type": "code",
   "execution_count": null,
   "id": "88e6c091-ff61-4ddd-a3d3-07303a7d6637",
   "metadata": {},
   "outputs": [],
   "source": []
  },
  {
   "cell_type": "code",
   "execution_count": null,
   "id": "b73d7334-c5a8-43ce-bf53-1c92dc1f2dca",
   "metadata": {},
   "outputs": [],
   "source": []
  }
 ],
 "metadata": {
  "kernelspec": {
   "display_name": "Python 3 (ipykernel)",
   "language": "python",
   "name": "python3"
  },
  "language_info": {
   "codemirror_mode": {
    "name": "ipython",
    "version": 3
   },
   "file_extension": ".py",
   "mimetype": "text/x-python",
   "name": "python",
   "nbconvert_exporter": "python",
   "pygments_lexer": "ipython3",
   "version": "3.10.8"
  }
 },
 "nbformat": 4,
 "nbformat_minor": 5
}

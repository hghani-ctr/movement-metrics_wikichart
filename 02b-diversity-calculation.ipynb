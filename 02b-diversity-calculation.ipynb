{
 "cells": [
  {
   "cell_type": "markdown",
   "metadata": {},
   "source": [
    "# Import"
   ]
  },
  {
   "cell_type": "code",
   "execution_count": 1,
   "metadata": {},
   "outputs": [],
   "source": [
    "from functools import reduce\n",
    "from pathlib import Path\n",
    "import time\n",
    "import datetime\n",
    "\n",
    "import pandas as pd\n",
    "import requests\n",
    "from wmfdata import hive, spark\n",
    "from wmfdata.utils import print_err, pd_display_all\n"
   ]
  },
  {
   "cell_type": "markdown",
   "metadata": {},
   "source": [
    "# Parameters"
   ]
  },
  {
   "cell_type": "code",
   "execution_count": 2,
   "metadata": {},
   "outputs": [],
   "source": [
    "# TSV file where metrics are or will be saved\n",
    "FILENAME = \"metrics/diversity_metrics.tsv\"\n",
    "\n",
    "# Metric month. The mediawiki_history snapshot must be from the metrics month or later.\n",
    "last_month = datetime.date.today().replace(day=1) - datetime.timedelta(days=1)\n",
    "\n",
    "METRICS_MONTH_TEXT = last_month.strftime(\"%Y-%m\")\n",
    "MEDIAWIKI_HISTORY_SNAPSHOT = last_month.strftime(\"%Y-%m\")\n",
    "\n"
   ]
  },
  {
   "cell_type": "code",
   "execution_count": 3,
   "metadata": {},
   "outputs": [
    {
     "data": {
      "text/plain": [
       "datetime.date(2021, 7, 31)"
      ]
     },
     "execution_count": 3,
     "metadata": {},
     "output_type": "execute_result"
    }
   ],
   "source": [
    "datetime.date.today().replace(day=1) - datetime.timedelta(days=1)"
   ]
  },
  {
   "cell_type": "markdown",
   "metadata": {},
   "source": [
    "# Preparation"
   ]
  },
  {
   "cell_type": "code",
   "execution_count": 4,
   "metadata": {},
   "outputs": [],
   "source": [
    "# Convert our metrics month to all the formats we need and provide them in a dict\n",
    "# so we can easily use them to format strings\n",
    "metrics_month = METRICS_MONTH_TEXT\n",
    "date_params = {\n",
    "    \"mediawiki_history_snapshot\": MEDIAWIKI_HISTORY_SNAPSHOT,\n",
    "    \"metrics_month\": str(metrics_month),\n",
    "    #\"metrics_prev_month\": str(metrics_month - 1),\n",
    "    #\"metrics_month_start\": str(metrics_month.start_time), \n",
    "    \"metrics_month_first_day\": str((datetime.date.today()- datetime.timedelta(days=31)).replace(day=1)),\n",
    "    #\"metrics_month_end\": str(last_month),\n",
    "    \"metrics_month_last_day\": str(last_month),\n",
    "    \"metrics_year\": last_month.year,\n",
    "    \"metrics_cur_month\" : last_month.month\n",
    "}\n",
    "\n",
    "# Load any previous results\n",
    "try:\n",
    "    old_metrics = (\n",
    "        pd.read_csv(FILENAME, sep=\"\\t\", parse_dates = [\"month\"])\n",
    "        .set_index(\"month\")\n",
    "    )\n",
    "except FileNotFoundError:\n",
    "    old_metrics = None\n",
    "    \n",
    "def prepare_query(filename):\n",
    "    return (\n",
    "        Path(filename)\n",
    "        .read_text()\n",
    "        .format(**date_params)\n",
    "    )"
   ]
  },
  {
   "cell_type": "markdown",
   "metadata": {},
   "source": [
    "# MariaDB and Hive query metrics\n"
   ]
  },
  {
   "cell_type": "code",
   "execution_count": 5,
   "metadata": {},
   "outputs": [
    {
     "name": "stderr",
     "output_type": "stream",
     "text": [
      "Running global_south_pageviews on hive...\n",
      "PySpark executors will use /usr/lib/anaconda-wmf/bin/python3.\n",
      "Running global_south_previews on hive...\n",
      "PySpark executors will use /usr/lib/anaconda-wmf/bin/python3.\n",
      "Running global_north_previews on hive...\n",
      "PySpark executors will use /usr/lib/anaconda-wmf/bin/python3.\n",
      "Running global_north_pageviews on hive...\n",
      "PySpark executors will use /usr/lib/anaconda-wmf/bin/python3.\n"
     ]
    }
   ],
   "source": [
    "queries = {\n",
    "    \n",
    "    \"global_south_pageviews\": {\n",
    "        \"file\": \"queries/global_south_pageviews.hql\",\n",
    "        \"engine\": \"hive\"\n",
    "    },\n",
    "    \"global_south_previews\": {\n",
    "        \"file\": \"queries/global_south_previews.hql\",\n",
    "        \"engine\": \"hive\"\n",
    "    },\n",
    "    \"global_north_previews\": {\n",
    "        \"file\": \"queries/global_north_previews.hql\",\n",
    "        \"engine\": \"hive\"\n",
    "    },\n",
    "     \"global_north_pageviews\": {\n",
    "        \"file\": \"queries/global_north_pageviews.hql\",\n",
    "        \"engine\": \"hive\"\n",
    "    }\n",
    "       \n",
    "}\n",
    "\n",
    "\n",
    "for key, val in queries.items():\n",
    "    query = prepare_query(val[\"file\"])\n",
    "    engine = val[\"engine\"]\n",
    "    print_err(\"Running {} on {}...\".format(key, engine))\n",
    "    \n",
    "    if engine == \"mariadb\":\n",
    "        result = mariadb.run(query)\n",
    "    elif engine == \"hive\":\n",
    "        result = spark.run(query)\n",
    "    else:\n",
    "        raise ValueError(\"Unknown engine specified.\") \n",
    "    \n",
    "    result = result.assign(month=lambda df: pd.to_datetime(df[\"month\"]))\n",
    "    val[\"result\"] = result"
   ]
  },
  {
   "cell_type": "markdown",
   "metadata": {},
   "source": [
    "# Combining and saving metrics"
   ]
  },
  {
   "cell_type": "code",
   "execution_count": 6,
   "metadata": {},
   "outputs": [],
   "source": [
    "# Assemble list of result dataframes\n",
    "results = [val[\"result\"] for _, val in queries.items()]\n",
    "\n",
    "# Merge them all, assuming that the month is the only common column\n",
    "new_metrics = reduce(lambda l, r: pd.merge(l, r, how=\"outer\"), results)\n",
    "\n",
    "# Set the month as an index so combine_first works properly\n",
    "new_metrics = new_metrics.set_index(\"month\").sort_index()\n",
    "\n",
    "# Add Metrics for Interactions\n",
    "new_metrics['gs_interactions'] = new_metrics.apply(lambda x: x['gs_previews'] + x['gs_pageviews'], axis=1)\n",
    "new_metrics['gn_interactions'] = new_metrics.apply(lambda x: x['gn_previews'] + x['gn_pageviews'], axis=1)\n"
   ]
  },
  {
   "cell_type": "code",
   "execution_count": 7,
   "metadata": {},
   "outputs": [
    {
     "data": {
      "text/html": [
       "<div>\n",
       "<style scoped>\n",
       "    .dataframe tbody tr th:only-of-type {\n",
       "        vertical-align: middle;\n",
       "    }\n",
       "\n",
       "    .dataframe tbody tr th {\n",
       "        vertical-align: top;\n",
       "    }\n",
       "\n",
       "    .dataframe thead th {\n",
       "        text-align: right;\n",
       "    }\n",
       "</style>\n",
       "<table border=\"1\" class=\"dataframe\">\n",
       "  <thead>\n",
       "    <tr style=\"text-align: right;\">\n",
       "      <th></th>\n",
       "      <th>gn_interactions</th>\n",
       "      <th>gn_pageviews</th>\n",
       "      <th>gn_previews</th>\n",
       "      <th>gs_interactions</th>\n",
       "      <th>gs_pageviews</th>\n",
       "      <th>gs_previews</th>\n",
       "    </tr>\n",
       "    <tr>\n",
       "      <th>month</th>\n",
       "      <th></th>\n",
       "      <th></th>\n",
       "      <th></th>\n",
       "      <th></th>\n",
       "      <th></th>\n",
       "      <th></th>\n",
       "    </tr>\n",
       "  </thead>\n",
       "  <tbody>\n",
       "    <tr>\n",
       "      <th>2020-10-01</th>\n",
       "      <td>1.467844e+10</td>\n",
       "      <td>1.301749e+10</td>\n",
       "      <td>1.660959e+09</td>\n",
       "      <td>4.825703e+09</td>\n",
       "      <td>4.382705e+09</td>\n",
       "      <td>442998424.0</td>\n",
       "    </tr>\n",
       "    <tr>\n",
       "      <th>2020-11-01</th>\n",
       "      <td>1.532113e+10</td>\n",
       "      <td>1.355392e+10</td>\n",
       "      <td>1.767209e+09</td>\n",
       "      <td>4.793234e+09</td>\n",
       "      <td>4.350722e+09</td>\n",
       "      <td>442512210.0</td>\n",
       "    </tr>\n",
       "    <tr>\n",
       "      <th>2020-12-01</th>\n",
       "      <td>1.476698e+10</td>\n",
       "      <td>1.312603e+10</td>\n",
       "      <td>1.640947e+09</td>\n",
       "      <td>4.387849e+09</td>\n",
       "      <td>3.989396e+09</td>\n",
       "      <td>398453334.0</td>\n",
       "    </tr>\n",
       "    <tr>\n",
       "      <th>2021-01-01</th>\n",
       "      <td>1.611202e+10</td>\n",
       "      <td>1.427241e+10</td>\n",
       "      <td>1.839604e+09</td>\n",
       "      <td>4.515382e+09</td>\n",
       "      <td>4.097901e+09</td>\n",
       "      <td>417481377.0</td>\n",
       "    </tr>\n",
       "    <tr>\n",
       "      <th>2021-02-01</th>\n",
       "      <td>1.455890e+10</td>\n",
       "      <td>1.289671e+10</td>\n",
       "      <td>1.662185e+09</td>\n",
       "      <td>4.460031e+09</td>\n",
       "      <td>4.066807e+09</td>\n",
       "      <td>393223979.0</td>\n",
       "    </tr>\n",
       "    <tr>\n",
       "      <th>2021-03-01</th>\n",
       "      <td>1.593795e+10</td>\n",
       "      <td>1.413920e+10</td>\n",
       "      <td>1.798748e+09</td>\n",
       "      <td>4.854990e+09</td>\n",
       "      <td>4.417236e+09</td>\n",
       "      <td>437754445.0</td>\n",
       "    </tr>\n",
       "    <tr>\n",
       "      <th>2021-04-01</th>\n",
       "      <td>1.432737e+10</td>\n",
       "      <td>1.351259e+10</td>\n",
       "      <td>8.147820e+08</td>\n",
       "      <td>4.258869e+09</td>\n",
       "      <td>4.054406e+09</td>\n",
       "      <td>204463207.0</td>\n",
       "    </tr>\n",
       "    <tr>\n",
       "      <th>2021-05-01</th>\n",
       "      <td>1.521259e+10</td>\n",
       "      <td>1.358943e+10</td>\n",
       "      <td>1.623162e+09</td>\n",
       "      <td>4.593551e+09</td>\n",
       "      <td>4.164103e+09</td>\n",
       "      <td>429448469.0</td>\n",
       "    </tr>\n",
       "    <tr>\n",
       "      <th>2021-06-01</th>\n",
       "      <td>1.355870e+10</td>\n",
       "      <td>1.218313e+10</td>\n",
       "      <td>1.375564e+09</td>\n",
       "      <td>4.260437e+09</td>\n",
       "      <td>3.863987e+09</td>\n",
       "      <td>396450484.0</td>\n",
       "    </tr>\n",
       "    <tr>\n",
       "      <th>2021-07-01</th>\n",
       "      <td>1.363656e+10</td>\n",
       "      <td>1.229373e+10</td>\n",
       "      <td>1.342834e+09</td>\n",
       "      <td>4.427486e+09</td>\n",
       "      <td>4.050288e+09</td>\n",
       "      <td>377197875.0</td>\n",
       "    </tr>\n",
       "  </tbody>\n",
       "</table>\n",
       "</div>"
      ],
      "text/plain": [
       "            gn_interactions  gn_pageviews   gn_previews  gs_interactions  \\\n",
       "month                                                                      \n",
       "2020-10-01  1.467844e+10     1.301749e+10  1.660959e+09  4.825703e+09      \n",
       "2020-11-01  1.532113e+10     1.355392e+10  1.767209e+09  4.793234e+09      \n",
       "2020-12-01  1.476698e+10     1.312603e+10  1.640947e+09  4.387849e+09      \n",
       "2021-01-01  1.611202e+10     1.427241e+10  1.839604e+09  4.515382e+09      \n",
       "2021-02-01  1.455890e+10     1.289671e+10  1.662185e+09  4.460031e+09      \n",
       "2021-03-01  1.593795e+10     1.413920e+10  1.798748e+09  4.854990e+09      \n",
       "2021-04-01  1.432737e+10     1.351259e+10  8.147820e+08  4.258869e+09      \n",
       "2021-05-01  1.521259e+10     1.358943e+10  1.623162e+09  4.593551e+09      \n",
       "2021-06-01  1.355870e+10     1.218313e+10  1.375564e+09  4.260437e+09      \n",
       "2021-07-01  1.363656e+10     1.229373e+10  1.342834e+09  4.427486e+09      \n",
       "\n",
       "            gs_pageviews  gs_previews  \n",
       "month                                  \n",
       "2020-10-01  4.382705e+09  442998424.0  \n",
       "2020-11-01  4.350722e+09  442512210.0  \n",
       "2020-12-01  3.989396e+09  398453334.0  \n",
       "2021-01-01  4.097901e+09  417481377.0  \n",
       "2021-02-01  4.066807e+09  393223979.0  \n",
       "2021-03-01  4.417236e+09  437754445.0  \n",
       "2021-04-01  4.054406e+09  204463207.0  \n",
       "2021-05-01  4.164103e+09  429448469.0  \n",
       "2021-06-01  3.863987e+09  396450484.0  \n",
       "2021-07-01  4.050288e+09  377197875.0  "
      ]
     },
     "metadata": {},
     "output_type": "display_data"
    }
   ],
   "source": [
    "if old_metrics is None:\n",
    "    metrics = new_metrics\n",
    "else:\n",
    "    metrics = new_metrics.combine_first(old_metrics)\n",
    "    \n",
    "pd_display_all(metrics.tail(10))"
   ]
  },
  {
   "cell_type": "code",
   "execution_count": 8,
   "metadata": {},
   "outputs": [],
   "source": [
    "metrics.to_csv(FILENAME, sep=\"\\t\")"
   ]
  },
  {
   "cell_type": "code",
   "execution_count": null,
   "metadata": {},
   "outputs": [],
   "source": []
  }
 ],
 "metadata": {
  "kernelspec": {
   "display_name": "Python 3",
   "language": "python",
   "name": "python3"
  },
  "language_info": {
   "codemirror_mode": {
    "name": "ipython",
    "version": 3
   },
   "file_extension": ".py",
   "mimetype": "text/x-python",
   "name": "python",
   "nbconvert_exporter": "python",
   "pygments_lexer": "ipython3",
   "version": "3.7.10"
  }
 },
 "nbformat": 4,
 "nbformat_minor": 4
}

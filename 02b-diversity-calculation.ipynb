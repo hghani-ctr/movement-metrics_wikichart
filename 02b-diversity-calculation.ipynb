{
 "cells": [
  {
   "cell_type": "markdown",
   "metadata": {},
   "source": [
    "# Import"
   ]
  },
  {
   "cell_type": "code",
   "execution_count": 1,
   "metadata": {},
   "outputs": [
    {
     "name": "stderr",
     "output_type": "stream",
     "text": [
      "You are using wmfdata v1.4.0, but v2.0.0 is available.\n",
      "\n",
      "To update, run `pip install --upgrade git+https://github.com/wikimedia/wmfdata-python.git@release --ignore-installed`.\n",
      "\n",
      "To see the changes, refer to https://github.com/wikimedia/wmfdata-python/blob/release/CHANGELOG.md\n"
     ]
    }
   ],
   "source": [
    "from functools import reduce\n",
    "from pathlib import Path\n",
    "import time\n",
    "import datetime\n",
    "\n",
    "import pandas as pd\n",
    "import requests\n",
    "from wmfdata import hive, spark\n",
    "from wmfdata.utils import print_err, pd_display_all\n"
   ]
  },
  {
   "cell_type": "markdown",
   "metadata": {},
   "source": [
    "# Parameters"
   ]
  },
  {
   "cell_type": "code",
   "execution_count": 2,
   "metadata": {},
   "outputs": [],
   "source": [
    "# TSV file where metrics are or will be saved\n",
    "FILENAME = \"metrics/diversity_metrics.tsv\"\n",
    "\n",
    "# Metric month. The mediawiki_history snapshot must be from the metrics month or later.\n",
    "last_month = datetime.date.today().replace(day=1) - datetime.timedelta(days=1)\n",
    "\n",
    "METRICS_MONTH_TEXT = last_month.strftime(\"%Y-%m\")\n",
    "MEDIAWIKI_HISTORY_SNAPSHOT = last_month.strftime(\"%Y-%m\")\n",
    "\n"
   ]
  },
  {
   "cell_type": "code",
   "execution_count": 3,
   "metadata": {},
   "outputs": [
    {
     "data": {
      "text/plain": [
       "datetime.date(2023, 1, 31)"
      ]
     },
     "execution_count": 3,
     "metadata": {},
     "output_type": "execute_result"
    }
   ],
   "source": [
    "datetime.date.today().replace(day=1) - datetime.timedelta(days=1)"
   ]
  },
  {
   "cell_type": "markdown",
   "metadata": {},
   "source": [
    "# Preparation"
   ]
  },
  {
   "cell_type": "code",
   "execution_count": 4,
   "metadata": {},
   "outputs": [],
   "source": [
    "# Convert our metrics month to all the formats we need and provide them in a dict\n",
    "# so we can easily use them to format strings\n",
    "metrics_month = METRICS_MONTH_TEXT\n",
    "date_params = {\n",
    "    \"mediawiki_history_snapshot\": MEDIAWIKI_HISTORY_SNAPSHOT,\n",
    "    \"metrics_month\": str(metrics_month),\n",
    "    #\"metrics_prev_month\": str(metrics_month - 1),\n",
    "    #\"metrics_month_start\": str(metrics_month.start_time), \n",
    "    \"metrics_month_first_day\": str((datetime.date.today()- datetime.timedelta(days=31)).replace(day=1)),\n",
    "    #\"metrics_month_end\": str(last_month),\n",
    "    \"metrics_month_last_day\": str(last_month),\n",
    "    \"metrics_year\": last_month.year,\n",
    "    \"metrics_cur_month\" : last_month.month\n",
    "}\n",
    "\n",
    "# Load any previous results\n",
    "try:\n",
    "    old_metrics = (\n",
    "        pd.read_csv(FILENAME, sep=\"\\t\", parse_dates = [\"month\"])\n",
    "        .set_index(\"month\")\n",
    "    )\n",
    "except FileNotFoundError:\n",
    "    old_metrics = None\n",
    "    \n",
    "def prepare_query(filename):\n",
    "    return (\n",
    "        Path(filename)\n",
    "        .read_text()\n",
    "        .format(**date_params)\n",
    "    )"
   ]
  },
  {
   "cell_type": "markdown",
   "metadata": {},
   "source": [
    "# MariaDB and Hive query metrics\n"
   ]
  },
  {
   "cell_type": "code",
   "execution_count": 5,
   "metadata": {},
   "outputs": [],
   "source": [
    "# Code to Suppress PySpark Warning messages\n",
    "from warnings import filterwarnings\n",
    "filterwarnings(\"ignore\")"
   ]
  },
  {
   "cell_type": "code",
   "execution_count": 6,
   "metadata": {},
   "outputs": [
    {
     "name": "stderr",
     "output_type": "stream",
     "text": [
      "Running global_south_pageviews on hive...\n",
      "PySpark executors will use /usr/lib/anaconda-wmf/bin/python3.\n"
     ]
    },
    {
     "name": "stdout",
     "output_type": "stream",
     "text": [
      "PYSPARK_PYTHON=/usr/lib/anaconda-wmf/bin/python3\n"
     ]
    },
    {
     "name": "stderr",
     "output_type": "stream",
     "text": [
      "SLF4J: Class path contains multiple SLF4J bindings.\n",
      "SLF4J: Found binding in [jar:file:/usr/lib/spark2/jars/slf4j-log4j12-1.7.16.jar!/org/slf4j/impl/StaticLoggerBinder.class]\n",
      "SLF4J: Found binding in [jar:file:/usr/lib/hadoop/lib/slf4j-reload4j-1.7.36.jar!/org/slf4j/impl/StaticLoggerBinder.class]\n",
      "SLF4J: See http://www.slf4j.org/codes.html#multiple_bindings for an explanation.\n",
      "SLF4J: Actual binding is of type [org.slf4j.impl.Log4jLoggerFactory]\n",
      "Setting default log level to \"WARN\".\n",
      "To adjust logging level use sc.setLogLevel(newLevel). For SparkR, use setLogLevel(newLevel).\n",
      "23/02/10 20:06:48 WARN SparkConf: Note that spark.local.dir will be overridden by the value set by the cluster manager (via SPARK_LOCAL_DIRS in mesos/standalone/kubernetes and LOCAL_DIRS in YARN).\n",
      "23/02/10 20:06:49 WARN Utils: Service 'sparkDriver' could not bind on port 12000. Attempting port 12001.\n",
      "23/02/10 20:06:49 WARN Utils: Service 'sparkDriver' could not bind on port 12001. Attempting port 12002.\n",
      "23/02/10 20:06:49 WARN Utils: Service 'sparkDriver' could not bind on port 12002. Attempting port 12003.\n",
      "23/02/10 20:06:49 WARN Utils: Service 'SparkUI' could not bind on port 4040. Attempting port 4041.\n",
      "23/02/10 20:06:49 WARN Utils: Service 'SparkUI' could not bind on port 4041. Attempting port 4042.\n",
      "23/02/10 20:06:49 WARN Utils: Service 'SparkUI' could not bind on port 4042. Attempting port 4043.\n",
      "23/02/10 20:06:58 WARN Utils: Service 'org.apache.spark.network.netty.NettyBlockTransferService' could not bind on port 13000. Attempting port 13001.\n",
      "23/02/10 20:06:58 WARN Utils: Service 'org.apache.spark.network.netty.NettyBlockTransferService' could not bind on port 13001. Attempting port 13002.\n",
      "23/02/10 20:06:58 WARN Utils: Service 'org.apache.spark.network.netty.NettyBlockTransferService' could not bind on port 13002. Attempting port 13003.\n",
      "23/02/10 20:06:58 WARN YarnSchedulerBackend$YarnSchedulerEndpoint: Attempted to request executors before the AM has registered!\n",
      "Running global_south_previews on hive...                                        \n",
      "PySpark executors will use /usr/lib/anaconda-wmf/bin/python3.\n",
      "Running global_north_previews on hive...                                        \n",
      "PySpark executors will use /usr/lib/anaconda-wmf/bin/python3.\n",
      "Running global_north_pageviews on hive...                                       \n",
      "PySpark executors will use /usr/lib/anaconda-wmf/bin/python3.\n",
      "                                                                                \r"
     ]
    }
   ],
   "source": [
    "queries = {\n",
    "    \n",
    "    \"global_south_pageviews\": {\n",
    "        \"file\": \"queries/global_south_pageviews.hql\",\n",
    "        \"engine\": \"hive\"\n",
    "    },\n",
    "    \"global_south_previews\": {\n",
    "        \"file\": \"queries/global_south_previews.hql\",\n",
    "        \"engine\": \"hive\"\n",
    "    },\n",
    "    \"global_north_previews\": {\n",
    "        \"file\": \"queries/global_north_previews.hql\",\n",
    "        \"engine\": \"hive\"\n",
    "    },\n",
    "     \"global_north_pageviews\": {\n",
    "        \"file\": \"queries/global_north_pageviews.hql\",\n",
    "        \"engine\": \"hive\"\n",
    "    }\n",
    "       \n",
    "}\n",
    "\n",
    "\n",
    "for key, val in queries.items():\n",
    "    query = prepare_query(val[\"file\"])\n",
    "    engine = val[\"engine\"]\n",
    "    print_err(\"Running {} on {}...\".format(key, engine))\n",
    "    \n",
    "    if engine == \"mariadb\":\n",
    "        result = mariadb.run(query)\n",
    "    elif engine == \"hive\":\n",
    "        result = spark.run(query)\n",
    "    else:\n",
    "        raise ValueError(\"Unknown engine specified.\") \n",
    "    \n",
    "    result = result.assign(month=lambda df: pd.to_datetime(df[\"month\"]))\n",
    "    val[\"result\"] = result"
   ]
  },
  {
   "cell_type": "markdown",
   "metadata": {},
   "source": [
    "# Combining and saving metrics"
   ]
  },
  {
   "cell_type": "code",
   "execution_count": 7,
   "metadata": {},
   "outputs": [],
   "source": [
    "# Assemble list of result dataframes\n",
    "results = [val[\"result\"] for _, val in queries.items()]\n",
    "\n",
    "# Merge them all, assuming that the month is the only common column\n",
    "new_metrics = reduce(lambda l, r: pd.merge(l, r, how=\"outer\"), results)\n",
    "\n",
    "# Set the month as an index so combine_first works properly\n",
    "new_metrics = new_metrics.set_index(\"month\").sort_index()\n",
    "\n",
    "# Add Metrics for Interactions\n",
    "new_metrics['gs_interactions'] = new_metrics.apply(lambda x: x['gs_previews'] + x['gs_pageviews'], axis=1)\n",
    "new_metrics['gn_interactions'] = new_metrics.apply(lambda x: x['gn_previews'] + x['gn_pageviews'], axis=1)\n"
   ]
  },
  {
   "cell_type": "code",
   "execution_count": 8,
   "metadata": {},
   "outputs": [
    {
     "data": {
      "text/html": [
       "<div>\n",
       "<style scoped>\n",
       "    .dataframe tbody tr th:only-of-type {\n",
       "        vertical-align: middle;\n",
       "    }\n",
       "\n",
       "    .dataframe tbody tr th {\n",
       "        vertical-align: top;\n",
       "    }\n",
       "\n",
       "    .dataframe thead th {\n",
       "        text-align: right;\n",
       "    }\n",
       "</style>\n",
       "<table border=\"1\" class=\"dataframe\">\n",
       "  <thead>\n",
       "    <tr style=\"text-align: right;\">\n",
       "      <th></th>\n",
       "      <th>gn_interactions</th>\n",
       "      <th>gn_pageviews</th>\n",
       "      <th>gn_previews</th>\n",
       "      <th>gs_interactions</th>\n",
       "      <th>gs_pageviews</th>\n",
       "      <th>gs_previews</th>\n",
       "    </tr>\n",
       "    <tr>\n",
       "      <th>month</th>\n",
       "      <th></th>\n",
       "      <th></th>\n",
       "      <th></th>\n",
       "      <th></th>\n",
       "      <th></th>\n",
       "      <th></th>\n",
       "    </tr>\n",
       "  </thead>\n",
       "  <tbody>\n",
       "    <tr>\n",
       "      <th>2022-04-01</th>\n",
       "      <td>1.388053e+10</td>\n",
       "      <td>1.243007e+10</td>\n",
       "      <td>1.450457e+09</td>\n",
       "      <td>4.023481e+09</td>\n",
       "      <td>3.700706e+09</td>\n",
       "      <td>322775480.0</td>\n",
       "    </tr>\n",
       "    <tr>\n",
       "      <th>2022-05-01</th>\n",
       "      <td>1.405023e+10</td>\n",
       "      <td>1.259418e+10</td>\n",
       "      <td>1.456056e+09</td>\n",
       "      <td>4.102891e+09</td>\n",
       "      <td>3.771585e+09</td>\n",
       "      <td>331305888.0</td>\n",
       "    </tr>\n",
       "    <tr>\n",
       "      <th>2022-06-01</th>\n",
       "      <td>1.315583e+10</td>\n",
       "      <td>1.184037e+10</td>\n",
       "      <td>1.315461e+09</td>\n",
       "      <td>3.923353e+09</td>\n",
       "      <td>3.613206e+09</td>\n",
       "      <td>310147238.0</td>\n",
       "    </tr>\n",
       "    <tr>\n",
       "      <th>2022-07-01</th>\n",
       "      <td>1.370182e+10</td>\n",
       "      <td>1.243396e+10</td>\n",
       "      <td>1.267863e+09</td>\n",
       "      <td>4.128744e+09</td>\n",
       "      <td>3.821433e+09</td>\n",
       "      <td>307311517.0</td>\n",
       "    </tr>\n",
       "    <tr>\n",
       "      <th>2022-08-01</th>\n",
       "      <td>1.417988e+10</td>\n",
       "      <td>1.286435e+10</td>\n",
       "      <td>1.315527e+09</td>\n",
       "      <td>4.686663e+09</td>\n",
       "      <td>4.367812e+09</td>\n",
       "      <td>318850733.0</td>\n",
       "    </tr>\n",
       "    <tr>\n",
       "      <th>2022-09-01</th>\n",
       "      <td>1.456143e+10</td>\n",
       "      <td>1.318547e+10</td>\n",
       "      <td>1.375966e+09</td>\n",
       "      <td>5.278138e+09</td>\n",
       "      <td>4.948280e+09</td>\n",
       "      <td>329857128.0</td>\n",
       "    </tr>\n",
       "    <tr>\n",
       "      <th>2022-10-01</th>\n",
       "      <td>1.509622e+10</td>\n",
       "      <td>1.368440e+10</td>\n",
       "      <td>1.411820e+09</td>\n",
       "      <td>5.367894e+09</td>\n",
       "      <td>5.040110e+09</td>\n",
       "      <td>327784326.0</td>\n",
       "    </tr>\n",
       "    <tr>\n",
       "      <th>2022-11-01</th>\n",
       "      <td>1.527185e+10</td>\n",
       "      <td>1.386750e+10</td>\n",
       "      <td>1.404349e+09</td>\n",
       "      <td>5.738306e+09</td>\n",
       "      <td>5.417234e+09</td>\n",
       "      <td>321072015.0</td>\n",
       "    </tr>\n",
       "    <tr>\n",
       "      <th>2022-12-01</th>\n",
       "      <td>1.419016e+10</td>\n",
       "      <td>1.285189e+10</td>\n",
       "      <td>1.338267e+09</td>\n",
       "      <td>4.324661e+09</td>\n",
       "      <td>4.018421e+09</td>\n",
       "      <td>306240248.0</td>\n",
       "    </tr>\n",
       "    <tr>\n",
       "      <th>2023-01-01</th>\n",
       "      <td>1.571824e+10</td>\n",
       "      <td>1.418498e+10</td>\n",
       "      <td>1.533265e+09</td>\n",
       "      <td>4.789970e+09</td>\n",
       "      <td>4.470099e+09</td>\n",
       "      <td>319871193.0</td>\n",
       "    </tr>\n",
       "  </tbody>\n",
       "</table>\n",
       "</div>"
      ],
      "text/plain": [
       "            gn_interactions  gn_pageviews   gn_previews  gs_interactions  \\\n",
       "month                                                                      \n",
       "2022-04-01  1.388053e+10     1.243007e+10  1.450457e+09  4.023481e+09      \n",
       "2022-05-01  1.405023e+10     1.259418e+10  1.456056e+09  4.102891e+09      \n",
       "2022-06-01  1.315583e+10     1.184037e+10  1.315461e+09  3.923353e+09      \n",
       "2022-07-01  1.370182e+10     1.243396e+10  1.267863e+09  4.128744e+09      \n",
       "2022-08-01  1.417988e+10     1.286435e+10  1.315527e+09  4.686663e+09      \n",
       "2022-09-01  1.456143e+10     1.318547e+10  1.375966e+09  5.278138e+09      \n",
       "2022-10-01  1.509622e+10     1.368440e+10  1.411820e+09  5.367894e+09      \n",
       "2022-11-01  1.527185e+10     1.386750e+10  1.404349e+09  5.738306e+09      \n",
       "2022-12-01  1.419016e+10     1.285189e+10  1.338267e+09  4.324661e+09      \n",
       "2023-01-01  1.571824e+10     1.418498e+10  1.533265e+09  4.789970e+09      \n",
       "\n",
       "            gs_pageviews  gs_previews  \n",
       "month                                  \n",
       "2022-04-01  3.700706e+09  322775480.0  \n",
       "2022-05-01  3.771585e+09  331305888.0  \n",
       "2022-06-01  3.613206e+09  310147238.0  \n",
       "2022-07-01  3.821433e+09  307311517.0  \n",
       "2022-08-01  4.367812e+09  318850733.0  \n",
       "2022-09-01  4.948280e+09  329857128.0  \n",
       "2022-10-01  5.040110e+09  327784326.0  \n",
       "2022-11-01  5.417234e+09  321072015.0  \n",
       "2022-12-01  4.018421e+09  306240248.0  \n",
       "2023-01-01  4.470099e+09  319871193.0  "
      ]
     },
     "metadata": {},
     "output_type": "display_data"
    }
   ],
   "source": [
    "if old_metrics is None:\n",
    "    metrics = new_metrics\n",
    "else:\n",
    "    metrics = new_metrics.combine_first(old_metrics)\n",
    "    \n",
    "pd_display_all(metrics.tail(10))"
   ]
  },
  {
   "cell_type": "code",
   "execution_count": 9,
   "metadata": {},
   "outputs": [],
   "source": [
    "metrics.to_csv(FILENAME, sep=\"\\t\")"
   ]
  },
  {
   "cell_type": "code",
   "execution_count": null,
   "metadata": {},
   "outputs": [],
   "source": []
  }
 ],
 "metadata": {
  "kernelspec": {
   "display_name": "Python 3 (ipykernel)",
   "language": "python",
   "name": "python3"
  },
  "language_info": {
   "codemirror_mode": {
    "name": "ipython",
    "version": 3
   },
   "file_extension": ".py",
   "mimetype": "text/x-python",
   "name": "python",
   "nbconvert_exporter": "python",
   "pygments_lexer": "ipython3",
   "version": "3.7.13"
  }
 },
 "nbformat": 4,
 "nbformat_minor": 4
}

{
 "cells": [
  {
   "cell_type": "code",
   "execution_count": 12,
   "metadata": {},
   "outputs": [],
   "source": [
    "import pandas as pd\n",
    "import matplotlib as mpl\n",
    "import matplotlib.pyplot as plt\n",
    "import datetime\n",
    "import os\n",
    "\n",
    "from wmfdata import charting, hive,spark"
   ]
  },
  {
   "cell_type": "code",
   "execution_count": 13,
   "metadata": {},
   "outputs": [],
   "source": [
    "# UPDATE FOR NEW MONTH!\n",
    "# Start included, end excluded.\n",
    "# Have to set the end back a couple of months to ensure we only get uncensored data.\n",
    "# To-do: We take the metric month and look backwards. But this results in censored data\n",
    "# for months under 30 days (February).\n",
    "\n",
    "#START = '2019-05'\n",
    "#END = '2019-06'\n",
    "#MWH_SNAPSHOT = '2019-07'\n",
    "\n",
    "last_month = datetime.date.today().replace(day=1) - datetime.timedelta(days=1)\n",
    "last_two_month = datetime.date.today().replace(day=1) - datetime.timedelta(days= 35)\n",
    "last_three_month = datetime.date.today().replace(day=1) - datetime.timedelta(days= 70)\n",
    "\n",
    "\n",
    "START = last_three_month.strftime(\"%Y-%m\")\n",
    "END = last_two_month.strftime(\"%Y-%m\")\n",
    "MWH_SNAPSHOT = last_month.strftime(\"%Y-%m\") # The latest available mediawiki_history snapshot"
   ]
  },
  {
   "cell_type": "code",
   "execution_count": 14,
   "metadata": {},
   "outputs": [],
   "source": [
    "%matplotlib inline\n",
    "charting.set_mpl_style()"
   ]
  },
  {
   "cell_type": "code",
   "execution_count": 15,
   "metadata": {},
   "outputs": [
    {
     "data": {
      "text/plain": [
       "'2022-01'"
      ]
     },
     "execution_count": 15,
     "metadata": {},
     "output_type": "execute_result"
    }
   ],
   "source": [
    "START"
   ]
  },
  {
   "cell_type": "markdown",
   "metadata": {},
   "source": [
    "# Update table"
   ]
  },
  {
   "cell_type": "code",
   "execution_count": 16,
   "metadata": {},
   "outputs": [],
   "source": [
    "# Create the table if necessary\n",
    "hive.run(\n",
    "\"\"\"\n",
    "CREATE EXTERNAL TABLE IF NOT EXISTS wmf_product.new_editors ( \n",
    "    `user_name` string, \n",
    "    `wiki` string, \n",
    "    `user_id` bigint, \n",
    "    `1st_month_edits` bigint, \n",
    "    `2nd_month_edits` bigint  \n",
    ") \n",
    "PARTITIONED BY (`cohort` string) \n",
    "STORED AS PARQUET\n",
    "\"\"\"\n",
    ")"
   ]
  },
  {
   "cell_type": "code",
   "execution_count": 17,
   "metadata": {
    "collapsed": true,
    "jupyter": {
     "outputs_hidden": true
    },
    "tags": []
   },
   "outputs": [
    {
     "ename": "KeyboardInterrupt",
     "evalue": "",
     "output_type": "error",
     "traceback": [
      "\u001b[0;31m---------------------------------------------------------------------------\u001b[0m",
      "\u001b[0;31mKeyboardInterrupt\u001b[0m                         Traceback (most recent call last)",
      "\u001b[0;32m<ipython-input-17-9481b46e5a29>\u001b[0m in \u001b[0;36m<module>\u001b[0;34m\u001b[0m\n\u001b[1;32m     49\u001b[0m         \u001b[0msnapshot\u001b[0m \u001b[0;34m=\u001b[0m \u001b[0mMWH_SNAPSHOT\u001b[0m\u001b[0;34m,\u001b[0m\u001b[0;34m\u001b[0m\u001b[0;34m\u001b[0m\u001b[0m\n\u001b[1;32m     50\u001b[0m         \u001b[0mstart\u001b[0m \u001b[0;34m=\u001b[0m \u001b[0mSTART\u001b[0m\u001b[0;34m,\u001b[0m\u001b[0;34m\u001b[0m\u001b[0;34m\u001b[0m\u001b[0m\n\u001b[0;32m---> 51\u001b[0;31m         \u001b[0mend\u001b[0m \u001b[0;34m=\u001b[0m \u001b[0mEND\u001b[0m\u001b[0;34m\u001b[0m\u001b[0;34m\u001b[0m\u001b[0m\n\u001b[0m\u001b[1;32m     52\u001b[0m     ))\n",
      "\u001b[0;32m/usr/lib/anaconda-wmf/lib/python3.7/site-packages/wmfdata/hive.py\u001b[0m in \u001b[0;36mrun\u001b[0;34m(commands, format, engine)\u001b[0m\n\u001b[1;32m    134\u001b[0m     \u001b[0mresult\u001b[0m \u001b[0;34m=\u001b[0m \u001b[0;32mNone\u001b[0m\u001b[0;34m\u001b[0m\u001b[0;34m\u001b[0m\u001b[0m\n\u001b[1;32m    135\u001b[0m     \u001b[0;32mif\u001b[0m \u001b[0mengine\u001b[0m \u001b[0;34m==\u001b[0m \u001b[0;34m\"cli\"\u001b[0m\u001b[0;34m:\u001b[0m\u001b[0;34m\u001b[0m\u001b[0;34m\u001b[0m\u001b[0m\n\u001b[0;32m--> 136\u001b[0;31m         \u001b[0;32mreturn\u001b[0m \u001b[0mrun_cli\u001b[0m\u001b[0;34m(\u001b[0m\u001b[0mcommands\u001b[0m\u001b[0;34m,\u001b[0m \u001b[0mformat\u001b[0m\u001b[0;34m)\u001b[0m\u001b[0;34m\u001b[0m\u001b[0;34m\u001b[0m\u001b[0m\n\u001b[0m\u001b[1;32m    137\u001b[0m \u001b[0;34m\u001b[0m\u001b[0m\n\u001b[1;32m    138\u001b[0m def load_csv(\n",
      "\u001b[0;32m/usr/lib/anaconda-wmf/lib/python3.7/site-packages/wmfdata/hive.py\u001b[0m in \u001b[0;36mrun_cli\u001b[0;34m(commands, format, heap_size, use_nice, use_ionice)\u001b[0m\n\u001b[1;32m     81\u001b[0m           \u001b[0mshell\u001b[0m\u001b[0;34m=\u001b[0m\u001b[0;32mTrue\u001b[0m\u001b[0;34m,\u001b[0m\u001b[0;34m\u001b[0m\u001b[0;34m\u001b[0m\u001b[0m\n\u001b[1;32m     82\u001b[0m           \u001b[0mstdout\u001b[0m\u001b[0;34m=\u001b[0m\u001b[0mresults_fd\u001b[0m\u001b[0;34m,\u001b[0m\u001b[0;34m\u001b[0m\u001b[0;34m\u001b[0m\u001b[0m\n\u001b[0;32m---> 83\u001b[0;31m           \u001b[0mstderr\u001b[0m\u001b[0;34m=\u001b[0m\u001b[0msubprocess\u001b[0m\u001b[0;34m.\u001b[0m\u001b[0mPIPE\u001b[0m\u001b[0;34m\u001b[0m\u001b[0;34m\u001b[0m\u001b[0m\n\u001b[0m\u001b[1;32m     84\u001b[0m         )\n\u001b[1;32m     85\u001b[0m         \u001b[0;32mif\u001b[0m \u001b[0mhive_call\u001b[0m\u001b[0;34m.\u001b[0m\u001b[0mreturncode\u001b[0m \u001b[0;34m==\u001b[0m \u001b[0;36m0\u001b[0m\u001b[0;34m:\u001b[0m\u001b[0;34m\u001b[0m\u001b[0;34m\u001b[0m\u001b[0m\n",
      "\u001b[0;32m~/.conda/envs/2021-08-13T18.21.10_iflorez/lib/python3.7/subprocess.py\u001b[0m in \u001b[0;36mrun\u001b[0;34m(input, capture_output, timeout, check, *popenargs, **kwargs)\u001b[0m\n\u001b[1;32m    488\u001b[0m     \u001b[0;32mwith\u001b[0m \u001b[0mPopen\u001b[0m\u001b[0;34m(\u001b[0m\u001b[0;34m*\u001b[0m\u001b[0mpopenargs\u001b[0m\u001b[0;34m,\u001b[0m \u001b[0;34m**\u001b[0m\u001b[0mkwargs\u001b[0m\u001b[0;34m)\u001b[0m \u001b[0;32mas\u001b[0m \u001b[0mprocess\u001b[0m\u001b[0;34m:\u001b[0m\u001b[0;34m\u001b[0m\u001b[0;34m\u001b[0m\u001b[0m\n\u001b[1;32m    489\u001b[0m         \u001b[0;32mtry\u001b[0m\u001b[0;34m:\u001b[0m\u001b[0;34m\u001b[0m\u001b[0;34m\u001b[0m\u001b[0m\n\u001b[0;32m--> 490\u001b[0;31m             \u001b[0mstdout\u001b[0m\u001b[0;34m,\u001b[0m \u001b[0mstderr\u001b[0m \u001b[0;34m=\u001b[0m \u001b[0mprocess\u001b[0m\u001b[0;34m.\u001b[0m\u001b[0mcommunicate\u001b[0m\u001b[0;34m(\u001b[0m\u001b[0minput\u001b[0m\u001b[0;34m,\u001b[0m \u001b[0mtimeout\u001b[0m\u001b[0;34m=\u001b[0m\u001b[0mtimeout\u001b[0m\u001b[0;34m)\u001b[0m\u001b[0;34m\u001b[0m\u001b[0;34m\u001b[0m\u001b[0m\n\u001b[0m\u001b[1;32m    491\u001b[0m         \u001b[0;32mexcept\u001b[0m \u001b[0mTimeoutExpired\u001b[0m \u001b[0;32mas\u001b[0m \u001b[0mexc\u001b[0m\u001b[0;34m:\u001b[0m\u001b[0;34m\u001b[0m\u001b[0;34m\u001b[0m\u001b[0m\n\u001b[1;32m    492\u001b[0m             \u001b[0mprocess\u001b[0m\u001b[0;34m.\u001b[0m\u001b[0mkill\u001b[0m\u001b[0;34m(\u001b[0m\u001b[0;34m)\u001b[0m\u001b[0;34m\u001b[0m\u001b[0;34m\u001b[0m\u001b[0m\n",
      "\u001b[0;32m~/.conda/envs/2021-08-13T18.21.10_iflorez/lib/python3.7/subprocess.py\u001b[0m in \u001b[0;36mcommunicate\u001b[0;34m(self, input, timeout)\u001b[0m\n\u001b[1;32m    952\u001b[0m                 \u001b[0mself\u001b[0m\u001b[0;34m.\u001b[0m\u001b[0mstdout\u001b[0m\u001b[0;34m.\u001b[0m\u001b[0mclose\u001b[0m\u001b[0;34m(\u001b[0m\u001b[0;34m)\u001b[0m\u001b[0;34m\u001b[0m\u001b[0;34m\u001b[0m\u001b[0m\n\u001b[1;32m    953\u001b[0m             \u001b[0;32melif\u001b[0m \u001b[0mself\u001b[0m\u001b[0;34m.\u001b[0m\u001b[0mstderr\u001b[0m\u001b[0;34m:\u001b[0m\u001b[0;34m\u001b[0m\u001b[0;34m\u001b[0m\u001b[0m\n\u001b[0;32m--> 954\u001b[0;31m                 \u001b[0mstderr\u001b[0m \u001b[0;34m=\u001b[0m \u001b[0mself\u001b[0m\u001b[0;34m.\u001b[0m\u001b[0mstderr\u001b[0m\u001b[0;34m.\u001b[0m\u001b[0mread\u001b[0m\u001b[0;34m(\u001b[0m\u001b[0;34m)\u001b[0m\u001b[0;34m\u001b[0m\u001b[0;34m\u001b[0m\u001b[0m\n\u001b[0m\u001b[1;32m    955\u001b[0m                 \u001b[0mself\u001b[0m\u001b[0;34m.\u001b[0m\u001b[0mstderr\u001b[0m\u001b[0;34m.\u001b[0m\u001b[0mclose\u001b[0m\u001b[0;34m(\u001b[0m\u001b[0;34m)\u001b[0m\u001b[0;34m\u001b[0m\u001b[0;34m\u001b[0m\u001b[0m\n\u001b[1;32m    956\u001b[0m             \u001b[0mself\u001b[0m\u001b[0;34m.\u001b[0m\u001b[0mwait\u001b[0m\u001b[0;34m(\u001b[0m\u001b[0;34m)\u001b[0m\u001b[0;34m\u001b[0m\u001b[0;34m\u001b[0m\u001b[0m\n",
      "\u001b[0;31mKeyboardInterrupt\u001b[0m: "
     ]
    }
   ],
   "source": [
    "hive.run(\n",
    "    \"\"\"\n",
    "    INSERT OVERWRITE TABLE wmf_product.new_editors\n",
    "    PARTITION(cohort= \"{start}\")\n",
    "    \n",
    "    SELECT 1st_month.user_name AS user_name,\n",
    "       1st_month.wiki AS wiki,\n",
    "       1st_month.user_id AS user_id,\n",
    "       1st_month.edits AS 1st_month_edits,\n",
    "                           coalesce(2nd_month.edits, 0) AS 2nd_month_edits\n",
    "    FROM\n",
    "      ( SELECT event_user_text AS user_name,\n",
    "               wiki_db AS wiki,\n",
    "               event_user_id AS user_id,\n",
    "               substr(event_user_creation_timestamp, 0, 7) AS cohort,\n",
    "               count(*) AS edits\n",
    "       FROM wmf.mediawiki_history\n",
    "       WHERE SNAPSHOT = \"{snapshot}\"\n",
    "         AND event_entity = \"revision\"\n",
    "         AND event_type = \"create\"\n",
    "         AND NOT event_user_is_created_by_system\n",
    "         AND event_user_creation_timestamp BETWEEN \"{start}\" and \"{end}\"\n",
    "         AND unix_timestamp(event_timestamp, \"yyyy-MM-dd HH:mm:ss.0\") < (unix_timestamp(event_user_creation_timestamp, \"yyyy-MM-dd HH:mm:ss.0\") + (30*24*60*60))\n",
    "       GROUP BY event_user_text,\n",
    "                event_user_id,\n",
    "                event_user_creation_timestamp,\n",
    "                wiki_db ) 1st_month\n",
    "    LEFT JOIN\n",
    "      ( SELECT event_user_text AS user_name,\n",
    "               wiki_db AS wiki,\n",
    "               event_user_id AS user_id,\n",
    "               substr(event_user_creation_timestamp, 0, 7) AS cohort,\n",
    "               count(*) AS edits\n",
    "       FROM wmf.mediawiki_history\n",
    "       WHERE SNAPSHOT = \"{snapshot}\"\n",
    "         AND event_entity = \"revision\"\n",
    "         AND event_type = \"create\"\n",
    "         AND NOT event_user_is_created_by_system\n",
    "         AND event_user_creation_timestamp BETWEEN \"{start}\" and \"{end}\"\n",
    "         AND unix_timestamp(event_timestamp, \"yyyy-MM-dd HH:mm:ss.0\") >= (unix_timestamp(event_user_creation_timestamp, \"yyyy-MM-dd HH:mm:ss.0\") + (30*24*60*60))\n",
    "         AND unix_timestamp(event_timestamp, \"yyyy-MM-dd HH:mm:ss.0\") < (unix_timestamp(event_user_creation_timestamp, \"yyyy-MM-dd HH:mm:ss.0\") + (60*24*60*60))\n",
    "       GROUP BY event_user_text,\n",
    "                event_user_id,\n",
    "                event_user_creation_timestamp,\n",
    "                wiki_db ) 2nd_month ON (1st_month.user_name = 2nd_month.user_name\n",
    "                                        AND 1st_month.wiki = 2nd_month.wiki\n",
    "                                        AND 1st_month.cohort = 2nd_month.cohort)\n",
    "    \"\"\".format(\n",
    "        snapshot = MWH_SNAPSHOT,\n",
    "        start = START,\n",
    "        end = END\n",
    "    ))"
   ]
  },
  {
   "cell_type": "code",
   "execution_count": null,
   "metadata": {},
   "outputs": [],
   "source": [
    "#update database access\n",
    "os.system(\"hdfs dfs -chmod -R o+r /user/hive/warehouse/wmf_product.db/new_editors\")"
   ]
  },
  {
   "cell_type": "markdown",
   "metadata": {},
   "source": [
    "# Validate"
   ]
  },
  {
   "cell_type": "code",
   "execution_count": null,
   "metadata": {},
   "outputs": [],
   "source": [
    "# Check the monthly number of rows (i.e. new editors) from four wikis to check for duplicated data.\n",
    "new_editors = hive.run(\n",
    "\"\"\"\n",
    "set hive.mapred.mode=nonstrict;\n",
    "select wiki, cohort, count(*) as new_editors\n",
    "from wmf_product.new_editors\n",
    "where wiki in (\"arwiki\", \"enwiki\", \"jawiki\", \"zhwiki\")\n",
    "group by wiki, cohort\n",
    "order by wiki, cohort asc\n",
    "limit 10000\n",
    "\"\"\"\n",
    ")\n",
    "\n",
    "new_editors = (\n",
    "    new_editors\n",
    "    .assign(cohort = lambda df: pd.to_datetime(df[\"cohort\"]))\n",
    "    .set_index(\"cohort\")\n",
    "    .pivot(columns=\"wiki\")\n",
    "    .xs(\"new_editors\", axis=1)\n",
    ")\n",
    "    \n",
    "new_editors.tail()"
   ]
  },
  {
   "cell_type": "code",
   "execution_count": null,
   "metadata": {},
   "outputs": [],
   "source": [
    "#data quality review\n",
    "new_editors.loc[\"2015-10\":, \"enwiki\"].plot()\n",
    "plt.ylim(0);"
   ]
  },
  {
   "cell_type": "code",
   "execution_count": null,
   "metadata": {},
   "outputs": [],
   "source": [
    "new_editors.loc[\"2021-05\":, \"enwiki\"].plot()\n",
    "plt.ylim(0);"
   ]
  },
  {
   "cell_type": "code",
   "execution_count": null,
   "metadata": {},
   "outputs": [],
   "source": [
    "new_editors.loc[\"2015-10\":, [\"arwiki\", \"jawiki\", \"zhwiki\"]].plot()\n",
    "plt.ylim(0);"
   ]
  },
  {
   "cell_type": "code",
   "execution_count": null,
   "metadata": {},
   "outputs": [],
   "source": []
  },
  {
   "cell_type": "code",
   "execution_count": null,
   "metadata": {},
   "outputs": [],
   "source": []
  }
 ],
 "metadata": {
  "kernelspec": {
   "display_name": "Python 3",
   "language": "python",
   "name": "python3"
  },
  "language_info": {
   "codemirror_mode": {
    "name": "ipython",
    "version": 3
   },
   "file_extension": ".py",
   "mimetype": "text/x-python",
   "name": "python",
   "nbconvert_exporter": "python",
   "pygments_lexer": "ipython3",
   "version": "3.7.10"
  }
 },
 "nbformat": 4,
 "nbformat_minor": 4
}

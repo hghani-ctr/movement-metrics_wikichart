{
 "cells": [
  {
   "cell_type": "markdown",
   "metadata": {},
   "source": [
    "## Visualization"
   ]
  },
  {
   "cell_type": "code",
   "execution_count": 1,
   "metadata": {},
   "outputs": [],
   "source": [
    "shhh <- function(expr) suppressPackageStartupMessages(suppressWarnings(suppressMessages(expr)))\n",
    "shhh({\n",
    "    library(magrittr); library(zeallot); library(glue);  library(glue); library(lubridate)\n",
    "    library(scales); library(RColorBrewer); library(dplyr); library(tidyr); library(ggplot2)\n",
    "    library(ggthemes); library(polloi)\n",
    "})"
   ]
  },
  {
   "cell_type": "code",
   "execution_count": 2,
   "metadata": {},
   "outputs": [],
   "source": [
    "file <- \"metrics/metrics.tsv\"\n",
    "pageview <- read.csv(file, sep = '\\t')\n",
    "pageview$month <- as.Date(pageview$month, format = \"%Y-%m-%d\")"
   ]
  },
  {
   "cell_type": "code",
   "execution_count": 3,
   "metadata": {},
   "outputs": [
    {
     "data": {
      "text/html": [
       "<table class=\"dataframe\">\n",
       "<caption>A data.frame: 6 × 14</caption>\n",
       "<thead>\n",
       "\t<tr><th></th><th scope=col>month</th><th scope=col>automated_pageviews</th><th scope=col>desktop</th><th scope=col>gs_interactions</th><th scope=col>gs_pageviews</th><th scope=col>gs_previews</th><th scope=col>interactions</th><th scope=col>mh_interactions</th><th scope=col>mh_pageviews</th><th scope=col>mh_previews</th><th scope=col>mobileweb</th><th scope=col>previews_seen</th><th scope=col>total_pageview</th><th scope=col>unique_devices</th></tr>\n",
       "\t<tr><th></th><th scope=col>&lt;date&gt;</th><th scope=col>&lt;dbl&gt;</th><th scope=col>&lt;dbl&gt;</th><th scope=col>&lt;dbl&gt;</th><th scope=col>&lt;dbl&gt;</th><th scope=col>&lt;dbl&gt;</th><th scope=col>&lt;dbl&gt;</th><th scope=col>&lt;dbl&gt;</th><th scope=col>&lt;dbl&gt;</th><th scope=col>&lt;dbl&gt;</th><th scope=col>&lt;dbl&gt;</th><th scope=col>&lt;dbl&gt;</th><th scope=col>&lt;dbl&gt;</th><th scope=col>&lt;dbl&gt;</th></tr>\n",
       "</thead>\n",
       "<tbody>\n",
       "\t<tr><th scope=row>1</th><td>2016-07-01</td><td>NA</td><td>7319709535</td><td>NA</td><td>        NA</td><td>NA</td><td>NA</td><td>NA</td><td>       NA</td><td>NA</td><td>6951477838</td><td>NA</td><td>14479097793</td><td>NA</td></tr>\n",
       "\t<tr><th scope=row>2</th><td>2016-08-01</td><td>NA</td><td>7808198322</td><td>NA</td><td>        NA</td><td>NA</td><td>NA</td><td>NA</td><td>       NA</td><td>NA</td><td>7158465508</td><td>NA</td><td>15164063733</td><td>NA</td></tr>\n",
       "\t<tr><th scope=row>3</th><td>2016-09-01</td><td>NA</td><td>8015803318</td><td>NA</td><td>3509314705</td><td>NA</td><td>NA</td><td>NA</td><td>482166702</td><td>NA</td><td>7037821889</td><td>NA</td><td>15227361307</td><td>NA</td></tr>\n",
       "\t<tr><th scope=row>4</th><td>2016-10-01</td><td>NA</td><td>8597813074</td><td>NA</td><td>3649168724</td><td>NA</td><td>NA</td><td>NA</td><td>584002147</td><td>NA</td><td>7454268064</td><td>NA</td><td>16205992870</td><td>NA</td></tr>\n",
       "\t<tr><th scope=row>5</th><td>2016-11-01</td><td>NA</td><td>8756368629</td><td>NA</td><td>3682761207</td><td>NA</td><td>NA</td><td>NA</td><td>639332261</td><td>NA</td><td>7568847051</td><td>NA</td><td>16499874726</td><td>NA</td></tr>\n",
       "\t<tr><th scope=row>6</th><td>2016-12-01</td><td>NA</td><td>8140608026</td><td>NA</td><td>3397813382</td><td>NA</td><td>NA</td><td>NA</td><td>566587960</td><td>NA</td><td>7623805561</td><td>NA</td><td>15964600507</td><td>NA</td></tr>\n",
       "</tbody>\n",
       "</table>\n"
      ],
      "text/latex": [
       "A data.frame: 6 × 14\n",
       "\\begin{tabular}{r|llllllllllllll}\n",
       "  & month & automated\\_pageviews & desktop & gs\\_interactions & gs\\_pageviews & gs\\_previews & interactions & mh\\_interactions & mh\\_pageviews & mh\\_previews & mobileweb & previews\\_seen & total\\_pageview & unique\\_devices\\\\\n",
       "  & <date> & <dbl> & <dbl> & <dbl> & <dbl> & <dbl> & <dbl> & <dbl> & <dbl> & <dbl> & <dbl> & <dbl> & <dbl> & <dbl>\\\\\n",
       "\\hline\n",
       "\t1 & 2016-07-01 & NA & 7319709535 & NA &         NA & NA & NA & NA &        NA & NA & 6951477838 & NA & 14479097793 & NA\\\\\n",
       "\t2 & 2016-08-01 & NA & 7808198322 & NA &         NA & NA & NA & NA &        NA & NA & 7158465508 & NA & 15164063733 & NA\\\\\n",
       "\t3 & 2016-09-01 & NA & 8015803318 & NA & 3509314705 & NA & NA & NA & 482166702 & NA & 7037821889 & NA & 15227361307 & NA\\\\\n",
       "\t4 & 2016-10-01 & NA & 8597813074 & NA & 3649168724 & NA & NA & NA & 584002147 & NA & 7454268064 & NA & 16205992870 & NA\\\\\n",
       "\t5 & 2016-11-01 & NA & 8756368629 & NA & 3682761207 & NA & NA & NA & 639332261 & NA & 7568847051 & NA & 16499874726 & NA\\\\\n",
       "\t6 & 2016-12-01 & NA & 8140608026 & NA & 3397813382 & NA & NA & NA & 566587960 & NA & 7623805561 & NA & 15964600507 & NA\\\\\n",
       "\\end{tabular}\n"
      ],
      "text/markdown": [
       "\n",
       "A data.frame: 6 × 14\n",
       "\n",
       "| <!--/--> | month &lt;date&gt; | automated_pageviews &lt;dbl&gt; | desktop &lt;dbl&gt; | gs_interactions &lt;dbl&gt; | gs_pageviews &lt;dbl&gt; | gs_previews &lt;dbl&gt; | interactions &lt;dbl&gt; | mh_interactions &lt;dbl&gt; | mh_pageviews &lt;dbl&gt; | mh_previews &lt;dbl&gt; | mobileweb &lt;dbl&gt; | previews_seen &lt;dbl&gt; | total_pageview &lt;dbl&gt; | unique_devices &lt;dbl&gt; |\n",
       "|---|---|---|---|---|---|---|---|---|---|---|---|---|---|---|\n",
       "| 1 | 2016-07-01 | NA | 7319709535 | NA |         NA | NA | NA | NA |        NA | NA | 6951477838 | NA | 14479097793 | NA |\n",
       "| 2 | 2016-08-01 | NA | 7808198322 | NA |         NA | NA | NA | NA |        NA | NA | 7158465508 | NA | 15164063733 | NA |\n",
       "| 3 | 2016-09-01 | NA | 8015803318 | NA | 3509314705 | NA | NA | NA | 482166702 | NA | 7037821889 | NA | 15227361307 | NA |\n",
       "| 4 | 2016-10-01 | NA | 8597813074 | NA | 3649168724 | NA | NA | NA | 584002147 | NA | 7454268064 | NA | 16205992870 | NA |\n",
       "| 5 | 2016-11-01 | NA | 8756368629 | NA | 3682761207 | NA | NA | NA | 639332261 | NA | 7568847051 | NA | 16499874726 | NA |\n",
       "| 6 | 2016-12-01 | NA | 8140608026 | NA | 3397813382 | NA | NA | NA | 566587960 | NA | 7623805561 | NA | 15964600507 | NA |\n",
       "\n"
      ],
      "text/plain": [
       "  month      automated_pageviews desktop    gs_interactions gs_pageviews\n",
       "1 2016-07-01 NA                  7319709535 NA                      NA  \n",
       "2 2016-08-01 NA                  7808198322 NA                      NA  \n",
       "3 2016-09-01 NA                  8015803318 NA              3509314705  \n",
       "4 2016-10-01 NA                  8597813074 NA              3649168724  \n",
       "5 2016-11-01 NA                  8756368629 NA              3682761207  \n",
       "6 2016-12-01 NA                  8140608026 NA              3397813382  \n",
       "  gs_previews interactions mh_interactions mh_pageviews mh_previews mobileweb \n",
       "1 NA          NA           NA                     NA    NA          6951477838\n",
       "2 NA          NA           NA                     NA    NA          7158465508\n",
       "3 NA          NA           NA              482166702    NA          7037821889\n",
       "4 NA          NA           NA              584002147    NA          7454268064\n",
       "5 NA          NA           NA              639332261    NA          7568847051\n",
       "6 NA          NA           NA              566587960    NA          7623805561\n",
       "  previews_seen total_pageview unique_devices\n",
       "1 NA            14479097793    NA            \n",
       "2 NA            15164063733    NA            \n",
       "3 NA            15227361307    NA            \n",
       "4 NA            16205992870    NA            \n",
       "5 NA            16499874726    NA            \n",
       "6 NA            15964600507    NA            "
      ]
     },
     "metadata": {},
     "output_type": "display_data"
    }
   ],
   "source": [
    "head(pageview)"
   ]
  },
  {
   "cell_type": "code",
   "execution_count": 4,
   "metadata": {},
   "outputs": [
    {
     "data": {
      "text/html": [
       "<table class=\"dataframe\">\n",
       "<caption>A data.frame: 6 × 14</caption>\n",
       "<thead>\n",
       "\t<tr><th></th><th scope=col>month</th><th scope=col>automated_pageviews</th><th scope=col>desktop</th><th scope=col>gs_interactions</th><th scope=col>gs_pageviews</th><th scope=col>gs_previews</th><th scope=col>interactions</th><th scope=col>mh_interactions</th><th scope=col>mh_pageviews</th><th scope=col>mh_previews</th><th scope=col>mobileweb</th><th scope=col>previews_seen</th><th scope=col>total_pageview</th><th scope=col>unique_devices</th></tr>\n",
       "\t<tr><th></th><th scope=col>&lt;date&gt;</th><th scope=col>&lt;dbl&gt;</th><th scope=col>&lt;dbl&gt;</th><th scope=col>&lt;dbl&gt;</th><th scope=col>&lt;dbl&gt;</th><th scope=col>&lt;dbl&gt;</th><th scope=col>&lt;dbl&gt;</th><th scope=col>&lt;dbl&gt;</th><th scope=col>&lt;dbl&gt;</th><th scope=col>&lt;dbl&gt;</th><th scope=col>&lt;dbl&gt;</th><th scope=col>&lt;dbl&gt;</th><th scope=col>&lt;dbl&gt;</th><th scope=col>&lt;dbl&gt;</th></tr>\n",
       "</thead>\n",
       "<tbody>\n",
       "\t<tr><th scope=row>64</th><td>2021-10-01</td><td> 901158808</td><td>6513036102</td><td>4356291999</td><td>3973495245</td><td>382796754</td><td>18360031885</td><td>NA</td><td>NA</td><td>NA</td><td> 9701242496</td><td>1872863674</td><td>16487168211</td><td>1837564335</td></tr>\n",
       "\t<tr><th scope=row>65</th><td>2021-11-01</td><td> 881050513</td><td>6420327046</td><td>4247671454</td><td>3868069777</td><td>379601677</td><td>17768512101</td><td>NA</td><td>NA</td><td>NA</td><td> 9209694162</td><td>1880481379</td><td>15888030722</td><td>1730051225</td></tr>\n",
       "\t<tr><th scope=row>66</th><td>2021-12-01</td><td> 955616294</td><td>5997304911</td><td>4053081990</td><td>3699153841</td><td>353928149</td><td>17629126726</td><td>NA</td><td>NA</td><td>NA</td><td> 9545437010</td><td>1802475579</td><td>15826651147</td><td>1728498807</td></tr>\n",
       "\t<tr><th scope=row>67</th><td>2022-01-01</td><td>1003626771</td><td>6657032289</td><td>4237581175</td><td>3860723508</td><td>376857667</td><td>19401297429</td><td>NA</td><td>NA</td><td>NA</td><td>10371244452</td><td>2058829668</td><td>17342467761</td><td>1775062017</td></tr>\n",
       "\t<tr><th scope=row>68</th><td>2022-02-01</td><td> 979406965</td><td>6381498663</td><td>4110316297</td><td>3767028146</td><td>343288151</td><td>17874089603</td><td>NA</td><td>NA</td><td>NA</td><td> 9383265529</td><td>1833566161</td><td>16040523442</td><td>1827453153</td></tr>\n",
       "\t<tr><th scope=row>69</th><td>2022-03-01</td><td>1000022585</td><td>6820776330</td><td>4407956608</td><td>4051236286</td><td>356720322</td><td>18950017723</td><td>NA</td><td>NA</td><td>NA</td><td> 9870968780</td><td>1967056255</td><td>16982961468</td><td>1957129624</td></tr>\n",
       "</tbody>\n",
       "</table>\n"
      ],
      "text/latex": [
       "A data.frame: 6 × 14\n",
       "\\begin{tabular}{r|llllllllllllll}\n",
       "  & month & automated\\_pageviews & desktop & gs\\_interactions & gs\\_pageviews & gs\\_previews & interactions & mh\\_interactions & mh\\_pageviews & mh\\_previews & mobileweb & previews\\_seen & total\\_pageview & unique\\_devices\\\\\n",
       "  & <date> & <dbl> & <dbl> & <dbl> & <dbl> & <dbl> & <dbl> & <dbl> & <dbl> & <dbl> & <dbl> & <dbl> & <dbl> & <dbl>\\\\\n",
       "\\hline\n",
       "\t64 & 2021-10-01 &  901158808 & 6513036102 & 4356291999 & 3973495245 & 382796754 & 18360031885 & NA & NA & NA &  9701242496 & 1872863674 & 16487168211 & 1837564335\\\\\n",
       "\t65 & 2021-11-01 &  881050513 & 6420327046 & 4247671454 & 3868069777 & 379601677 & 17768512101 & NA & NA & NA &  9209694162 & 1880481379 & 15888030722 & 1730051225\\\\\n",
       "\t66 & 2021-12-01 &  955616294 & 5997304911 & 4053081990 & 3699153841 & 353928149 & 17629126726 & NA & NA & NA &  9545437010 & 1802475579 & 15826651147 & 1728498807\\\\\n",
       "\t67 & 2022-01-01 & 1003626771 & 6657032289 & 4237581175 & 3860723508 & 376857667 & 19401297429 & NA & NA & NA & 10371244452 & 2058829668 & 17342467761 & 1775062017\\\\\n",
       "\t68 & 2022-02-01 &  979406965 & 6381498663 & 4110316297 & 3767028146 & 343288151 & 17874089603 & NA & NA & NA &  9383265529 & 1833566161 & 16040523442 & 1827453153\\\\\n",
       "\t69 & 2022-03-01 & 1000022585 & 6820776330 & 4407956608 & 4051236286 & 356720322 & 18950017723 & NA & NA & NA &  9870968780 & 1967056255 & 16982961468 & 1957129624\\\\\n",
       "\\end{tabular}\n"
      ],
      "text/markdown": [
       "\n",
       "A data.frame: 6 × 14\n",
       "\n",
       "| <!--/--> | month &lt;date&gt; | automated_pageviews &lt;dbl&gt; | desktop &lt;dbl&gt; | gs_interactions &lt;dbl&gt; | gs_pageviews &lt;dbl&gt; | gs_previews &lt;dbl&gt; | interactions &lt;dbl&gt; | mh_interactions &lt;dbl&gt; | mh_pageviews &lt;dbl&gt; | mh_previews &lt;dbl&gt; | mobileweb &lt;dbl&gt; | previews_seen &lt;dbl&gt; | total_pageview &lt;dbl&gt; | unique_devices &lt;dbl&gt; |\n",
       "|---|---|---|---|---|---|---|---|---|---|---|---|---|---|---|\n",
       "| 64 | 2021-10-01 |  901158808 | 6513036102 | 4356291999 | 3973495245 | 382796754 | 18360031885 | NA | NA | NA |  9701242496 | 1872863674 | 16487168211 | 1837564335 |\n",
       "| 65 | 2021-11-01 |  881050513 | 6420327046 | 4247671454 | 3868069777 | 379601677 | 17768512101 | NA | NA | NA |  9209694162 | 1880481379 | 15888030722 | 1730051225 |\n",
       "| 66 | 2021-12-01 |  955616294 | 5997304911 | 4053081990 | 3699153841 | 353928149 | 17629126726 | NA | NA | NA |  9545437010 | 1802475579 | 15826651147 | 1728498807 |\n",
       "| 67 | 2022-01-01 | 1003626771 | 6657032289 | 4237581175 | 3860723508 | 376857667 | 19401297429 | NA | NA | NA | 10371244452 | 2058829668 | 17342467761 | 1775062017 |\n",
       "| 68 | 2022-02-01 |  979406965 | 6381498663 | 4110316297 | 3767028146 | 343288151 | 17874089603 | NA | NA | NA |  9383265529 | 1833566161 | 16040523442 | 1827453153 |\n",
       "| 69 | 2022-03-01 | 1000022585 | 6820776330 | 4407956608 | 4051236286 | 356720322 | 18950017723 | NA | NA | NA |  9870968780 | 1967056255 | 16982961468 | 1957129624 |\n",
       "\n"
      ],
      "text/plain": [
       "   month      automated_pageviews desktop    gs_interactions gs_pageviews\n",
       "64 2021-10-01  901158808          6513036102 4356291999      3973495245  \n",
       "65 2021-11-01  881050513          6420327046 4247671454      3868069777  \n",
       "66 2021-12-01  955616294          5997304911 4053081990      3699153841  \n",
       "67 2022-01-01 1003626771          6657032289 4237581175      3860723508  \n",
       "68 2022-02-01  979406965          6381498663 4110316297      3767028146  \n",
       "69 2022-03-01 1000022585          6820776330 4407956608      4051236286  \n",
       "   gs_previews interactions mh_interactions mh_pageviews mh_previews\n",
       "64 382796754   18360031885  NA              NA           NA         \n",
       "65 379601677   17768512101  NA              NA           NA         \n",
       "66 353928149   17629126726  NA              NA           NA         \n",
       "67 376857667   19401297429  NA              NA           NA         \n",
       "68 343288151   17874089603  NA              NA           NA         \n",
       "69 356720322   18950017723  NA              NA           NA         \n",
       "   mobileweb   previews_seen total_pageview unique_devices\n",
       "64  9701242496 1872863674    16487168211    1837564335    \n",
       "65  9209694162 1880481379    15888030722    1730051225    \n",
       "66  9545437010 1802475579    15826651147    1728498807    \n",
       "67 10371244452 2058829668    17342467761    1775062017    \n",
       "68  9383265529 1833566161    16040523442    1827453153    \n",
       "69  9870968780 1967056255    16982961468    1957129624    "
      ]
     },
     "metadata": {},
     "output_type": "display_data"
    }
   ],
   "source": [
    "tail(pageview)"
   ]
  },
  {
   "cell_type": "markdown",
   "metadata": {},
   "source": [
    "### Pageviews Interactions "
   ]
  },
  {
   "cell_type": "code",
   "execution_count": 5,
   "metadata": {},
   "outputs": [],
   "source": [
    "pageview_fy <- pageview %>% \n",
    "     select(month,total_pageview,previews_seen) %>%\n",
    "     mutate(previews_seen = replace_na(previews_seen, 0)) %>%\n",
    "     mutate(interactions = total_pageview+previews_seen) %>%\n",
    "     filter(month >= '2019-07-01') %>%\n",
    "     mutate(fiscal_year = ifelse(month >= '2019-07-01' & month < '2020-07-01', 'FY 2019/20', ifelse(month <'2019-07-01','FY 2018/19',ifelse(month <'2021-07-01','FY 2020/21','FY 2021/22'))),\n",
    "           MonthN =as.factor(format(as.Date(month),\"%m\")),\n",
    "         Month = months(as.Date(month), abbreviate=TRUE))\n",
    "\n",
    "pageview_fy$MonthN = factor(pageview_fy$MonthN, levels=c(\"07\",\"08\", \"09\", \"10\", \"11\", \"12\", \"01\", \"02\", \"03\", \"04\", \"05\", \"06\"))"
   ]
  },
  {
   "cell_type": "code",
   "execution_count": 6,
   "metadata": {},
   "outputs": [
    {
     "data": {
      "text/html": [
       "<table class=\"dataframe\">\n",
       "<caption>A data.frame: 6 × 7</caption>\n",
       "<thead>\n",
       "\t<tr><th></th><th scope=col>month</th><th scope=col>total_pageview</th><th scope=col>previews_seen</th><th scope=col>interactions</th><th scope=col>fiscal_year</th><th scope=col>MonthN</th><th scope=col>Month</th></tr>\n",
       "\t<tr><th></th><th scope=col>&lt;date&gt;</th><th scope=col>&lt;dbl&gt;</th><th scope=col>&lt;dbl&gt;</th><th scope=col>&lt;dbl&gt;</th><th scope=col>&lt;chr&gt;</th><th scope=col>&lt;fct&gt;</th><th scope=col>&lt;chr&gt;</th></tr>\n",
       "</thead>\n",
       "<tbody>\n",
       "\t<tr><th scope=row>28</th><td>2021-10-01</td><td>16487168211</td><td>1872863674</td><td>18360031885</td><td>FY 2021/22</td><td>10</td><td>Oct</td></tr>\n",
       "\t<tr><th scope=row>29</th><td>2021-11-01</td><td>15888030722</td><td>1880481379</td><td>17768512101</td><td>FY 2021/22</td><td>11</td><td>Nov</td></tr>\n",
       "\t<tr><th scope=row>30</th><td>2021-12-01</td><td>15826651147</td><td>1802475579</td><td>17629126726</td><td>FY 2021/22</td><td>12</td><td>Dec</td></tr>\n",
       "\t<tr><th scope=row>31</th><td>2022-01-01</td><td>17342467761</td><td>2058829668</td><td>19401297429</td><td>FY 2021/22</td><td>01</td><td>Jan</td></tr>\n",
       "\t<tr><th scope=row>32</th><td>2022-02-01</td><td>16040523442</td><td>1833566161</td><td>17874089603</td><td>FY 2021/22</td><td>02</td><td>Feb</td></tr>\n",
       "\t<tr><th scope=row>33</th><td>2022-03-01</td><td>16982961468</td><td>1967056255</td><td>18950017723</td><td>FY 2021/22</td><td>03</td><td>Mar</td></tr>\n",
       "</tbody>\n",
       "</table>\n"
      ],
      "text/latex": [
       "A data.frame: 6 × 7\n",
       "\\begin{tabular}{r|lllllll}\n",
       "  & month & total\\_pageview & previews\\_seen & interactions & fiscal\\_year & MonthN & Month\\\\\n",
       "  & <date> & <dbl> & <dbl> & <dbl> & <chr> & <fct> & <chr>\\\\\n",
       "\\hline\n",
       "\t28 & 2021-10-01 & 16487168211 & 1872863674 & 18360031885 & FY 2021/22 & 10 & Oct\\\\\n",
       "\t29 & 2021-11-01 & 15888030722 & 1880481379 & 17768512101 & FY 2021/22 & 11 & Nov\\\\\n",
       "\t30 & 2021-12-01 & 15826651147 & 1802475579 & 17629126726 & FY 2021/22 & 12 & Dec\\\\\n",
       "\t31 & 2022-01-01 & 17342467761 & 2058829668 & 19401297429 & FY 2021/22 & 01 & Jan\\\\\n",
       "\t32 & 2022-02-01 & 16040523442 & 1833566161 & 17874089603 & FY 2021/22 & 02 & Feb\\\\\n",
       "\t33 & 2022-03-01 & 16982961468 & 1967056255 & 18950017723 & FY 2021/22 & 03 & Mar\\\\\n",
       "\\end{tabular}\n"
      ],
      "text/markdown": [
       "\n",
       "A data.frame: 6 × 7\n",
       "\n",
       "| <!--/--> | month &lt;date&gt; | total_pageview &lt;dbl&gt; | previews_seen &lt;dbl&gt; | interactions &lt;dbl&gt; | fiscal_year &lt;chr&gt; | MonthN &lt;fct&gt; | Month &lt;chr&gt; |\n",
       "|---|---|---|---|---|---|---|---|\n",
       "| 28 | 2021-10-01 | 16487168211 | 1872863674 | 18360031885 | FY 2021/22 | 10 | Oct |\n",
       "| 29 | 2021-11-01 | 15888030722 | 1880481379 | 17768512101 | FY 2021/22 | 11 | Nov |\n",
       "| 30 | 2021-12-01 | 15826651147 | 1802475579 | 17629126726 | FY 2021/22 | 12 | Dec |\n",
       "| 31 | 2022-01-01 | 17342467761 | 2058829668 | 19401297429 | FY 2021/22 | 01 | Jan |\n",
       "| 32 | 2022-02-01 | 16040523442 | 1833566161 | 17874089603 | FY 2021/22 | 02 | Feb |\n",
       "| 33 | 2022-03-01 | 16982961468 | 1967056255 | 18950017723 | FY 2021/22 | 03 | Mar |\n",
       "\n"
      ],
      "text/plain": [
       "   month      total_pageview previews_seen interactions fiscal_year MonthN\n",
       "28 2021-10-01 16487168211    1872863674    18360031885  FY 2021/22  10    \n",
       "29 2021-11-01 15888030722    1880481379    17768512101  FY 2021/22  11    \n",
       "30 2021-12-01 15826651147    1802475579    17629126726  FY 2021/22  12    \n",
       "31 2022-01-01 17342467761    2058829668    19401297429  FY 2021/22  01    \n",
       "32 2022-02-01 16040523442    1833566161    17874089603  FY 2021/22  02    \n",
       "33 2022-03-01 16982961468    1967056255    18950017723  FY 2021/22  03    \n",
       "   Month\n",
       "28 Oct  \n",
       "29 Nov  \n",
       "30 Dec  \n",
       "31 Jan  \n",
       "32 Feb  \n",
       "33 Mar  "
      ]
     },
     "metadata": {},
     "output_type": "display_data"
    }
   ],
   "source": [
    "tail(pageview_fy)"
   ]
  },
  {
   "cell_type": "code",
   "execution_count": null,
   "metadata": {},
   "outputs": [],
   "source": [
    "options(repr.plot.width = 16, repr.plot.height = 8)\n",
    "\n",
    "p<- pageview_fy %>%\n",
    "    ggplot(aes(x = MonthN)) +\n",
    "    geom_line(aes(x = MonthN, y = interactions, group=fiscal_year, color = fiscal_year,size=fiscal_year,linetype = fiscal_year)) +\n",
    "    geom_point(data=pageview_fy[(pageview_fy$fiscal_year ==\"FY 2021/22\"),],aes(x=MonthN, y=interactions, group=fiscal_year, color = fiscal_year),size = 5,color =\"#2a4b8d\")+\n",
    "\n",
    "    scale_linetype_manual(values=c(\"twodash\", \"dashed\",\"solid\")) +\n",
    "    scale_size_manual(values = c(1.3,1.5,2.5)) +\n",
    "    scale_color_manual(values = c(\"FY 2019/20\"= \"#b1c4eb\", \"FY 2020/21\" = \"#3366cc\",\"FY 2021/22\" = \"#2a4b8d\")) +\n",
    "   # geom_vline(xintercept = 10, linetype = \"dashed\", color = \"gray20\") +\n",
    "   # geom_text(aes(x=10, y=16.8E9, label=\"Page previews deployment (April 2018)\"), size=5, vjust = -1, angle = 90, color = \"gray20\") +\n",
    "   # geom_text(aes(x=10, y=16.8E9, label=\"China block all Wikipedias (April 2019)\"), size=5, vjust = 1.5, angle = 90, color = \"#b32424\") +\n",
    "    scale_x_discrete(\"Month\",\n",
    "                      breaks = pageview_fy$MonthN, \n",
    "                     labels = pageview_fy$Month) +\n",
    "    scale_y_continuous(\"Content Interactions per Month (billions)\",\n",
    "                       labels = polloi::compress,\n",
    "                       limits = c(13E9, 23E9)) +\n",
    "    ggthemes::theme_tufte(base_size = 16,base_family = \"serif\") +\n",
    "    theme(axis.title.x=element_blank(),\n",
    "         axis.text.x=element_text( hjust = 0,size = 17,family=\"Courier\"),\n",
    "           axis.text.y=element_text( hjust = 0,size = 21,family=\"Courier\"),\n",
    "          panel.grid = element_line(\"gray80\"),\n",
    "          plot.title = element_text(size = 20,hjust = 0,face= \"bold\"),\n",
    "          axis.title=element_text(size=17,hjust = 0.5,vjust = -12),\n",
    "          legend.position = \"right\", \n",
    "          panel.grid.minor.y = element_blank(),\n",
    "          legend.title = element_blank(),\n",
    "          legend.text =element_text( hjust = 0.5,size = 13),\n",
    "          legend.key.width=unit(1.5,\"cm\"))\n",
    "  p"
   ]
  },
  {
   "cell_type": "code",
   "execution_count": null,
   "metadata": {},
   "outputs": [],
   "source": [
    "# Removed Interactions Bar - line chart as it is not used anymore"
   ]
  },
  {
   "cell_type": "code",
   "execution_count": null,
   "metadata": {},
   "outputs": [],
   "source": []
  }
 ],
 "metadata": {
  "kernelspec": {
   "display_name": "R",
   "language": "R",
   "name": "ir"
  },
  "language_info": {
   "codemirror_mode": "r",
   "file_extension": ".r",
   "mimetype": "text/x-r-source",
   "name": "R",
   "pygments_lexer": "r",
   "version": "3.6.1"
  }
 },
 "nbformat": 4,
 "nbformat_minor": 4
}

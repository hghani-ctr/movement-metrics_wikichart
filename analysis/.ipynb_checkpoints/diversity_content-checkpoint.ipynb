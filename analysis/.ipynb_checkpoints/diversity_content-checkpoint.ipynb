{
 "cells": [
  {
   "cell_type": "code",
   "execution_count": 1,
   "metadata": {},
   "outputs": [
    {
     "name": "stderr",
     "output_type": "stream",
     "text": [
      "You can find the source for `wmfdata` at https://github.com/neilpquinn/wmfdata\n"
     ]
    }
   ],
   "source": [
    "from functools import reduce\n",
    "from pathlib import Path\n",
    "import time\n",
    "import datetime\n",
    "\n",
    "import pandas as pd\n",
    "import requests\n",
    "from wmfdata import hive\n",
    "from wmfdata.utils import print_err, pd_display_all"
   ]
  },
  {
   "cell_type": "markdown",
   "metadata": {},
   "source": [
    "### NET NEW CONTENT BY COUNTRY GROUP "
   ]
  },
  {
   "cell_type": "code",
   "execution_count": 2,
   "metadata": {},
   "outputs": [
    {
     "data": {
      "text/html": [
       "<div>\n",
       "<style scoped>\n",
       "    .dataframe tbody tr th:only-of-type {\n",
       "        vertical-align: middle;\n",
       "    }\n",
       "\n",
       "    .dataframe tbody tr th {\n",
       "        vertical-align: top;\n",
       "    }\n",
       "\n",
       "    .dataframe thead th {\n",
       "        text-align: right;\n",
       "    }\n",
       "</style>\n",
       "<table border=\"1\" class=\"dataframe\">\n",
       "  <thead>\n",
       "    <tr style=\"text-align: right;\">\n",
       "      <th></th>\n",
       "      <th>economic_region</th>\n",
       "      <th>_c1</th>\n",
       "    </tr>\n",
       "  </thead>\n",
       "  <tbody>\n",
       "    <tr>\n",
       "      <th>0</th>\n",
       "      <td>None</td>\n",
       "      <td>16657</td>\n",
       "    </tr>\n",
       "    <tr>\n",
       "      <th>1</th>\n",
       "      <td>unknown</td>\n",
       "      <td>3638097</td>\n",
       "    </tr>\n",
       "    <tr>\n",
       "      <th>2</th>\n",
       "      <td>Global North</td>\n",
       "      <td>2549815</td>\n",
       "    </tr>\n",
       "    <tr>\n",
       "      <th>3</th>\n",
       "      <td>Global South</td>\n",
       "      <td>997375</td>\n",
       "    </tr>\n",
       "  </tbody>\n",
       "</table>\n",
       "</div>"
      ],
      "text/plain": [
       "  economic_region      _c1\n",
       "0            None    16657\n",
       "1         unknown  3638097\n",
       "2    Global North  2549815\n",
       "3    Global South   997375"
      ]
     },
     "execution_count": 2,
     "metadata": {},
     "output_type": "execute_result"
    }
   ],
   "source": [
    "hive.run(\"\"\"\n",
    "select \n",
    "    cdc.economic_region,\n",
    "    count(distinct(page_id)) \n",
    "from  wmf.mediawiki_history ne\n",
    " left join wmf.editors_daily gd\n",
    "    on\n",
    "        ne.event_user_id = gd.user_fingerprint_or_id and\n",
    "        ne.wiki_db = gd.wiki_db and\n",
    "        gd.month = '2020-01'\n",
    "    left join canonical_data.countries cdc\n",
    "    on gd.country_code = cdc.iso_code\n",
    "where \n",
    " event_entity = 'page' AND\n",
    "    event_type = 'create' AND\n",
    "    event_timestamp IS NOT NULL AND \n",
    "    snapshot = '2020-01' AND \n",
    "    event_timestamp between \"2020-01-01\" and \"2020-02-01\" AND\n",
    "    --NOT page_is_deleted AND \n",
    "    page_namespace_is_content AND \n",
    "   -- page_namespace_is_content_historical AND \n",
    "    NOT page_is_redirect \n",
    "GROUP BY cdc.economic_region\"\"\"\n",
    "        )"
   ]
  },
  {
   "cell_type": "markdown",
   "metadata": {},
   "source": [
    "### NET NEW WIKIDATA ENTITES BY COUNTRY GROUP"
   ]
  },
  {
   "cell_type": "code",
   "execution_count": 3,
   "metadata": {},
   "outputs": [
    {
     "data": {
      "text/html": [
       "<div>\n",
       "<style scoped>\n",
       "    .dataframe tbody tr th:only-of-type {\n",
       "        vertical-align: middle;\n",
       "    }\n",
       "\n",
       "    .dataframe tbody tr th {\n",
       "        vertical-align: top;\n",
       "    }\n",
       "\n",
       "    .dataframe thead th {\n",
       "        text-align: right;\n",
       "    }\n",
       "</style>\n",
       "<table border=\"1\" class=\"dataframe\">\n",
       "  <thead>\n",
       "    <tr style=\"text-align: right;\">\n",
       "      <th></th>\n",
       "      <th>economic_region</th>\n",
       "      <th>_c1</th>\n",
       "    </tr>\n",
       "  </thead>\n",
       "  <tbody>\n",
       "    <tr>\n",
       "      <th>0</th>\n",
       "      <td>Global South</td>\n",
       "      <td>772105</td>\n",
       "    </tr>\n",
       "    <tr>\n",
       "      <th>1</th>\n",
       "      <td>unknown</td>\n",
       "      <td>3446032</td>\n",
       "    </tr>\n",
       "    <tr>\n",
       "      <th>2</th>\n",
       "      <td>Global North</td>\n",
       "      <td>1536891</td>\n",
       "    </tr>\n",
       "  </tbody>\n",
       "</table>\n",
       "</div>"
      ],
      "text/plain": [
       "  economic_region      _c1\n",
       "0    Global South   772105\n",
       "1         unknown  3446032\n",
       "2    Global North  1536891"
      ]
     },
     "execution_count": 3,
     "metadata": {},
     "output_type": "execute_result"
    }
   ],
   "source": [
    "hive.run(\"\"\"\n",
    "select \n",
    "    cdc.economic_region,\n",
    "    count(distinct(page_id)) \n",
    "from  wmf.mediawiki_history ne\n",
    " left join wmf.editors_daily gd\n",
    "    on\n",
    "        ne.event_user_id = gd.user_fingerprint_or_id and\n",
    "        ne.wiki_db = gd.wiki_db and\n",
    "        gd.month = '2020-01'\n",
    "    left join canonical_data.countries cdc\n",
    "    on gd.country_code = cdc.iso_code\n",
    "where \n",
    " event_entity = 'page' AND\n",
    "    event_type = 'create' AND\n",
    "    event_timestamp IS NOT NULL AND \n",
    "    snapshot = '2020-01' AND \n",
    "    event_timestamp between \"2020-01-01\" and \"2020-02-01\" AND\n",
    "    gd.wiki_db = \"wikidatawiki\" AND\n",
    "    page_namespace_historical in (0, 120) AND\n",
    "    NOT page_is_redirect\n",
    "GROUP BY cdc.economic_region\n",
    "\"\"\"\n",
    "        )"
   ]
  },
  {
   "cell_type": "code",
   "execution_count": 3,
   "metadata": {},
   "outputs": [
    {
     "ename": "HiveServer2Error",
     "evalue": "Error while compiling statement: FAILED: ParseException line 13:79 extraneous input ')' expecting AS near '<EOF>'\nline 13:89 missing ) at 'AS' near '<EOF>'",
     "output_type": "error",
     "traceback": [
      "\u001b[0;31m---------------------------------------------------------------------------\u001b[0m",
      "\u001b[0;31mHiveServer2Error\u001b[0m                          Traceback (most recent call last)",
      "\u001b[0;32m<ipython-input-3-abd9f5ff2632>\u001b[0m in \u001b[0;36m<module>\u001b[0;34m()\u001b[0m\n\u001b[1;32m     40\u001b[0m     \u001b[0mwiki_db\u001b[0m\u001b[0;34m,\u001b[0m\u001b[0;34m\u001b[0m\u001b[0m\n\u001b[1;32m     41\u001b[0m     \u001b[0mevent_user_id\u001b[0m\u001b[0;34m\u001b[0m\u001b[0m\n\u001b[0;32m---> 42\u001b[0;31m \"\"\")\n\u001b[0m",
      "\u001b[0;32m~/venv/lib/python3.5/site-packages/wmfdata/hive.py\u001b[0m in \u001b[0;36mrun\u001b[0;34m(cmds, fmt)\u001b[0m\n\u001b[1;32m     27\u001b[0m \u001b[0;34m\u001b[0m\u001b[0m\n\u001b[1;32m     28\u001b[0m         \u001b[0;32mfor\u001b[0m \u001b[0mcmd\u001b[0m \u001b[0;32min\u001b[0m \u001b[0mcmds\u001b[0m\u001b[0;34m:\u001b[0m\u001b[0;34m\u001b[0m\u001b[0m\n\u001b[0;32m---> 29\u001b[0;31m             \u001b[0mhive_cursor\u001b[0m\u001b[0;34m.\u001b[0m\u001b[0mexecute\u001b[0m\u001b[0;34m(\u001b[0m\u001b[0mcmd\u001b[0m\u001b[0;34m)\u001b[0m\u001b[0;34m\u001b[0m\u001b[0m\n\u001b[0m\u001b[1;32m     30\u001b[0m             \u001b[0;32mif\u001b[0m \u001b[0mfmt\u001b[0m \u001b[0;34m==\u001b[0m \u001b[0;34m\"pandas\"\u001b[0m\u001b[0;34m:\u001b[0m\u001b[0;34m\u001b[0m\u001b[0m\n\u001b[1;32m     31\u001b[0m                 \u001b[0;32mtry\u001b[0m\u001b[0;34m:\u001b[0m\u001b[0;34m\u001b[0m\u001b[0m\n",
      "\u001b[0;32m~/venv/lib/python3.5/site-packages/impala/hiveserver2.py\u001b[0m in \u001b[0;36mexecute\u001b[0;34m(self, operation, parameters, configuration)\u001b[0m\n\u001b[1;32m    300\u001b[0m         \u001b[0;31m# PEP 249\u001b[0m\u001b[0;34m\u001b[0m\u001b[0;34m\u001b[0m\u001b[0m\n\u001b[1;32m    301\u001b[0m         self.execute_async(operation, parameters=parameters,\n\u001b[0;32m--> 302\u001b[0;31m                            configuration=configuration)\n\u001b[0m\u001b[1;32m    303\u001b[0m         \u001b[0mlog\u001b[0m\u001b[0;34m.\u001b[0m\u001b[0mdebug\u001b[0m\u001b[0;34m(\u001b[0m\u001b[0;34m'Waiting for query to finish'\u001b[0m\u001b[0;34m)\u001b[0m\u001b[0;34m\u001b[0m\u001b[0m\n\u001b[1;32m    304\u001b[0m         \u001b[0mself\u001b[0m\u001b[0;34m.\u001b[0m\u001b[0m_wait_to_finish\u001b[0m\u001b[0;34m(\u001b[0m\u001b[0;34m)\u001b[0m  \u001b[0;31m# make execute synchronous\u001b[0m\u001b[0;34m\u001b[0m\u001b[0m\n",
      "\u001b[0;32m~/venv/lib/python3.5/site-packages/impala/hiveserver2.py\u001b[0m in \u001b[0;36mexecute_async\u001b[0;34m(self, operation, parameters, configuration)\u001b[0m\n\u001b[1;32m    341\u001b[0m             \u001b[0mself\u001b[0m\u001b[0;34m.\u001b[0m\u001b[0m_last_operation\u001b[0m \u001b[0;34m=\u001b[0m \u001b[0mop\u001b[0m\u001b[0;34m\u001b[0m\u001b[0m\n\u001b[1;32m    342\u001b[0m \u001b[0;34m\u001b[0m\u001b[0m\n\u001b[0;32m--> 343\u001b[0;31m         \u001b[0mself\u001b[0m\u001b[0;34m.\u001b[0m\u001b[0m_execute_async\u001b[0m\u001b[0;34m(\u001b[0m\u001b[0mop\u001b[0m\u001b[0;34m)\u001b[0m\u001b[0;34m\u001b[0m\u001b[0m\n\u001b[0m\u001b[1;32m    344\u001b[0m \u001b[0;34m\u001b[0m\u001b[0m\n\u001b[1;32m    345\u001b[0m     \u001b[0;32mdef\u001b[0m \u001b[0m_debug_log_state\u001b[0m\u001b[0;34m(\u001b[0m\u001b[0mself\u001b[0m\u001b[0;34m)\u001b[0m\u001b[0;34m:\u001b[0m\u001b[0;34m\u001b[0m\u001b[0m\n",
      "\u001b[0;32m~/venv/lib/python3.5/site-packages/impala/hiveserver2.py\u001b[0m in \u001b[0;36m_execute_async\u001b[0;34m(self, operation_fn)\u001b[0m\n\u001b[1;32m    360\u001b[0m         \u001b[0mself\u001b[0m\u001b[0;34m.\u001b[0m\u001b[0m_reset_state\u001b[0m\u001b[0;34m(\u001b[0m\u001b[0;34m)\u001b[0m\u001b[0;34m\u001b[0m\u001b[0m\n\u001b[1;32m    361\u001b[0m         \u001b[0mself\u001b[0m\u001b[0;34m.\u001b[0m\u001b[0m_debug_log_state\u001b[0m\u001b[0;34m(\u001b[0m\u001b[0;34m)\u001b[0m\u001b[0;34m\u001b[0m\u001b[0m\n\u001b[0;32m--> 362\u001b[0;31m         \u001b[0moperation_fn\u001b[0m\u001b[0;34m(\u001b[0m\u001b[0;34m)\u001b[0m\u001b[0;34m\u001b[0m\u001b[0m\n\u001b[0m\u001b[1;32m    363\u001b[0m         \u001b[0mself\u001b[0m\u001b[0;34m.\u001b[0m\u001b[0m_last_operation_active\u001b[0m \u001b[0;34m=\u001b[0m \u001b[0;32mTrue\u001b[0m\u001b[0;34m\u001b[0m\u001b[0m\n\u001b[1;32m    364\u001b[0m         \u001b[0mself\u001b[0m\u001b[0;34m.\u001b[0m\u001b[0m_debug_log_state\u001b[0m\u001b[0;34m(\u001b[0m\u001b[0;34m)\u001b[0m\u001b[0;34m\u001b[0m\u001b[0m\n",
      "\u001b[0;32m~/venv/lib/python3.5/site-packages/impala/hiveserver2.py\u001b[0m in \u001b[0;36mop\u001b[0;34m()\u001b[0m\n\u001b[1;32m    338\u001b[0m             op = self.session.execute(self._last_operation_string,\n\u001b[1;32m    339\u001b[0m                                       \u001b[0mconfiguration\u001b[0m\u001b[0;34m,\u001b[0m\u001b[0;34m\u001b[0m\u001b[0m\n\u001b[0;32m--> 340\u001b[0;31m                                       async=True)\n\u001b[0m\u001b[1;32m    341\u001b[0m             \u001b[0mself\u001b[0m\u001b[0;34m.\u001b[0m\u001b[0m_last_operation\u001b[0m \u001b[0;34m=\u001b[0m \u001b[0mop\u001b[0m\u001b[0;34m\u001b[0m\u001b[0m\n\u001b[1;32m    342\u001b[0m \u001b[0;34m\u001b[0m\u001b[0m\n",
      "\u001b[0;32m~/venv/lib/python3.5/site-packages/impala/hiveserver2.py\u001b[0m in \u001b[0;36mexecute\u001b[0;34m(self, statement, configuration, async)\u001b[0m\n\u001b[1;32m   1025\u001b[0m                                    \u001b[0mconfOverlay\u001b[0m\u001b[0;34m=\u001b[0m\u001b[0mconfiguration\u001b[0m\u001b[0;34m,\u001b[0m\u001b[0;34m\u001b[0m\u001b[0m\n\u001b[1;32m   1026\u001b[0m                                    runAsync=async)\n\u001b[0;32m-> 1027\u001b[0;31m         \u001b[0;32mreturn\u001b[0m \u001b[0mself\u001b[0m\u001b[0;34m.\u001b[0m\u001b[0m_operation\u001b[0m\u001b[0;34m(\u001b[0m\u001b[0;34m'ExecuteStatement'\u001b[0m\u001b[0;34m,\u001b[0m \u001b[0mreq\u001b[0m\u001b[0;34m)\u001b[0m\u001b[0;34m\u001b[0m\u001b[0m\n\u001b[0m\u001b[1;32m   1028\u001b[0m \u001b[0;34m\u001b[0m\u001b[0m\n\u001b[1;32m   1029\u001b[0m     \u001b[0;32mdef\u001b[0m \u001b[0mget_databases\u001b[0m\u001b[0;34m(\u001b[0m\u001b[0mself\u001b[0m\u001b[0;34m,\u001b[0m \u001b[0mschema\u001b[0m\u001b[0;34m=\u001b[0m\u001b[0;34m'.*'\u001b[0m\u001b[0;34m)\u001b[0m\u001b[0;34m:\u001b[0m\u001b[0;34m\u001b[0m\u001b[0m\n",
      "\u001b[0;32m~/venv/lib/python3.5/site-packages/impala/hiveserver2.py\u001b[0m in \u001b[0;36m_operation\u001b[0;34m(self, kind, request)\u001b[0m\n\u001b[1;32m    955\u001b[0m \u001b[0;34m\u001b[0m\u001b[0m\n\u001b[1;32m    956\u001b[0m     \u001b[0;32mdef\u001b[0m \u001b[0m_operation\u001b[0m\u001b[0;34m(\u001b[0m\u001b[0mself\u001b[0m\u001b[0;34m,\u001b[0m \u001b[0mkind\u001b[0m\u001b[0;34m,\u001b[0m \u001b[0mrequest\u001b[0m\u001b[0;34m)\u001b[0m\u001b[0;34m:\u001b[0m\u001b[0;34m\u001b[0m\u001b[0m\n\u001b[0;32m--> 957\u001b[0;31m         \u001b[0mresp\u001b[0m \u001b[0;34m=\u001b[0m \u001b[0mself\u001b[0m\u001b[0;34m.\u001b[0m\u001b[0m_rpc\u001b[0m\u001b[0;34m(\u001b[0m\u001b[0mkind\u001b[0m\u001b[0;34m,\u001b[0m \u001b[0mrequest\u001b[0m\u001b[0;34m)\u001b[0m\u001b[0;34m\u001b[0m\u001b[0m\n\u001b[0m\u001b[1;32m    958\u001b[0m         \u001b[0;32mreturn\u001b[0m \u001b[0mself\u001b[0m\u001b[0;34m.\u001b[0m\u001b[0m_get_operation\u001b[0m\u001b[0;34m(\u001b[0m\u001b[0mresp\u001b[0m\u001b[0;34m.\u001b[0m\u001b[0moperationHandle\u001b[0m\u001b[0;34m)\u001b[0m\u001b[0;34m\u001b[0m\u001b[0m\n\u001b[1;32m    959\u001b[0m \u001b[0;34m\u001b[0m\u001b[0m\n",
      "\u001b[0;32m~/venv/lib/python3.5/site-packages/impala/hiveserver2.py\u001b[0m in \u001b[0;36m_rpc\u001b[0;34m(self, func_name, request)\u001b[0m\n\u001b[1;32m    923\u001b[0m         \u001b[0mresponse\u001b[0m \u001b[0;34m=\u001b[0m \u001b[0mself\u001b[0m\u001b[0;34m.\u001b[0m\u001b[0m_execute\u001b[0m\u001b[0;34m(\u001b[0m\u001b[0mfunc_name\u001b[0m\u001b[0;34m,\u001b[0m \u001b[0mrequest\u001b[0m\u001b[0;34m)\u001b[0m\u001b[0;34m\u001b[0m\u001b[0m\n\u001b[1;32m    924\u001b[0m         \u001b[0mself\u001b[0m\u001b[0;34m.\u001b[0m\u001b[0m_log_response\u001b[0m\u001b[0;34m(\u001b[0m\u001b[0mfunc_name\u001b[0m\u001b[0;34m,\u001b[0m \u001b[0mresponse\u001b[0m\u001b[0;34m)\u001b[0m\u001b[0;34m\u001b[0m\u001b[0m\n\u001b[0;32m--> 925\u001b[0;31m         \u001b[0merr_if_rpc_not_ok\u001b[0m\u001b[0;34m(\u001b[0m\u001b[0mresponse\u001b[0m\u001b[0;34m)\u001b[0m\u001b[0;34m\u001b[0m\u001b[0m\n\u001b[0m\u001b[1;32m    926\u001b[0m         \u001b[0;32mreturn\u001b[0m \u001b[0mresponse\u001b[0m\u001b[0;34m\u001b[0m\u001b[0m\n\u001b[1;32m    927\u001b[0m \u001b[0;34m\u001b[0m\u001b[0m\n",
      "\u001b[0;32m~/venv/lib/python3.5/site-packages/impala/hiveserver2.py\u001b[0m in \u001b[0;36merr_if_rpc_not_ok\u001b[0;34m(resp)\u001b[0m\n\u001b[1;32m    702\u001b[0m             \u001b[0mresp\u001b[0m\u001b[0;34m.\u001b[0m\u001b[0mstatus\u001b[0m\u001b[0;34m.\u001b[0m\u001b[0mstatusCode\u001b[0m \u001b[0;34m!=\u001b[0m \u001b[0mTStatusCode\u001b[0m\u001b[0;34m.\u001b[0m\u001b[0mSUCCESS_WITH_INFO_STATUS\u001b[0m \u001b[0;32mand\u001b[0m\u001b[0;34m\u001b[0m\u001b[0m\n\u001b[1;32m    703\u001b[0m             resp.status.statusCode != TStatusCode.STILL_EXECUTING_STATUS):\n\u001b[0;32m--> 704\u001b[0;31m         \u001b[0;32mraise\u001b[0m \u001b[0mHiveServer2Error\u001b[0m\u001b[0;34m(\u001b[0m\u001b[0mresp\u001b[0m\u001b[0;34m.\u001b[0m\u001b[0mstatus\u001b[0m\u001b[0;34m.\u001b[0m\u001b[0merrorMessage\u001b[0m\u001b[0;34m)\u001b[0m\u001b[0;34m\u001b[0m\u001b[0m\n\u001b[0m\u001b[1;32m    705\u001b[0m \u001b[0;34m\u001b[0m\u001b[0m\n\u001b[1;32m    706\u001b[0m \u001b[0;34m\u001b[0m\u001b[0m\n",
      "\u001b[0;31mHiveServer2Error\u001b[0m: Error while compiling statement: FAILED: ParseException line 13:79 extraneous input ')' expecting AS near '<EOF>'\nline 13:89 missing ) at 'AS' near '<EOF>'"
     ]
    }
   ],
   "source": [
    "hive.run(\"\"\"\n",
    "insert into cchen.editor_month\n",
    "select\n",
    "    trunc(event_timestamp, \"MONTH\") as month,\n",
    "    wiki_db as wiki,\n",
    "    event_user_id as user_id,\n",
    "    max(event_user_text) as user_name, -- Some rows incorrectly have a null `event_user_text` (T218463)\n",
    "    count(*) as edits,\n",
    "    coalesce(sum(ns_map.namespace_is_content), 0) as content_edits,\n",
    "    SUM(CAST(ARRAY_CONTAINS(revision_tags, \"mobile web edit\") AS INT)) AS mobile_web_edits,\n",
    "    SUM(CAST(ARRAY_CONTAINS(revision_tags, \"mobile app edit\") AS INT)) AS mobile_app_edits,\n",
    "    SUM(CAST(ARRAY_CONTAINS(revision_tags, \"visualeditor\") AS INT))  AS visual_edits,\n",
    "    SUM(CASE WHEN wiki_db = \"wikidatawiki\" AND page_namespace_historical in (0, 120) THEN 1 END) AS data_edits,\n",
    "    NULL as `2017_wikitext_edits`,\n",
    "    max(size(event_user_is_bot_by) > 0 or size(event_user_is_bot_by_historical) > 0) as bot_by_group,\n",
    "    min(event_user_creation_timestamp) as user_registration\n",
    "from wmf.mediawiki_history mwh\n",
    "inner join canonical_data.wikis \n",
    "on\n",
    "    wiki_db = database_code and\n",
    "    database_group in (\n",
    "        \"commons\", \"incubator\", \"foundation\", \"mediawiki\", \"meta\", \"sources\", \n",
    "        \"species\",\"wikibooks\", \"wikidata\", \"wikinews\", \"wikipedia\", \"wikiquote\",\n",
    "        \"wikisource\", \"wikiversity\", \"wikivoyage\", \"wiktionary\"\n",
    "    )\n",
    "left join wmf_raw.mediawiki_project_namespace_map ns_map -- Avoid `page_namespace_is_content` to work around T221338\n",
    "on\n",
    "    wiki_db = dbname and\n",
    "    coalesce(page_namespace_historical, page_namespace) = namespace and\n",
    "    ns_map.snapshot = \"{mwh_snapshot}\" and\n",
    "    mwh.snapshot = \"{mwh_snapshot}\"\n",
    "\n",
    "where\n",
    "    event_timestamp between \"{start}\" and \"{end}\" and\n",
    "    event_entity = \"revision\" and\n",
    "    event_type = \"create\" and\n",
    "    mwh.snapshot = \"{mwh_snapshot}\"\n",
    "group by\n",
    "    trunc(event_timestamp, \"MONTH\"),\n",
    "    wiki_db,\n",
    "    event_user_id\n",
    "\"\"\""
   ]
  },
  {
   "cell_type": "code",
   "execution_count": 12,
   "metadata": {},
   "outputs": [],
   "source": [
    "gs = hive.run(\"\"\"with gs_editors as (\n",
    "    select \n",
    "        country_code,\n",
    "        sum(edit_count) as edit_count,\n",
    "        sum(namespace_zero_edit_count) as namespace_zero_edit_count,\n",
    "        max(size(is_bot_by) > 0 or size(is_bot_by_historical) > 0) as bot\n",
    "    from wmf.editors_daily gd\n",
    "    left join canonical_data.countries cdc\n",
    "    on gd.country_code = cdc.iso_code\n",
    "    left join wmf.mediawiki_user_history muh\n",
    "    on\n",
    "        gd.wiki_db = muh.wiki_db and\n",
    "        gd.user_fingerprint_or_id = muh.user_id and\n",
    "        muh.snapshot = \"{mediawiki_history_snapshot}\" and\n",
    "        muh.end_timestamp is null\n",
    "    where\n",
    "        month = \"2019-12\" and\n",
    "        economic_region = \"Global South\" and\n",
    "        not user_is_anonymous\n",
    "    group by country_code,user_fingerprint_or_id\n",
    ")\n",
    "select\n",
    "    country_code,\n",
    "    sum(edit_count) as Global_South_edits,\n",
    "    sum(if(not bot, edit_count, 0)) as Global_South_nonbot_edits,\n",
    "    sum(cast(namespace_zero_edit_count >= 5 as int)) as Global_South_active_editors\n",
    "from gs_editors\n",
    "group by country_code\"\"\")"
   ]
  },
  {
   "cell_type": "code",
   "execution_count": null,
   "metadata": {},
   "outputs": [],
   "source": []
  }
 ],
 "metadata": {
  "kernelspec": {
   "display_name": "Python 3",
   "language": "python",
   "name": "python3"
  },
  "language_info": {
   "codemirror_mode": {
    "name": "ipython",
    "version": 3
   },
   "file_extension": ".py",
   "mimetype": "text/x-python",
   "name": "python",
   "nbconvert_exporter": "python",
   "pygments_lexer": "ipython3",
   "version": "3.5.3"
  }
 },
 "nbformat": 4,
 "nbformat_minor": 2
}

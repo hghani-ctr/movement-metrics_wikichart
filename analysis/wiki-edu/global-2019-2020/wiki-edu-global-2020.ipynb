{
 "cells": [
  {
   "cell_type": "markdown",
   "metadata": {},
   "source": [
    "# Global Wikipedia & Education User Group"
   ]
  },
  {
   "cell_type": "markdown",
   "metadata": {},
   "source": [
    "\n",
    "This notebook is for Wikipedia & Education User Group across all languages/projects between July 1, 2019 - June 30, 2020\n",
    "https://phabricator.wikimedia.org/T260369"
   ]
  },
  {
   "cell_type": "code",
   "execution_count": 1,
   "metadata": {},
   "outputs": [
    {
     "name": "stderr",
     "output_type": "stream",
     "text": [
      "You are using wmfdata v1.0.3, but v1.0.4 is available.\n",
      "\n",
      "To update, run `pip install --upgrade git+https://github.com/neilpquinn/wmfdata.git@release`.\n",
      "\n",
      "To see the changes, refer to https://github.com/neilpquinn/wmfdata/blob/release/CHANGELOG.md\n"
     ]
    }
   ],
   "source": [
    "import matplotlib as mpl\n",
    "import matplotlib.pyplot as plt\n",
    "import numpy as np\n",
    "import pandas as pd\n",
    "import requests\n",
    "import glob\n",
    "import re\n",
    "import xlrd\n",
    "from wmfdata import hive,charting,spark\n",
    "from wmfdata.charting import comma_fmt, pct_fmt\n",
    "from wmfdata.utils import pct_str\n"
   ]
  },
  {
   "cell_type": "code",
   "execution_count": 2,
   "metadata": {},
   "outputs": [],
   "source": [
    "%matplotlib inline\n",
    "\n",
    "charting.set_mpl_style()\n"
   ]
  },
  {
   "cell_type": "markdown",
   "metadata": {},
   "source": [
    "# Getting a list of participants into Hive"
   ]
  },
  {
   "cell_type": "code",
   "execution_count": 23,
   "metadata": {},
   "outputs": [],
   "source": [
    "#read usernames from CSV\n",
    "csv_files = glob.glob('*.csv')\n",
    "#intialize empty list that we will append dataframes to\n",
    "list_data = []\n",
    " \n",
    "for filename in csv_files:\n",
    "    data = pd.read_csv(filename,header=None)\n",
    "    list_data.append(data)\n",
    "\n",
    "participants = pd.concat(list_data,ignore_index=True)"
   ]
  },
  {
   "cell_type": "code",
   "execution_count": 25,
   "metadata": {},
   "outputs": [],
   "source": [
    "#read usernames from excel\n",
    "roster = pd.read_excel('usernames-education.xlsx', header=None)"
   ]
  },
  {
   "cell_type": "code",
   "execution_count": 26,
   "metadata": {},
   "outputs": [],
   "source": [
    "participants = participants.append(roster)"
   ]
  },
  {
   "cell_type": "code",
   "execution_count": 32,
   "metadata": {},
   "outputs": [],
   "source": [
    "filepath = \"global-wiki-education-foundation-participants.csv\"\n",
    "participants.to_csv(filepath, index=None)\n",
    "hive.load_csv(\n",
    "    filepath,\n",
    "    field_spec=\"user_name string\",\n",
    "    db_name=\"cchen\",\n",
    "    table_name=\"global_wiki_education_foundation_participants\",\n",
    ")"
   ]
  },
  {
   "cell_type": "markdown",
   "metadata": {},
   "source": [
    "# New active editors"
   ]
  },
  {
   "cell_type": "code",
   "execution_count": 17,
   "metadata": {},
   "outputs": [],
   "source": [
    "new_active_editors_r = spark.run(\"\"\"\n",
    "\n",
    "select\n",
    "    cohort,\n",
    "    sum(cast(wefp.user_name is not null as int)) as wef_new_users,\n",
    "    sum(cast(wefp.user_name is null as int)) as non_wef_new_users\n",
    "from cchen.new_editor_retention ne\n",
    "left join cchen.global_wiki_education_foundation_participants wefp \n",
    "on ne.user_name = wefp.user_name\n",
    "where 1st_month_edits >= 5\n",
    "group by cohort, wiki\n",
    "\n",
    "\"\"\"\n",
    ")\n",
    "\n",
    "new_active_editors = (\n",
    "    new_active_editors_r\n",
    "    .assign(\n",
    "        cohort=lambda df: pd.to_datetime(df[\"cohort\"])\n",
    "    )\n",
    ")"
   ]
  },
  {
   "cell_type": "code",
   "execution_count": 21,
   "metadata": {},
   "outputs": [
    {
     "data": {
      "text/html": [
       "<div>\n",
       "<style scoped>\n",
       "    .dataframe tbody tr th:only-of-type {\n",
       "        vertical-align: middle;\n",
       "    }\n",
       "\n",
       "    .dataframe tbody tr th {\n",
       "        vertical-align: top;\n",
       "    }\n",
       "\n",
       "    .dataframe thead th {\n",
       "        text-align: right;\n",
       "    }\n",
       "</style>\n",
       "<table border=\"1\" class=\"dataframe\">\n",
       "  <thead>\n",
       "    <tr style=\"text-align: right;\">\n",
       "      <th></th>\n",
       "      <th>wef_new_users</th>\n",
       "    </tr>\n",
       "    <tr>\n",
       "      <th>cohort</th>\n",
       "      <th></th>\n",
       "    </tr>\n",
       "  </thead>\n",
       "  <tbody>\n",
       "    <tr>\n",
       "      <th>2019-07-01</th>\n",
       "      <td>746</td>\n",
       "    </tr>\n",
       "    <tr>\n",
       "      <th>2019-08-01</th>\n",
       "      <td>1954</td>\n",
       "    </tr>\n",
       "    <tr>\n",
       "      <th>2019-09-01</th>\n",
       "      <td>5534</td>\n",
       "    </tr>\n",
       "    <tr>\n",
       "      <th>2019-10-01</th>\n",
       "      <td>2414</td>\n",
       "    </tr>\n",
       "    <tr>\n",
       "      <th>2019-11-01</th>\n",
       "      <td>978</td>\n",
       "    </tr>\n",
       "    <tr>\n",
       "      <th>2019-12-01</th>\n",
       "      <td>168</td>\n",
       "    </tr>\n",
       "    <tr>\n",
       "      <th>2020-01-01</th>\n",
       "      <td>4240</td>\n",
       "    </tr>\n",
       "    <tr>\n",
       "      <th>2020-02-01</th>\n",
       "      <td>3064</td>\n",
       "    </tr>\n",
       "    <tr>\n",
       "      <th>2020-03-01</th>\n",
       "      <td>1612</td>\n",
       "    </tr>\n",
       "    <tr>\n",
       "      <th>2020-04-01</th>\n",
       "      <td>1308</td>\n",
       "    </tr>\n",
       "    <tr>\n",
       "      <th>2020-05-01</th>\n",
       "      <td>504</td>\n",
       "    </tr>\n",
       "    <tr>\n",
       "      <th>2020-06-01</th>\n",
       "      <td>124</td>\n",
       "    </tr>\n",
       "  </tbody>\n",
       "</table>\n",
       "</div>"
      ],
      "text/plain": [
       "            wef_new_users\n",
       "cohort                   \n",
       "2019-07-01            746\n",
       "2019-08-01           1954\n",
       "2019-09-01           5534\n",
       "2019-10-01           2414\n",
       "2019-11-01            978\n",
       "2019-12-01            168\n",
       "2020-01-01           4240\n",
       "2020-02-01           3064\n",
       "2020-03-01           1612\n",
       "2020-04-01           1308\n",
       "2020-05-01            504\n",
       "2020-06-01            124"
      ]
     },
     "execution_count": 21,
     "metadata": {},
     "output_type": "execute_result"
    }
   ],
   "source": [
    "(\n",
    "    new_active_editors\n",
    "    .query(\"cohort >= '2019-07-01'\")\n",
    "    .groupby(\"cohort\").agg({\n",
    "        \"wef_new_users\": \"sum\"\n",
    "    })\n",
    "    \n",
    ")"
   ]
  },
  {
   "cell_type": "code",
   "execution_count": 22,
   "metadata": {},
   "outputs": [
    {
     "data": {
      "text/plain": [
       "wef_new_users    1887\n",
       "dtype: int64"
      ]
     },
     "execution_count": 22,
     "metadata": {},
     "output_type": "execute_result"
    }
   ],
   "source": [
    "(\n",
    "    new_active_editors\n",
    "    .query(\"cohort >= '2019-07-01'\")\n",
    "    .agg({\n",
    "        \"wef_new_users\": \"sum\"\n",
    "    })\n",
    "    .div(12)\n",
    "    .apply(round)\n",
    ")"
   ]
  },
  {
   "cell_type": "code",
   "execution_count": 23,
   "metadata": {},
   "outputs": [
    {
     "data": {
      "image/png": "[encoded data removed]",
      "text/plain": [
       "<Figure size 1008x504 with 1 Axes>"
      ]
     },
     "metadata": {
      "needs_background": "light"
     },
     "output_type": "display_data"
    }
   ],
   "source": [
    "global_new_active_editors = new_active_editors.query(\"cohort >= '2019-01-01'\").groupby(\"cohort\").sum().iloc[:, [1, 0]]\n",
    "global_new_active_editors.columns = [\"others\", \"Wiki Ed participants\"]\n",
    "ax = global_new_active_editors.plot()\n",
    "ax.set_ylabel(\"monthly new active editors\")\n",
    "ax.set_xlabel(\"\")\n",
    "ax.yaxis.set_major_formatter(comma_fmt);"
   ]
  }
 ],
 "metadata": {
  "kernelspec": {
   "display_name": "Python 3",
   "language": "python",
   "name": "python3"
  },
  "language_info": {
   "codemirror_mode": {
    "name": "ipython",
    "version": 3
   },
   "file_extension": ".py",
   "mimetype": "text/x-python",
   "name": "python",
   "nbconvert_exporter": "python",
   "pygments_lexer": "ipython3",
   "version": "3.7.3"
  }
 },
 "nbformat": 4,
 "nbformat_minor": 4
}

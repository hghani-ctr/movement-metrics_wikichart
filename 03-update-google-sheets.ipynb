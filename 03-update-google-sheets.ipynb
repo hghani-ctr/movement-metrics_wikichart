{
 "cells": [
  {
   "cell_type": "code",
   "execution_count": 1,
   "id": "1763b658-6e31-4a48-a37e-1b2bf91ac1c4",
   "metadata": {},
   "outputs": [],
   "source": [
    "from google.oauth2.service_account import Credentials\n",
    "import gspread\n",
    "import pandas as pd"
   ]
  },
  {
   "cell_type": "code",
   "execution_count": 2,
   "id": "25eb4b5e-a353-40fb-ab55-bd25fcb81dcc",
   "metadata": {},
   "outputs": [],
   "source": [
    "def prepare_data(metrics):\n",
    "    # Ensure all numbers are floats, as JSON transmission does not support integers\n",
    "    # The first column is assumed to be the month and is left as an object/string\n",
    "    metrics.iloc[:, 1:] = metrics.iloc[:, 1:].astype(float)\n",
    "    \n",
    "    # NaNs are not supported, and must be replaced with Python Nones first. That\n",
    "    # requires a cast to object first.\n",
    "    metrics = metrics.astype(object).where(metrics.notna(), None)\n",
    "    \n",
    "    return metrics\n",
    "\n",
    "def load(metrics_file):\n",
    "    metrics = pd.read_csv(metrics_file, sep=\"\\t\")\n",
    "    return metrics.pipe(prepare_data)\n",
    "\n",
    "def append_last_row(metrics, worksheet):\n",
    "    last_row = metrics.iloc[-1].to_list()\n",
    "    \n",
    "    worksheet.append_row(last_row, value_input_option=\"USER_ENTERED\")\n",
    "    \n",
    "\n",
    "scope = ['https://spreadsheets.google.com/feeds',\n",
    "         'https://www.googleapis.com/auth/drive']\n",
    "\n",
    "credentials = Credentials.from_service_account_file(\n",
    "    'lucid-cocoa-399500-86f5d5d1543f.json',\n",
    "    scopes=scope\n",
    ")\n",
    "\n",
    "gc = gspread.authorize(credentials)"
   ]
  },
  {
   "cell_type": "markdown",
   "id": "012114c7-3888-4db4-a602-7da29ae6c3f0",
   "metadata": {},
   "source": [
    "## Update editors sheet"
   ]
  },
  {
   "cell_type": "markdown",
   "id": "8837cd6a-a0d0-42f9-bf09-0f0637cec93f",
   "metadata": {},
   "source": [
    "This section updates the metrics in the [\"Editors and content key product metrics\" Google spreadsheet](https://docs.google.com/spreadsheets/d/1wfTtHjQP9Kj0WME15ESJ-4dSMGMpbtY8qOuDVcwZovQ/)."
   ]
  },
  {
   "cell_type": "code",
   "execution_count": 3,
   "id": "fa4ef5d5-5402-4e9c-9540-a4df1dc2c2d7",
   "metadata": {},
   "outputs": [],
   "source": [
    "editing_metrics = load(\"metrics/editing_metrics.tsv\")\n",
    "editing_diversity_metrics = load(\"metrics/editing_diversity_metrics.tsv\")\n",
    "\n",
    "spreadsheet = gc.open_by_key(\"1wfTtHjQP9Kj0WME15ESJ-4dSMGMpbtY8qOuDVcwZovQ\")"
   ]
  },
  {
   "cell_type": "code",
   "execution_count": 4,
   "id": "7a31cc93-3fd6-4372-bf3d-8bc6acd9fdd0",
   "metadata": {},
   "outputs": [
    {
     "ename": "IndexError",
     "evalue": "positional indexers are out-of-bounds",
     "output_type": "error",
     "traceback": [
      "\u001b[0;31m---------------------------------------------------------------------------\u001b[0m",
      "\u001b[0;31mIndexError\u001b[0m                                Traceback (most recent call last)",
      "Cell \u001b[0;32mIn [4], line 2\u001b[0m\n\u001b[1;32m      1\u001b[0m wks1 \u001b[38;5;241m=\u001b[39m spreadsheet\u001b[38;5;241m.\u001b[39mget_worksheet(\u001b[38;5;241m0\u001b[39m)\n\u001b[0;32m----> 2\u001b[0m to_add \u001b[38;5;241m=\u001b[39m \u001b[43mediting_metrics\u001b[49m\u001b[38;5;241;43m.\u001b[39;49m\u001b[43miloc\u001b[49m\u001b[43m[\u001b[49m\u001b[43m:\u001b[49m\u001b[43m,\u001b[49m\u001b[43m[\u001b[49m\u001b[38;5;241;43m0\u001b[39;49m\u001b[43m,\u001b[49m\u001b[43m \u001b[49m\u001b[38;5;241;43m1\u001b[39;49m\u001b[43m,\u001b[49m\u001b[43m \u001b[49m\u001b[38;5;241;43m2\u001b[39;49m\u001b[43m,\u001b[49m\u001b[43m \u001b[49m\u001b[38;5;241;43m11\u001b[39;49m\u001b[43m,\u001b[49m\u001b[43m \u001b[49m\u001b[38;5;241;43m12\u001b[39;49m\u001b[43m,\u001b[49m\u001b[43m \u001b[49m\u001b[38;5;241;43m13\u001b[39;49m\u001b[43m,\u001b[49m\u001b[43m \u001b[49m\u001b[38;5;241;43m14\u001b[39;49m\u001b[43m,\u001b[49m\u001b[43m \u001b[49m\u001b[38;5;241;43m15\u001b[39;49m\u001b[43m,\u001b[49m\u001b[43m \u001b[49m\u001b[38;5;241;43m16\u001b[39;49m\u001b[43m,\u001b[49m\u001b[43m \u001b[49m\u001b[38;5;241;43m17\u001b[39;49m\u001b[43m,\u001b[49m\u001b[43m \u001b[49m\u001b[38;5;241;43m18\u001b[39;49m\u001b[43m,\u001b[49m\u001b[43m \u001b[49m\u001b[38;5;241;43m19\u001b[39;49m\u001b[43m,\u001b[49m\u001b[43m \u001b[49m\u001b[38;5;241;43m20\u001b[39;49m\u001b[43m,\u001b[49m\u001b[43m \u001b[49m\u001b[38;5;241;43m21\u001b[39;49m\u001b[43m,\u001b[49m\u001b[43m \u001b[49m\u001b[38;5;241;43m22\u001b[39;49m\u001b[43m,\u001b[49m\u001b[43m \u001b[49m\u001b[38;5;241;43m23\u001b[39;49m\u001b[43m,\u001b[49m\u001b[43m \u001b[49m\u001b[38;5;241;43m24\u001b[39;49m\u001b[43m]\u001b[49m\u001b[43m]\u001b[49m\n\u001b[1;32m      3\u001b[0m append_last_row(to_add, wks1)\n",
      "File \u001b[0;32m~/.conda/envs/2023-09-21T22.51.44_osefu/lib/python3.10/site-packages/pandas/core/indexing.py:1147\u001b[0m, in \u001b[0;36m_LocationIndexer.__getitem__\u001b[0;34m(self, key)\u001b[0m\n\u001b[1;32m   1145\u001b[0m     \u001b[38;5;28;01mif\u001b[39;00m \u001b[38;5;28mself\u001b[39m\u001b[38;5;241m.\u001b[39m_is_scalar_access(key):\n\u001b[1;32m   1146\u001b[0m         \u001b[38;5;28;01mreturn\u001b[39;00m \u001b[38;5;28mself\u001b[39m\u001b[38;5;241m.\u001b[39mobj\u001b[38;5;241m.\u001b[39m_get_value(\u001b[38;5;241m*\u001b[39mkey, takeable\u001b[38;5;241m=\u001b[39m\u001b[38;5;28mself\u001b[39m\u001b[38;5;241m.\u001b[39m_takeable)\n\u001b[0;32m-> 1147\u001b[0m     \u001b[38;5;28;01mreturn\u001b[39;00m \u001b[38;5;28;43mself\u001b[39;49m\u001b[38;5;241;43m.\u001b[39;49m\u001b[43m_getitem_tuple\u001b[49m\u001b[43m(\u001b[49m\u001b[43mkey\u001b[49m\u001b[43m)\u001b[49m\n\u001b[1;32m   1148\u001b[0m \u001b[38;5;28;01melse\u001b[39;00m:\n\u001b[1;32m   1149\u001b[0m     \u001b[38;5;66;03m# we by definition only have the 0th axis\u001b[39;00m\n\u001b[1;32m   1150\u001b[0m     axis \u001b[38;5;241m=\u001b[39m \u001b[38;5;28mself\u001b[39m\u001b[38;5;241m.\u001b[39maxis \u001b[38;5;129;01mor\u001b[39;00m \u001b[38;5;241m0\u001b[39m\n",
      "File \u001b[0;32m~/.conda/envs/2023-09-21T22.51.44_osefu/lib/python3.10/site-packages/pandas/core/indexing.py:1652\u001b[0m, in \u001b[0;36m_iLocIndexer._getitem_tuple\u001b[0;34m(self, tup)\u001b[0m\n\u001b[1;32m   1651\u001b[0m \u001b[38;5;28;01mdef\u001b[39;00m \u001b[38;5;21m_getitem_tuple\u001b[39m(\u001b[38;5;28mself\u001b[39m, tup: \u001b[38;5;28mtuple\u001b[39m):\n\u001b[0;32m-> 1652\u001b[0m     tup \u001b[38;5;241m=\u001b[39m \u001b[38;5;28;43mself\u001b[39;49m\u001b[38;5;241;43m.\u001b[39;49m\u001b[43m_validate_tuple_indexer\u001b[49m\u001b[43m(\u001b[49m\u001b[43mtup\u001b[49m\u001b[43m)\u001b[49m\n\u001b[1;32m   1653\u001b[0m     \u001b[38;5;28;01mwith\u001b[39;00m suppress(IndexingError):\n\u001b[1;32m   1654\u001b[0m         \u001b[38;5;28;01mreturn\u001b[39;00m \u001b[38;5;28mself\u001b[39m\u001b[38;5;241m.\u001b[39m_getitem_lowerdim(tup)\n",
      "File \u001b[0;32m~/.conda/envs/2023-09-21T22.51.44_osefu/lib/python3.10/site-packages/pandas/core/indexing.py:940\u001b[0m, in \u001b[0;36m_LocationIndexer._validate_tuple_indexer\u001b[0;34m(self, key)\u001b[0m\n\u001b[1;32m    938\u001b[0m \u001b[38;5;28;01mfor\u001b[39;00m i, k \u001b[38;5;129;01min\u001b[39;00m \u001b[38;5;28menumerate\u001b[39m(key):\n\u001b[1;32m    939\u001b[0m     \u001b[38;5;28;01mtry\u001b[39;00m:\n\u001b[0;32m--> 940\u001b[0m         \u001b[38;5;28;43mself\u001b[39;49m\u001b[38;5;241;43m.\u001b[39;49m\u001b[43m_validate_key\u001b[49m\u001b[43m(\u001b[49m\u001b[43mk\u001b[49m\u001b[43m,\u001b[49m\u001b[43m \u001b[49m\u001b[43mi\u001b[49m\u001b[43m)\u001b[49m\n\u001b[1;32m    941\u001b[0m     \u001b[38;5;28;01mexcept\u001b[39;00m \u001b[38;5;167;01mValueError\u001b[39;00m \u001b[38;5;28;01mas\u001b[39;00m err:\n\u001b[1;32m    942\u001b[0m         \u001b[38;5;28;01mraise\u001b[39;00m \u001b[38;5;167;01mValueError\u001b[39;00m(\n\u001b[1;32m    943\u001b[0m             \u001b[38;5;124m\"\u001b[39m\u001b[38;5;124mLocation based indexing can only have \u001b[39m\u001b[38;5;124m\"\u001b[39m\n\u001b[1;32m    944\u001b[0m             \u001b[38;5;124mf\u001b[39m\u001b[38;5;124m\"\u001b[39m\u001b[38;5;124m[\u001b[39m\u001b[38;5;132;01m{\u001b[39;00m\u001b[38;5;28mself\u001b[39m\u001b[38;5;241m.\u001b[39m_valid_types\u001b[38;5;132;01m}\u001b[39;00m\u001b[38;5;124m] types\u001b[39m\u001b[38;5;124m\"\u001b[39m\n\u001b[1;32m    945\u001b[0m         ) \u001b[38;5;28;01mfrom\u001b[39;00m \u001b[38;5;21;01merr\u001b[39;00m\n",
      "File \u001b[0;32m~/.conda/envs/2023-09-21T22.51.44_osefu/lib/python3.10/site-packages/pandas/core/indexing.py:1574\u001b[0m, in \u001b[0;36m_iLocIndexer._validate_key\u001b[0;34m(self, key, axis)\u001b[0m\n\u001b[1;32m   1572\u001b[0m     \u001b[38;5;66;03m# check that the key does not exceed the maximum size of the index\u001b[39;00m\n\u001b[1;32m   1573\u001b[0m     \u001b[38;5;28;01mif\u001b[39;00m \u001b[38;5;28mlen\u001b[39m(arr) \u001b[38;5;129;01mand\u001b[39;00m (arr\u001b[38;5;241m.\u001b[39mmax() \u001b[38;5;241m>\u001b[39m\u001b[38;5;241m=\u001b[39m len_axis \u001b[38;5;129;01mor\u001b[39;00m arr\u001b[38;5;241m.\u001b[39mmin() \u001b[38;5;241m<\u001b[39m \u001b[38;5;241m-\u001b[39mlen_axis):\n\u001b[0;32m-> 1574\u001b[0m         \u001b[38;5;28;01mraise\u001b[39;00m \u001b[38;5;167;01mIndexError\u001b[39;00m(\u001b[38;5;124m\"\u001b[39m\u001b[38;5;124mpositional indexers are out-of-bounds\u001b[39m\u001b[38;5;124m\"\u001b[39m)\n\u001b[1;32m   1575\u001b[0m \u001b[38;5;28;01melse\u001b[39;00m:\n\u001b[1;32m   1576\u001b[0m     \u001b[38;5;28;01mraise\u001b[39;00m \u001b[38;5;167;01mValueError\u001b[39;00m(\u001b[38;5;124mf\u001b[39m\u001b[38;5;124m\"\u001b[39m\u001b[38;5;124mCan only index by location with a [\u001b[39m\u001b[38;5;132;01m{\u001b[39;00m\u001b[38;5;28mself\u001b[39m\u001b[38;5;241m.\u001b[39m_valid_types\u001b[38;5;132;01m}\u001b[39;00m\u001b[38;5;124m]\u001b[39m\u001b[38;5;124m\"\u001b[39m)\n",
      "\u001b[0;31mIndexError\u001b[0m: positional indexers are out-of-bounds"
     ]
    }
   ],
   "source": [
    "wks1 = spreadsheet.get_worksheet(0)\n",
    "to_add = editing_metrics.iloc[:,[0, 1, 2, 11, 12, 13, 14, 15, 16, 17, 18, 19, 20, 21, 22, 23, 24]]\n",
    "append_last_row(to_add, wks1)"
   ]
  },
  {
   "cell_type": "code",
   "execution_count": 5,
   "id": "e8080650-669e-4ae9-8918-56afbc98c715",
   "metadata": {
    "tags": []
   },
   "outputs": [],
   "source": [
    "wks2 = spreadsheet.get_worksheet(1)\n",
    "append_last_row(editing_diversity_metrics, wks2)"
   ]
  },
  {
   "cell_type": "code",
   "execution_count": 6,
   "id": "3e7f0f9c-02bf-4eb7-ba5b-8ce21b410198",
   "metadata": {},
   "outputs": [],
   "source": [
    "wks3 = spreadsheet.get_worksheet(2)\n",
    "mh_metrics = editing_metrics.iloc[:,[0, 6, 7, 8, 9]]\n",
    "append_last_row(mh_metrics, wks3)"
   ]
  },
  {
   "cell_type": "markdown",
   "id": "03c6dbd9-5f65-4f7e-88ab-787240020e8f",
   "metadata": {},
   "source": [
    "## Update readers sheet"
   ]
  },
  {
   "cell_type": "markdown",
   "id": "054cdee2-548c-45c0-a5d5-27fe5b7c7b55",
   "metadata": {},
   "source": [
    "This section updates the metrics in the [\"Readers key product metrics\" Google spreadsheet](https://docs.google.com/spreadsheets/d/1mK-R8qWzKjSeHMBBek9sJsbecdic9s3r28OIW7QkqrE/)."
   ]
  },
  {
   "cell_type": "code",
   "execution_count": 7,
   "id": "51858512-11e9-45e6-b48c-b54f95e110ce",
   "metadata": {},
   "outputs": [],
   "source": [
    "readers_metrics = load(\"metrics/readers_metrics.tsv\")\n",
    "readers_diversity_metrics = load(\"metrics/readers_diversity_metrics.tsv\")\n",
    "\n",
    "spreadsheet = gc.open_by_key(\"1mK-R8qWzKjSeHMBBek9sJsbecdic9s3r28OIW7QkqrE\")"
   ]
  },
  {
   "cell_type": "code",
   "execution_count": 9,
   "id": "d387538d-45b4-4b26-8b18-b9eff2c0c471",
   "metadata": {},
   "outputs": [],
   "source": [
    "wks1 = spreadsheet.get_worksheet(0)\n",
    "to_add = readers_metrics.iloc[:, [0, 1, 2, 3, 4, 5, 6, 7]]\n",
    "append_last_row(to_add, wks1)"
   ]
  },
  {
   "cell_type": "code",
   "execution_count": 10,
   "id": "4b14c9bc-85c1-4e03-95a2-982378c2a9e1",
   "metadata": {},
   "outputs": [],
   "source": [
    "wks2 = spreadsheet.get_worksheet(1)\n",
    "append_last_row(readers_diversity_metrics, wks2)"
   ]
  },
  {
   "cell_type": "code",
   "execution_count": null,
   "id": "f9282786-1f9a-4f23-8953-4c03aaf4fd6a",
   "metadata": {},
   "outputs": [],
   "source": []
  }
 ],
 "metadata": {
  "kernelspec": {
   "display_name": "Python 3 (ipykernel)",
   "language": "python",
   "name": "python3"
  },
  "language_info": {
   "codemirror_mode": {
    "name": "ipython",
    "version": 3
   },
   "file_extension": ".py",
   "mimetype": "text/x-python",
   "name": "python",
   "nbconvert_exporter": "python",
   "pygments_lexer": "ipython3",
   "version": "3.10.8"
  }
 },
 "nbformat": 4,
 "nbformat_minor": 5
}

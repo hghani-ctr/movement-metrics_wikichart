{
 "cells": [
  {
   "cell_type": "markdown",
   "metadata": {},
   "source": [
    "# Import"
   ]
  },
  {
   "cell_type": "code",
   "execution_count": 8,
   "metadata": {},
   "outputs": [],
   "source": [
    "from functools import reduce\n",
    "from pathlib import Path\n",
    "import time\n",
    "import datetime\n",
    "\n",
    "import pandas as pd\n",
    "import requests\n",
    "from wmfdata import hive, spark\n",
    "from wmfdata.utils import print_err, pd_display_all\n",
    "\n",
    "import warnings\n",
    "warnings.filterwarnings('ignore')\n"
   ]
  },
  {
   "cell_type": "markdown",
   "metadata": {},
   "source": [
    "# Parameters"
   ]
  },
  {
   "cell_type": "code",
   "execution_count": 9,
   "metadata": {},
   "outputs": [],
   "source": [
    "# TSV file where metrics are or will be saved\n",
    "FILENAME = \"metrics/readers_metrics.tsv\"\n",
    "\n",
    "# Metric month. The mediawiki_history snapshot must be from the metrics month or later.\n",
    "last_month = datetime.date.today().replace(day=1) - datetime.timedelta(days=1)\n",
    "\n",
    "METRICS_MONTH_TEXT = last_month.strftime(\"%Y-%m\")\n",
    "MEDIAWIKI_HISTORY_SNAPSHOT = last_month.strftime(\"%Y-%m\")\n",
    "\n"
   ]
  },
  {
   "cell_type": "code",
   "execution_count": 10,
   "metadata": {},
   "outputs": [
    {
     "data": {
      "text/plain": [
       "datetime.date(2023, 8, 31)"
      ]
     },
     "execution_count": 10,
     "metadata": {},
     "output_type": "execute_result"
    }
   ],
   "source": [
    "datetime.date.today().replace(day=1) - datetime.timedelta(days=1)"
   ]
  },
  {
   "cell_type": "markdown",
   "metadata": {},
   "source": [
    "# Preparation"
   ]
  },
  {
   "cell_type": "code",
   "execution_count": 11,
   "metadata": {},
   "outputs": [],
   "source": [
    "# Convert our metrics month to all the formats we need and provide them in a dict\n",
    "# so we can easily use them to format strings\n",
    "metrics_month = METRICS_MONTH_TEXT\n",
    "date_params = {\n",
    "    \"mediawiki_history_snapshot\": MEDIAWIKI_HISTORY_SNAPSHOT,\n",
    "    \"metrics_month\": str(metrics_month),\n",
    "    #\"metrics_prev_month\": str(metrics_month - 1),\n",
    "    #\"metrics_month_start\": str(metrics_month.start_time), \n",
    "    \"metrics_month_first_day\": str((datetime.date.today()- datetime.timedelta(days=31)).replace(day=1)),\n",
    "    #\"metrics_month_end\": str(last_month),\n",
    "    \"metrics_month_last_day\": str(last_month),\n",
    "    \"metrics_year\": last_month.year,\n",
    "    \"metrics_cur_month\" : last_month.month\n",
    "}\n",
    "\n",
    "# Load any previous results\n",
    "try:\n",
    "    old_metrics = (\n",
    "        pd.read_csv(FILENAME, sep=\"\\t\", parse_dates = [\"month\"])\n",
    "        .set_index(\"month\")\n",
    "    )\n",
    "except FileNotFoundError:\n",
    "    old_metrics = None\n",
    "    \n",
    "def prepare_query(filename):\n",
    "    return (\n",
    "        Path(filename)\n",
    "        .read_text()\n",
    "        .format(**date_params)\n",
    "    )"
   ]
  },
  {
   "cell_type": "code",
   "execution_count": 12,
   "metadata": {},
   "outputs": [
    {
     "data": {
      "text/plain": [
       "{'mediawiki_history_snapshot': '2023-08',\n",
       " 'metrics_month': '2023-08',\n",
       " 'metrics_month_first_day': '2023-08-01',\n",
       " 'metrics_month_last_day': '2023-08-31',\n",
       " 'metrics_year': 2023,\n",
       " 'metrics_cur_month': 8}"
      ]
     },
     "execution_count": 12,
     "metadata": {},
     "output_type": "execute_result"
    }
   ],
   "source": [
    "date_params"
   ]
  },
  {
   "cell_type": "markdown",
   "metadata": {},
   "source": [
    "# MariaDB and Hive query metrics\n"
   ]
  },
  {
   "cell_type": "code",
   "execution_count": 13,
   "metadata": {},
   "outputs": [],
   "source": [
    "# Code to Suppress PySpark Warning messages\n",
    "from warnings import filterwarnings\n",
    "filterwarnings(\"ignore\")"
   ]
  },
  {
   "cell_type": "code",
   "execution_count": 14,
   "metadata": {},
   "outputs": [
    {
     "name": "stderr",
     "output_type": "stream",
     "text": [
      "Running pageviews on hive...\n"
     ]
    },
    {
     "name": "stdout",
     "output_type": "stream",
     "text": [
      "\n",
      "SPARK_HOME: /usr/lib/spark3\n",
      "Using Hadoop client lib jars at 3.2.0, provided by Spark.\n",
      "PYSPARK_PYTHON=/opt/conda-analytics/bin/python3\n"
     ]
    },
    {
     "name": "stderr",
     "output_type": "stream",
     "text": [
      "Setting default log level to \"WARN\".\n",
      "To adjust logging level use sc.setLogLevel(newLevel). For SparkR, use setLogLevel(newLevel).\n",
      "23/09/21 23:03:21 WARN SparkConf: Note that spark.local.dir will be overridden by the value set by the cluster manager (via SPARK_LOCAL_DIRS in mesos/standalone/kubernetes and LOCAL_DIRS in YARN).\n",
      "23/09/21 23:03:34 WARN YarnSchedulerBackend$YarnSchedulerEndpoint: Attempted to request executors before the AM has registered!\n",
      "23/09/21 23:03:39 WARN SessionState: METASTORE_FILTER_HOOK will be ignored, since hive.security.authorization.manager is set to instance of HiveAuthorizerFactory.\n",
      "Running automated_pageviews on hive...                                          \n"
     ]
    },
    {
     "name": "stdout",
     "output_type": "stream",
     "text": [
      "\n"
     ]
    },
    {
     "name": "stderr",
     "output_type": "stream",
     "text": [
      "Running page_previews on hive...                                                \n"
     ]
    },
    {
     "name": "stdout",
     "output_type": "stream",
     "text": [
      "\n"
     ]
    },
    {
     "name": "stderr",
     "output_type": "stream",
     "text": [
      "Running unique_devices on hive...                                               \n"
     ]
    },
    {
     "name": "stdout",
     "output_type": "stream",
     "text": [
      "\n"
     ]
    }
   ],
   "source": [
    "queries = {\n",
    "    \"pageviews\": {\n",
    "        \"file\": \"queries/pageviews.hql\",\n",
    "        \"engine\": \"hive\"\n",
    "    },\n",
    "    \n",
    "    \"automated_pageviews\": {\n",
    "        \"file\": \"queries/automated_pageviews.hql\",\n",
    "        \"engine\": \"hive\"\n",
    "    },\n",
    "    \"page_previews\": {\n",
    "        \"file\": \"queries/page_previews.hql\",\n",
    "        \"engine\": \"hive\"\n",
    "    },\n",
    "    \"unique_devices\": {\n",
    "        \"file\": \"queries/unique_devices.hql\",\n",
    "        \"engine\": \"hive\"\n",
    "    }\n",
    "\n",
    "\n",
    "# Removing since global south metrics are calculated in notebook 02b-diversity-calculation.ipynb\n",
    "   # ,\n",
    "   # \"global_south_pageviews\": {\n",
    "   #     \"file\": \"queries/global_south_pageviews.hql\",\n",
    "   #     \"engine\": \"hive\"\n",
    "   # },\n",
    "    \n",
    "   # \"global_south_previews\": {\n",
    "   #     \"file\": \"queries/global_south_previews.hql\",\n",
    "   #     \"engine\": \"hive\"\n",
    "   # }\n",
    "    \n",
    "# Removing since mobile-heavy metrics are no longer tracked/reported on in the key product metrics presentations\n",
    "    #\"mobile-heavy_pageviews\": {\n",
    "    #    \"file\": \"queries/mobile_heavy_pageviews.hql\",\n",
    "    #    \"engine\": \"hive\" }, \n",
    "    #\"mobile-heavy_previews\": {\n",
    "    #   \"file\": \"queries/mobile_heavy_previews.hql\",\n",
    "    #   \"engine\": \"hive\" }\n",
    "    \n",
    "       \n",
    "}\n",
    "\n",
    "\n",
    "for key, val in queries.items():\n",
    "    query = prepare_query(val[\"file\"])\n",
    "    engine = val[\"engine\"]\n",
    "    print_err(\"Running {} on {}...\".format(key, engine))\n",
    "    \n",
    "    if engine == \"mariadb\":\n",
    "        result = mariadb.run(query)\n",
    "    elif engine == \"hive\":\n",
    "        result = spark.run(query)\n",
    "    else:\n",
    "        raise ValueError(\"Unknown engine specified.\") \n",
    "    \n",
    "    result = result.assign(month=lambda df: pd.to_datetime(df[\"month\"]))\n",
    "    val[\"result\"] = result"
   ]
  },
  {
   "cell_type": "markdown",
   "metadata": {},
   "source": [
    "# Combining and saving metrics"
   ]
  },
  {
   "cell_type": "code",
   "execution_count": 15,
   "metadata": {},
   "outputs": [],
   "source": [
    "# Assemble list of result dataframes\n",
    "results = [val[\"result\"] for _, val in queries.items()]\n",
    "\n",
    "# Merge them all, assuming that the month is the only common column\n",
    "new_metrics = reduce(lambda l, r: pd.merge(l, r, how=\"outer\"), results)\n",
    "\n",
    "# Set the month as an index so combine_first works properly\n",
    "new_metrics = new_metrics.set_index(\"month\").sort_index()\n",
    "\n",
    "# Add Metrics for Interactions\n",
    "new_metrics['interactions'] = new_metrics.apply(lambda x: x['previews_seen'] + x['total_pageview'], axis=1)\n"
   ]
  },
  {
   "cell_type": "code",
   "execution_count": 16,
   "metadata": {},
   "outputs": [
    {
     "data": {
      "text/html": [
       "<div>\n",
       "<style scoped>\n",
       "    .dataframe tbody tr th:only-of-type {\n",
       "        vertical-align: middle;\n",
       "    }\n",
       "\n",
       "    .dataframe tbody tr th {\n",
       "        vertical-align: top;\n",
       "    }\n",
       "\n",
       "    .dataframe thead th {\n",
       "        text-align: right;\n",
       "    }\n",
       "</style>\n",
       "<table border=\"1\" class=\"dataframe\">\n",
       "  <thead>\n",
       "    <tr style=\"text-align: right;\">\n",
       "      <th></th>\n",
       "      <th>automated_pageviews</th>\n",
       "      <th>desktop</th>\n",
       "      <th>interactions</th>\n",
       "      <th>mobileweb</th>\n",
       "      <th>previews_seen</th>\n",
       "      <th>total_pageview</th>\n",
       "      <th>unique_devices</th>\n",
       "    </tr>\n",
       "    <tr>\n",
       "      <th>month</th>\n",
       "      <th></th>\n",
       "      <th></th>\n",
       "      <th></th>\n",
       "      <th></th>\n",
       "      <th></th>\n",
       "      <th></th>\n",
       "      <th></th>\n",
       "    </tr>\n",
       "  </thead>\n",
       "  <tbody>\n",
       "    <tr>\n",
       "      <th>2022-11-01</th>\n",
       "      <td>3.125762e+09</td>\n",
       "      <td>6639885018</td>\n",
       "      <td>2.103694e+10</td>\n",
       "      <td>12391464131</td>\n",
       "      <td>1.725951e+09</td>\n",
       "      <td>19310984429</td>\n",
       "      <td>1.602483e+09</td>\n",
       "    </tr>\n",
       "    <tr>\n",
       "      <th>2022-12-01</th>\n",
       "      <td>1.514616e+09</td>\n",
       "      <td>6245363227</td>\n",
       "      <td>1.853431e+10</td>\n",
       "      <td>10336993739</td>\n",
       "      <td>1.645032e+09</td>\n",
       "      <td>16889273891</td>\n",
       "      <td>1.580337e+09</td>\n",
       "    </tr>\n",
       "    <tr>\n",
       "      <th>2023-01-01</th>\n",
       "      <td>2.058892e+09</td>\n",
       "      <td>6655879078</td>\n",
       "      <td>2.052910e+10</td>\n",
       "      <td>11696154738</td>\n",
       "      <td>1.853753e+09</td>\n",
       "      <td>18675346647</td>\n",
       "      <td>1.623196e+09</td>\n",
       "    </tr>\n",
       "    <tr>\n",
       "      <th>2023-02-01</th>\n",
       "      <td>2.484894e+09</td>\n",
       "      <td>5809895389</td>\n",
       "      <td>1.896141e+10</td>\n",
       "      <td>11232689898</td>\n",
       "      <td>1.643540e+09</td>\n",
       "      <td>17317864773</td>\n",
       "      <td>1.556624e+09</td>\n",
       "    </tr>\n",
       "    <tr>\n",
       "      <th>2023-03-01</th>\n",
       "      <td>2.851128e+09</td>\n",
       "      <td>6554145894</td>\n",
       "      <td>2.110827e+10</td>\n",
       "      <td>12446354588</td>\n",
       "      <td>1.808851e+09</td>\n",
       "      <td>19299418022</td>\n",
       "      <td>1.666366e+09</td>\n",
       "    </tr>\n",
       "    <tr>\n",
       "      <th>2023-04-01</th>\n",
       "      <td>1.835848e+09</td>\n",
       "      <td>5903055420</td>\n",
       "      <td>1.857836e+10</td>\n",
       "      <td>10744497885</td>\n",
       "      <td>1.635800e+09</td>\n",
       "      <td>16942562523</td>\n",
       "      <td>1.653133e+09</td>\n",
       "    </tr>\n",
       "    <tr>\n",
       "      <th>2023-05-01</th>\n",
       "      <td>2.788857e+09</td>\n",
       "      <td>6136981565</td>\n",
       "      <td>2.086826e+10</td>\n",
       "      <td>12693678053</td>\n",
       "      <td>1.738922e+09</td>\n",
       "      <td>19129336129</td>\n",
       "      <td>1.596438e+09</td>\n",
       "    </tr>\n",
       "    <tr>\n",
       "      <th>2023-06-01</th>\n",
       "      <td>2.535726e+09</td>\n",
       "      <td>5642808989</td>\n",
       "      <td>1.956977e+10</td>\n",
       "      <td>12093286214</td>\n",
       "      <td>1.548887e+09</td>\n",
       "      <td>18020883276</td>\n",
       "      <td>1.522910e+09</td>\n",
       "    </tr>\n",
       "    <tr>\n",
       "      <th>2023-07-01</th>\n",
       "      <td>2.765634e+09</td>\n",
       "      <td>5557997700</td>\n",
       "      <td>2.010882e+10</td>\n",
       "      <td>12691626287</td>\n",
       "      <td>1.547944e+09</td>\n",
       "      <td>18560871345</td>\n",
       "      <td>1.515395e+09</td>\n",
       "    </tr>\n",
       "    <tr>\n",
       "      <th>2023-08-01</th>\n",
       "      <td>2.979971e+09</td>\n",
       "      <td>5671123170</td>\n",
       "      <td>2.054479e+10</td>\n",
       "      <td>12970986524</td>\n",
       "      <td>1.590671e+09</td>\n",
       "      <td>18954115181</td>\n",
       "      <td>1.528966e+09</td>\n",
       "    </tr>\n",
       "  </tbody>\n",
       "</table>\n",
       "</div>"
      ],
      "text/plain": [
       "            automated_pageviews     desktop  interactions    mobileweb  \\\n",
       "month                                                                    \n",
       "2022-11-01  3.125762e+09         6639885018  2.103694e+10  12391464131   \n",
       "2022-12-01  1.514616e+09         6245363227  1.853431e+10  10336993739   \n",
       "2023-01-01  2.058892e+09         6655879078  2.052910e+10  11696154738   \n",
       "2023-02-01  2.484894e+09         5809895389  1.896141e+10  11232689898   \n",
       "2023-03-01  2.851128e+09         6554145894  2.110827e+10  12446354588   \n",
       "2023-04-01  1.835848e+09         5903055420  1.857836e+10  10744497885   \n",
       "2023-05-01  2.788857e+09         6136981565  2.086826e+10  12693678053   \n",
       "2023-06-01  2.535726e+09         5642808989  1.956977e+10  12093286214   \n",
       "2023-07-01  2.765634e+09         5557997700  2.010882e+10  12691626287   \n",
       "2023-08-01  2.979971e+09         5671123170  2.054479e+10  12970986524   \n",
       "\n",
       "            previews_seen  total_pageview  unique_devices  \n",
       "month                                                      \n",
       "2022-11-01  1.725951e+09   19310984429     1.602483e+09    \n",
       "2022-12-01  1.645032e+09   16889273891     1.580337e+09    \n",
       "2023-01-01  1.853753e+09   18675346647     1.623196e+09    \n",
       "2023-02-01  1.643540e+09   17317864773     1.556624e+09    \n",
       "2023-03-01  1.808851e+09   19299418022     1.666366e+09    \n",
       "2023-04-01  1.635800e+09   16942562523     1.653133e+09    \n",
       "2023-05-01  1.738922e+09   19129336129     1.596438e+09    \n",
       "2023-06-01  1.548887e+09   18020883276     1.522910e+09    \n",
       "2023-07-01  1.547944e+09   18560871345     1.515395e+09    \n",
       "2023-08-01  1.590671e+09   18954115181     1.528966e+09    "
      ]
     },
     "metadata": {},
     "output_type": "display_data"
    }
   ],
   "source": [
    "if old_metrics is None:\n",
    "    metrics = new_metrics\n",
    "else:\n",
    "    metrics = new_metrics.combine_first(old_metrics)\n",
    "    \n",
    "pd_display_all(metrics.tail(10))"
   ]
  },
  {
   "cell_type": "code",
   "execution_count": 17,
   "metadata": {},
   "outputs": [],
   "source": [
    "metrics.to_csv(FILENAME, sep=\"\\t\")"
   ]
  },
  {
   "cell_type": "code",
   "execution_count": null,
   "metadata": {},
   "outputs": [],
   "source": []
  },
  {
   "cell_type": "code",
   "execution_count": null,
   "metadata": {},
   "outputs": [],
   "source": []
  }
 ],
 "metadata": {
  "kernelspec": {
   "display_name": "Python 3 (ipykernel)",
   "language": "python",
   "name": "python3"
  },
  "language_info": {
   "codemirror_mode": {
    "name": "ipython",
    "version": 3
   },
   "file_extension": ".py",
   "mimetype": "text/x-python",
   "name": "python",
   "nbconvert_exporter": "python",
   "pygments_lexer": "ipython3",
   "version": "3.10.8"
  }
 },
 "nbformat": 4,
 "nbformat_minor": 4
}

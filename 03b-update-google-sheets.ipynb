{
 "cells": [
  {
   "cell_type": "code",
   "execution_count": 1,
   "id": "1763b658-6e31-4a48-a37e-1b2bf91ac1c4",
   "metadata": {},
   "outputs": [],
   "source": [
    "from google.oauth2.service_account import Credentials\n",
    "import gspread\n",
    "import pandas as pd"
   ]
  },
  {
   "cell_type": "markdown",
   "id": "012114c7-3888-4db4-a602-7da29ae6c3f0",
   "metadata": {},
   "source": [
    "# Update Editors Google Sheet"
   ]
  },
  {
   "cell_type": "code",
   "execution_count": 2,
   "id": "fa4ef5d5-5402-4e9c-9540-a4df1dc2c2d7",
   "metadata": {},
   "outputs": [],
   "source": [
    "all_metrics = pd.read_csv(\"metrics/editing_metrics.tsv\", sep=\"\\t\")\n",
    "\n",
    "diversity_metrics = pd.read_csv(\"metrics/editing_diversity_metrics.tsv\", sep=\"\\t\")"
   ]
  },
  {
   "cell_type": "code",
   "execution_count": 3,
   "id": "bdaa916e-3b76-4735-a5c5-ec2ced19a45a",
   "metadata": {},
   "outputs": [],
   "source": [
    "scope = ['https://spreadsheets.google.com/feeds',\n",
    "         'https://www.googleapis.com/auth/drive']\n",
    "\n",
    "credentials = Credentials.from_service_account_file('key-metrics-343717-07427b76df93.json', scopes=scope)\n",
    "gc = gspread.authorize(credentials)"
   ]
  },
  {
   "cell_type": "code",
   "execution_count": 4,
   "id": "669cab77-e451-495a-b9e3-e898bd433f78",
   "metadata": {},
   "outputs": [],
   "source": [
    "all_metrics.iloc[-1,1:] = all_metrics.iloc[-1,1:].astype(float)\n",
    "diversity_metrics.iloc[-1,1:] = diversity_metrics.iloc[-1,1:].astype(float)"
   ]
  },
  {
   "cell_type": "code",
   "execution_count": 5,
   "id": "58cfefdf-9dc2-47fd-a0d0-37cbc3d356a8",
   "metadata": {},
   "outputs": [],
   "source": [
    "@property\n",
    "def sheet1(self):\n",
    "    \"\"\"Shortcut property for getting the first worksheet.\"\"\"\n",
    "    return self.get_worksheet(0)"
   ]
  },
  {
   "cell_type": "code",
   "execution_count": 7,
   "id": "7a31cc93-3fd6-4372-bf3d-8bc6acd9fdd0",
   "metadata": {},
   "outputs": [
    {
     "data": {
      "text/plain": [
       "{'spreadsheetId': '1wfTtHjQP9Kj0WME15ESJ-4dSMGMpbtY8qOuDVcwZovQ',\n",
       " 'tableRange': 'metrics!A1:Q272',\n",
       " 'updates': {'spreadsheetId': '1wfTtHjQP9Kj0WME15ESJ-4dSMGMpbtY8qOuDVcwZovQ',\n",
       "  'updatedRange': 'metrics!A273:Q273',\n",
       "  'updatedRows': 1,\n",
       "  'updatedColumns': 17,\n",
       "  'updatedCells': 17}}"
      ]
     },
     "execution_count": 7,
     "metadata": {},
     "output_type": "execute_result"
    }
   ],
   "source": [
    "wks1 = gc.open(\"Editors and content key product metrics\").sheet1\n",
    "new_metrics = all_metrics.iloc[-1,[0,1,2,11,12,13,14,15,16,17,18,19,20,21,22,23,24]].tolist()\n",
    "wks1.append_row(new_metrics)"
   ]
  },
  {
   "cell_type": "code",
   "execution_count": 8,
   "id": "b47b3847-285c-4be1-8833-370411c071ab",
   "metadata": {},
   "outputs": [],
   "source": [
    "# To address NaN values that may cause errors when moving the values to sheets\n",
    "#Replace all np.nan values with python's None\n",
    "diversity_metrics = diversity_metrics.where(pd.notnull(diversity_metrics), None)"
   ]
  },
  {
   "cell_type": "code",
   "execution_count": 9,
   "id": "98178842-0ebe-47d2-808c-8ba3416fded8",
   "metadata": {},
   "outputs": [],
   "source": [
    "#You need to change the datatype to object\n",
    "diversity_metrics = diversity_metrics.astype(object).where(diversity_metrics.notna(), None)"
   ]
  },
  {
   "cell_type": "code",
   "execution_count": 11,
   "id": "e8080650-669e-4ae9-8918-56afbc98c715",
   "metadata": {
    "tags": []
   },
   "outputs": [
    {
     "data": {
      "text/plain": [
       "{'spreadsheetId': '1wfTtHjQP9Kj0WME15ESJ-4dSMGMpbtY8qOuDVcwZovQ',\n",
       " 'tableRange': 'diversity_global_market!A1:M67',\n",
       " 'updates': {'spreadsheetId': '1wfTtHjQP9Kj0WME15ESJ-4dSMGMpbtY8qOuDVcwZovQ',\n",
       "  'updatedRange': 'diversity_global_market!A68:M68',\n",
       "  'updatedRows': 1,\n",
       "  'updatedColumns': 11,\n",
       "  'updatedCells': 11}}"
      ]
     },
     "execution_count": 11,
     "metadata": {},
     "output_type": "execute_result"
    }
   ],
   "source": [
    "wks2 = gc.open(\"Editors and content key product metrics\").get_worksheet(1)\n",
    "div_metrics = diversity_metrics.iloc[-1].tolist()\n",
    "wks2.append_row(div_metrics)"
   ]
  },
  {
   "cell_type": "code",
   "execution_count": 12,
   "id": "3e7f0f9c-02bf-4eb7-ba5b-8ce21b410198",
   "metadata": {},
   "outputs": [
    {
     "data": {
      "text/plain": [
       "{'spreadsheetId': '1wfTtHjQP9Kj0WME15ESJ-4dSMGMpbtY8qOuDVcwZovQ',\n",
       " 'tableRange': 'diversity_mobile_heavy!A1:E270',\n",
       " 'updates': {'spreadsheetId': '1wfTtHjQP9Kj0WME15ESJ-4dSMGMpbtY8qOuDVcwZovQ',\n",
       "  'updatedRange': 'diversity_mobile_heavy!A271:E271',\n",
       "  'updatedRows': 1,\n",
       "  'updatedColumns': 5,\n",
       "  'updatedCells': 5}}"
      ]
     },
     "execution_count": 12,
     "metadata": {},
     "output_type": "execute_result"
    }
   ],
   "source": [
    "wks3 = gc.open(\"Editors and content key product metrics\").get_worksheet(2)\n",
    "mh_metrics = all_metrics.iloc[-1,[0,6,7,8,9]].tolist()\n",
    "wks3.append_row(mh_metrics)"
   ]
  }
 ],
 "metadata": {
  "kernelspec": {
   "display_name": "Python 3 (ipykernel)",
   "language": "python",
   "name": "python3"
  },
  "language_info": {
   "codemirror_mode": {
    "name": "ipython",
    "version": 3
   },
   "file_extension": ".py",
   "mimetype": "text/x-python",
   "name": "python",
   "nbconvert_exporter": "python",
   "pygments_lexer": "ipython3",
   "version": "3.10.8"
  }
 },
 "nbformat": 4,
 "nbformat_minor": 5
}

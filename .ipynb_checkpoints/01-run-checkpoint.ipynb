{
 "cells": [
  {
   "cell_type": "code",
   "execution_count": 1,
   "id": "89f4e457-0f53-4256-b114-e7c43cd035fd",
   "metadata": {},
   "outputs": [],
   "source": [
    "import pandas as pd\n",
    "import matplotlib.pyplot as plt\n",
    "import matplotlib.font_manager\n",
    "import os\n",
    "from os.path import dirname\n"
   ]
  },
  {
   "cell_type": "code",
   "execution_count": 2,
   "id": "16998d5b-afcb-41b8-8240-5bd85b5e3334",
   "metadata": {},
   "outputs": [],
   "source": [
    "#step 0 - git pull to stay up to date with the repo on Github\n",
    "#Step 1 - make sure that there's data on the API --- see emails in the product analytics email account\n",
    "#Step 2 - run the four notebooks noted below on a stat box "
   ]
  },
  {
   "cell_type": "code",
   "execution_count": null,
   "id": "ce21ef71-ef02-4a3c-8a00-fe6b79915bdc",
   "metadata": {
    "tags": []
   },
   "outputs": [],
   "source": [
    "%run '02a-calculation.ipynb';"
   ]
  },
  {
   "cell_type": "code",
   "execution_count": null,
   "id": "d1436b1f-3fbf-4a78-abbb-63ed7a75fac0",
   "metadata": {
    "tags": []
   },
   "outputs": [],
   "source": [
    "%run '02b-diversity-calculation.ipynb';"
   ]
  },
  {
   "cell_type": "code",
   "execution_count": 6,
   "id": "9cee28d9-cf44-4bcc-9c7d-ba2deacba1dd",
   "metadata": {},
   "outputs": [
    {
     "name": "stdout",
     "output_type": "stream",
     "text": [
      "Monthly report\n",
      "Previous month's report\n"
     ]
    }
   ],
   "source": [
    "# TODO get ouput here \n",
    "# see the report here: https://github.com/wikimedia-research/Editing-movement-metrics/blob/master/03a-report.ipynb\n",
    "%run '03a-report.ipynb'"
   ]
  },
  {
   "cell_type": "code",
   "execution_count": null,
   "id": "05e93dd7-0fcc-4c58-b5fa-e4973e702d9e",
   "metadata": {
    "tags": []
   },
   "outputs": [],
   "source": [
    "# see the viz repo for further documentation: https://github.com/wikimedia-research/key_product_metrics/ \n",
    "# data_path = \"../metrics/metrics.tsv\"\n",
    "# chart files can be accessed here: https://github.com/wikimedia-research/Editing-movement-metrics/charts\n",
    "%run key_product_metrics/wikicharts/EDITOR_METRICS.ipynb"
   ]
  },
  {
   "cell_type": "code",
   "execution_count": null,
   "id": "16ee9292-2416-4b0c-a9f7-3afb640e683e",
   "metadata": {},
   "outputs": [],
   "source": [
    "# proceed to step 4 as noted in the readme file"
   ]
  }
 ],
 "metadata": {
  "kernelspec": {
   "display_name": "Python 3 (ipykernel)",
   "language": "python",
   "name": "python3"
  },
  "language_info": {
   "codemirror_mode": {
    "name": "ipython",
    "version": 3
   },
   "file_extension": ".py",
   "mimetype": "text/x-python",
   "name": "python",
   "nbconvert_exporter": "python",
   "pygments_lexer": "ipython3",
   "version": "3.10.8"
  }
 },
 "nbformat": 4,
 "nbformat_minor": 5
}

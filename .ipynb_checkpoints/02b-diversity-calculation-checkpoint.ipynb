{
 "cells": [
  {
   "cell_type": "markdown",
   "metadata": {},
   "source": [
    "# Imports"
   ]
  },
  {
   "cell_type": "code",
   "execution_count": 1,
   "metadata": {},
   "outputs": [
    {
     "name": "stderr",
     "output_type": "stream",
     "text": [
      "You are using an anaconda-wmf environment.\n",
      "\n",
      "You must switch to a conda-analytics environment by 31 March 2023.\n",
      "\n",
      "For details, see https://wikitech.wikimedia.org/wiki/Analytics/Systems/Conda.\n"
     ]
    },
    {
     "name": "stdout",
     "output_type": "stream",
     "text": [
      "\n"
     ]
    }
   ],
   "source": [
    "from functools import reduce\n",
    "from pathlib import Path\n",
    "import time\n",
    "import datetime\n",
    "\n",
    "import pandas as pd\n",
    "import requests\n",
    "from wmfdata import hive\n",
    "from wmfdata.utils import print_err, pd_display_all"
   ]
  },
  {
   "cell_type": "markdown",
   "metadata": {},
   "source": [
    "# Parameters"
   ]
  },
  {
   "cell_type": "code",
   "execution_count": 2,
   "metadata": {},
   "outputs": [],
   "source": [
    "# TSV file where metrics are or will be saved\n",
    "FILENAME = \"metrics/diversity_metrics.tsv\"\n",
    "\n",
    "# Metric month. The mediawiki_history snapshot must be from the metrics month or later.\n",
    "# METRICS_MONTH_TEXT = '2019-07'\n",
    "# MEDIAWIKI_HISTORY_SNAPSHOT = '2019-07'\n",
    "\n",
    "last_month = datetime.date.today().replace(day=1) - datetime.timedelta(days=1)\n",
    "\n",
    "METRICS_MONTH_TEXT = last_month.strftime(\"%Y-%m\")\n",
    "MEDIAWIKI_HISTORY_SNAPSHOT = last_month.strftime(\"%Y-%m\")\n"
   ]
  },
  {
   "cell_type": "markdown",
   "metadata": {},
   "source": [
    "# Preparation"
   ]
  },
  {
   "cell_type": "code",
   "execution_count": 3,
   "metadata": {},
   "outputs": [],
   "source": [
    "# Convert our metrics month to all the formats we need and provide them in a dict\n",
    "# so we can easily use them to format strings\n",
    "metrics_month = pd.Period(METRICS_MONTH_TEXT)\n",
    "date_params = {\n",
    "    \"mediawiki_history_snapshot\": MEDIAWIKI_HISTORY_SNAPSHOT,\n",
    "    \"metrics_month\": str(metrics_month), \n",
    "    \"metrics_month_first_day\": str(metrics_month.asfreq(\"D\", how=\"start\")),\n",
    "    \"metrics_next_month_first_day\": str((metrics_month+1).asfreq(\"D\", how=\"start\")),\n",
    "    \"metrics_month_end\": str((metrics_month + 1).start_time),\n",
    "    \"metrics_month_last_day\": str(metrics_month.asfreq(\"D\", how=\"end\")),\n",
    "    \"api_metrics_month_first_day\": metrics_month.asfreq(\"D\", how=\"start\").strftime(\"%Y%m%d\"),\n",
    "    \"api_metrics_month_day_after\": (metrics_month + 1).asfreq(\"D\", how=\"start\").strftime(\"%Y%m%d\"),\n",
    "    \"metrics_prev_month\": str(metrics_month - 1),\n",
    "    \"retention_cohort\": str(metrics_month - 2)\n",
    "}\n",
    "\n",
    "# Load any previous results\n",
    "try:\n",
    "    old_metrics = (\n",
    "        pd.read_csv(FILENAME, sep=\"\\t\", parse_dates = [\"month\"])\n",
    "        .set_index(\"month\")\n",
    "    )\n",
    "except FileNotFoundError:\n",
    "    old_metrics = None\n",
    "    \n",
    "def prepare_query(filename):\n",
    "    return (\n",
    "        Path(filename)\n",
    "        .read_text()\n",
    "        .format(**date_params)\n",
    "    )"
   ]
  },
  {
   "cell_type": "markdown",
   "metadata": {},
   "source": [
    "# MariaDB and Hive query metrics"
   ]
  },
  {
   "cell_type": "code",
   "execution_count": 4,
   "metadata": {},
   "outputs": [
    {
     "name": "stderr",
     "output_type": "stream",
     "text": [
      "Running global_south_edits_editors on hive...\n"
     ]
    },
    {
     "name": "stdout",
     "output_type": "stream",
     "text": [
      "\n"
     ]
    },
    {
     "name": "stderr",
     "output_type": "stream",
     "text": [
      "Running global_south_new_editor_retention on hive...\n"
     ]
    },
    {
     "name": "stdout",
     "output_type": "stream",
     "text": [
      "\n"
     ]
    },
    {
     "name": "stderr",
     "output_type": "stream",
     "text": [
      "Running global_south_net_new_content on hive...\n"
     ]
    },
    {
     "name": "stdout",
     "output_type": "stream",
     "text": [
      "\n"
     ]
    },
    {
     "name": "stderr",
     "output_type": "stream",
     "text": [
      "Running global_south_wikidata_entities on hive...\n"
     ]
    },
    {
     "name": "stdout",
     "output_type": "stream",
     "text": [
      "\n"
     ]
    },
    {
     "name": "stderr",
     "output_type": "stream",
     "text": [
      "Running global_north_edits_editors on hive...\n"
     ]
    },
    {
     "name": "stdout",
     "output_type": "stream",
     "text": [
      "\n"
     ]
    },
    {
     "name": "stderr",
     "output_type": "stream",
     "text": [
      "Running global_north_new_editor_retention on hive...\n"
     ]
    },
    {
     "name": "stdout",
     "output_type": "stream",
     "text": [
      "\n"
     ]
    },
    {
     "name": "stderr",
     "output_type": "stream",
     "text": [
      "Running global_north_net_new_content on hive...\n"
     ]
    },
    {
     "name": "stdout",
     "output_type": "stream",
     "text": [
      "\n"
     ]
    },
    {
     "name": "stderr",
     "output_type": "stream",
     "text": [
      "Running global_north_wikidata_entities on hive...\n"
     ]
    },
    {
     "name": "stdout",
     "output_type": "stream",
     "text": [
      "\n"
     ]
    }
   ],
   "source": [
    "queries = {\n",
    "    \"global_south_edits_editors\": {\n",
    "        \"file\": \"queries/global_south_edits_editors.hql\",\n",
    "        \"engine\": \"hive\"\n",
    "    },\n",
    "\n",
    "    \"global_south_new_editor_retention\": {\n",
    "        \"file\": \"queries/global_south_new_editor_retention.hql\",\n",
    "        \"engine\": \"hive\"\n",
    "    },\n",
    "    \n",
    "    \"global_south_net_new_content\": {\n",
    "        \"file\": \"queries/global_south_net_new_content.hql\",\n",
    "        \"engine\": \"hive\"\n",
    "    },\n",
    "    \n",
    "    \"global_south_wikidata_entities\": {\n",
    "        \"file\": \"queries/global_south_net_new_wikidata.hql\",\n",
    "        \"engine\": \"hive\"\n",
    "    },\n",
    "    \n",
    "    \"global_north_edits_editors\": {\n",
    "        \"file\": \"queries/global_north_edits_editors.hql\",\n",
    "        \"engine\": \"hive\"\n",
    "    },\n",
    "\n",
    "    \"global_north_new_editor_retention\": {\n",
    "        \"file\": \"queries/global_north_new_editor_retention.hql\",\n",
    "        \"engine\": \"hive\"\n",
    "    },\n",
    "    \n",
    "    \"global_north_net_new_content\": {\n",
    "        \"file\": \"queries/global_north_net_new_content.hql\",\n",
    "        \"engine\": \"hive\"\n",
    "    },\n",
    "    \"global_north_wikidata_entities\": {\n",
    "        \"file\": \"queries/global_north_net_new_wikidata.hql\",\n",
    "        \"engine\": \"hive\"\n",
    "    }\n",
    "}\n",
    "\n",
    "\n",
    "for key, val in queries.items():\n",
    "    query = prepare_query(val[\"file\"])\n",
    "    engine = val[\"engine\"]\n",
    "    print_err(\"Running {} on {}...\".format(key, engine))\n",
    "    \n",
    "    if engine == \"mariadb\":\n",
    "        result = mariadb.run(query)\n",
    "    elif engine == \"hive\":\n",
    "        result = hive.run(query)\n",
    "    else:\n",
    "        raise ValueError(\"Unknown engine specified.\") \n",
    "    \n",
    "    result = result.assign(month=lambda df: pd.to_datetime(df[\"month\"]))\n",
    "    val[\"result\"] = result"
   ]
  },
  {
   "cell_type": "markdown",
   "metadata": {},
   "source": [
    "# Combining and saving metrics"
   ]
  },
  {
   "cell_type": "code",
   "execution_count": 5,
   "metadata": {},
   "outputs": [],
   "source": [
    "# Assemble list of result dataframes\n",
    "results = [val[\"result\"] for _, val in queries.items()]\n"
   ]
  },
  {
   "cell_type": "code",
   "execution_count": 6,
   "metadata": {},
   "outputs": [
    {
     "data": {
      "text/html": [
       "<div>\n",
       "<style scoped>\n",
       "    .dataframe tbody tr th:only-of-type {\n",
       "        vertical-align: middle;\n",
       "    }\n",
       "\n",
       "    .dataframe tbody tr th {\n",
       "        vertical-align: top;\n",
       "    }\n",
       "\n",
       "    .dataframe thead th {\n",
       "        text-align: right;\n",
       "    }\n",
       "</style>\n",
       "<table border=\"1\" class=\"dataframe\">\n",
       "  <thead>\n",
       "    <tr style=\"text-align: right;\">\n",
       "      <th></th>\n",
       "      <th>global_north_active_editors</th>\n",
       "      <th>global_north_edits</th>\n",
       "      <th>global_north_net_new_content</th>\n",
       "      <th>global_north_new_editor_retention</th>\n",
       "      <th>global_north_nonbot_edits</th>\n",
       "      <th>global_north_wikidata_entities</th>\n",
       "      <th>global_south_active_editors</th>\n",
       "      <th>global_south_edits</th>\n",
       "      <th>global_south_net_new_content</th>\n",
       "      <th>global_south_new_editor_retention</th>\n",
       "      <th>global_south_nonbot_edits</th>\n",
       "      <th>global_south_wikidata_entities</th>\n",
       "    </tr>\n",
       "    <tr>\n",
       "      <th>month</th>\n",
       "      <th></th>\n",
       "      <th></th>\n",
       "      <th></th>\n",
       "      <th></th>\n",
       "      <th></th>\n",
       "      <th></th>\n",
       "      <th></th>\n",
       "      <th></th>\n",
       "      <th></th>\n",
       "      <th></th>\n",
       "      <th></th>\n",
       "      <th></th>\n",
       "    </tr>\n",
       "  </thead>\n",
       "  <tbody>\n",
       "    <tr>\n",
       "      <th>2022-10-01</th>\n",
       "      <td>60715.0</td>\n",
       "      <td>20182463.0</td>\n",
       "      <td>1539784.0</td>\n",
       "      <td>NaN</td>\n",
       "      <td>12028667.0</td>\n",
       "      <td>481393.0</td>\n",
       "      <td>19772.0</td>\n",
       "      <td>3987059.0</td>\n",
       "      <td>252874.0</td>\n",
       "      <td>NaN</td>\n",
       "      <td>2505874.0</td>\n",
       "      <td>28758.0</td>\n",
       "    </tr>\n",
       "    <tr>\n",
       "      <th>2022-11-01</th>\n",
       "      <td>60370.0</td>\n",
       "      <td>20933293.0</td>\n",
       "      <td>1525407.0</td>\n",
       "      <td>NaN</td>\n",
       "      <td>11890342.0</td>\n",
       "      <td>419402.0</td>\n",
       "      <td>18960.0</td>\n",
       "      <td>3931215.0</td>\n",
       "      <td>364527.0</td>\n",
       "      <td>NaN</td>\n",
       "      <td>2432946.0</td>\n",
       "      <td>35377.0</td>\n",
       "    </tr>\n",
       "    <tr>\n",
       "      <th>2022-12-01</th>\n",
       "      <td>59770.0</td>\n",
       "      <td>21987389.0</td>\n",
       "      <td>1322490.0</td>\n",
       "      <td>NaN</td>\n",
       "      <td>12101584.0</td>\n",
       "      <td>485313.0</td>\n",
       "      <td>20063.0</td>\n",
       "      <td>4444113.0</td>\n",
       "      <td>377113.0</td>\n",
       "      <td>NaN</td>\n",
       "      <td>2491803.0</td>\n",
       "      <td>27104.0</td>\n",
       "    </tr>\n",
       "    <tr>\n",
       "      <th>2023-01-01</th>\n",
       "      <td>63611.0</td>\n",
       "      <td>23132571.0</td>\n",
       "      <td>1369972.0</td>\n",
       "      <td>NaN</td>\n",
       "      <td>14379615.0</td>\n",
       "      <td>486309.0</td>\n",
       "      <td>20808.0</td>\n",
       "      <td>4040347.0</td>\n",
       "      <td>393904.0</td>\n",
       "      <td>NaN</td>\n",
       "      <td>2754632.0</td>\n",
       "      <td>149483.0</td>\n",
       "    </tr>\n",
       "    <tr>\n",
       "      <th>2023-02-01</th>\n",
       "      <td>58566.0</td>\n",
       "      <td>20435724.0</td>\n",
       "      <td>1098400.0</td>\n",
       "      <td>NaN</td>\n",
       "      <td>11799328.0</td>\n",
       "      <td>357345.0</td>\n",
       "      <td>19642.0</td>\n",
       "      <td>3942811.0</td>\n",
       "      <td>225253.0</td>\n",
       "      <td>NaN</td>\n",
       "      <td>2533307.0</td>\n",
       "      <td>24063.0</td>\n",
       "    </tr>\n",
       "  </tbody>\n",
       "</table>\n",
       "</div>"
      ],
      "text/plain": [
       "            global_north_active_editors  global_north_edits  \\\n",
       "month                                                         \n",
       "2022-10-01  60715.0                      20182463.0           \n",
       "2022-11-01  60370.0                      20933293.0           \n",
       "2022-12-01  59770.0                      21987389.0           \n",
       "2023-01-01  63611.0                      23132571.0           \n",
       "2023-02-01  58566.0                      20435724.0           \n",
       "\n",
       "            global_north_net_new_content  global_north_new_editor_retention  \\\n",
       "month                                                                         \n",
       "2022-10-01  1539784.0                    NaN                                  \n",
       "2022-11-01  1525407.0                    NaN                                  \n",
       "2022-12-01  1322490.0                    NaN                                  \n",
       "2023-01-01  1369972.0                    NaN                                  \n",
       "2023-02-01  1098400.0                    NaN                                  \n",
       "\n",
       "            global_north_nonbot_edits  global_north_wikidata_entities  \\\n",
       "month                                                                   \n",
       "2022-10-01  12028667.0                 481393.0                         \n",
       "2022-11-01  11890342.0                 419402.0                         \n",
       "2022-12-01  12101584.0                 485313.0                         \n",
       "2023-01-01  14379615.0                 486309.0                         \n",
       "2023-02-01  11799328.0                 357345.0                         \n",
       "\n",
       "            global_south_active_editors  global_south_edits  \\\n",
       "month                                                         \n",
       "2022-10-01  19772.0                      3987059.0            \n",
       "2022-11-01  18960.0                      3931215.0            \n",
       "2022-12-01  20063.0                      4444113.0            \n",
       "2023-01-01  20808.0                      4040347.0            \n",
       "2023-02-01  19642.0                      3942811.0            \n",
       "\n",
       "            global_south_net_new_content  global_south_new_editor_retention  \\\n",
       "month                                                                         \n",
       "2022-10-01  252874.0                     NaN                                  \n",
       "2022-11-01  364527.0                     NaN                                  \n",
       "2022-12-01  377113.0                     NaN                                  \n",
       "2023-01-01  393904.0                     NaN                                  \n",
       "2023-02-01  225253.0                     NaN                                  \n",
       "\n",
       "            global_south_nonbot_edits  global_south_wikidata_entities  \n",
       "month                                                                  \n",
       "2022-10-01  2505874.0                  28758.0                         \n",
       "2022-11-01  2432946.0                  35377.0                         \n",
       "2022-12-01  2491803.0                  27104.0                         \n",
       "2023-01-01  2754632.0                  149483.0                        \n",
       "2023-02-01  2533307.0                  24063.0                         "
      ]
     },
     "metadata": {},
     "output_type": "display_data"
    }
   ],
   "source": [
    "# Merge them all, assuming that the month is the only common column\n",
    "new_metrics = reduce(lambda l, r: pd.merge(l, r, how=\"outer\"), results)\n",
    "\n",
    "# Set the month as an index so combine_first works properly\n",
    "new_metrics = new_metrics.set_index(\"month\").sort_index()\n",
    "new_metrics = new_metrics.iloc[:,:].astype(float)\n",
    "\n",
    "if old_metrics is None:\n",
    "    metrics = new_metrics\n",
    "else:\n",
    "    metrics = new_metrics.combine_first(old_metrics)\n",
    "    \n",
    "pd_display_all(metrics.tail())"
   ]
  },
  {
   "cell_type": "code",
   "execution_count": 7,
   "metadata": {},
   "outputs": [],
   "source": [
    "metrics.to_csv(FILENAME, sep=\"\\t\")"
   ]
  },
  {
   "cell_type": "code",
   "execution_count": null,
   "metadata": {},
   "outputs": [],
   "source": []
  }
 ],
 "metadata": {
  "kernelspec": {
   "display_name": "Python 3",
   "language": "python",
   "name": "python3"
  },
  "language_info": {
   "codemirror_mode": {
    "name": "ipython",
    "version": 3
   },
   "file_extension": ".py",
   "mimetype": "text/x-python",
   "name": "python",
   "nbconvert_exporter": "python",
   "pygments_lexer": "ipython3",
   "version": "3.7.10"
  }
 },
 "nbformat": 4,
 "nbformat_minor": 4
}

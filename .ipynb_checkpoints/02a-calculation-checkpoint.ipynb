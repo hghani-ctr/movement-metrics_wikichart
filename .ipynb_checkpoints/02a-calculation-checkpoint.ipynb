{
 "cells": [
  {
   "cell_type": "markdown",
   "metadata": {},
   "source": [
    "# Imports"
   ]
  },
  {
   "cell_type": "code",
   "execution_count": 1,
   "metadata": {},
   "outputs": [],
   "source": [
    "from functools import reduce\n",
    "from pathlib import Path\n",
    "import time\n",
    "import datetime\n",
    "import wmfdata\n",
    "import pandas as pd\n",
    "import requests\n",
    "from wmfdata import hive,spark\n",
    "from wmfdata.utils import print_err, pd_display_all\n",
    "from wmfdata.utils import check_kerberos_auth, ensure_list"
   ]
  },
  {
   "cell_type": "markdown",
   "metadata": {},
   "source": [
    "# Parameters"
   ]
  },
  {
   "cell_type": "code",
   "execution_count": 2,
   "metadata": {},
   "outputs": [],
   "source": [
    "# TSV file where metrics are or will be saved\n",
    "FILENAME = \"metrics/metrics.tsv\"\n",
    "\n",
    "# Metric month. The mediawiki_history snapshot must be from the metrics month or later.\n",
    "# METRICS_MONTH_TEXT = '2019-07'\n",
    "# MEDIAWIKI_HISTORY_SNAPSHOT = '2019-07'\n",
    "\n",
    "last_month = datetime.date.today().replace(day=1) - datetime.timedelta(days=1)\n",
    "\n",
    "\n",
    "METRICS_MONTH_TEXT = last_month.strftime(\"%Y-%m\")\n",
    "\n",
    "MEDIAWIKI_HISTORY_SNAPSHOT = last_month.strftime(\"%Y-%m\")"
   ]
  },
  {
   "cell_type": "markdown",
   "metadata": {},
   "source": [
    "# Preparation"
   ]
  },
  {
   "cell_type": "code",
   "execution_count": 3,
   "metadata": {},
   "outputs": [],
   "source": [
    "\n",
    "# Convert our metrics month to all the formats we need and provide them in a dict\n",
    "# so we can easily use them to format strings\n",
    "metrics_month = pd.Period(METRICS_MONTH_TEXT)\n",
    "date_params = {\n",
    "    \"mediawiki_history_snapshot\": MEDIAWIKI_HISTORY_SNAPSHOT,\n",
    "    \"metrics_month\": str(metrics_month),\n",
    "    \"metrics_month_start\": str(metrics_month.start_time), \n",
    "    \"metrics_month_first_day\": str(metrics_month.asfreq(\"D\", how=\"start\")),\n",
    "    \"metrics_month_end\": str((metrics_month + 1).start_time),\n",
    "    \"metrics_month_last_day\": str(metrics_month.asfreq(\"D\", how=\"end\")),\n",
    "    \"api_metrics_month_first_day\": metrics_month.asfreq(\"D\", how=\"start\").strftime(\"%Y%m%d\"),\n",
    "    \"api_metrics_month_day_after\": (metrics_month + 1).asfreq(\"D\", how=\"start\").strftime(\"%Y%m%d\"),\n",
    "    \"metrics_prev_month\": str(metrics_month - 1),\n",
    "    \"retention_cohort\": str(metrics_month - 2)\n",
    "}\n",
    "\n",
    "# Load any previous results\n",
    "try:\n",
    "    old_metrics = (\n",
    "        pd.read_csv(FILENAME, sep=\"\\t\", parse_dates = [\"month\"])\n",
    "        .set_index(\"month\")\n",
    "    )\n",
    "except FileNotFoundError:\n",
    "    old_metrics = None\n",
    "    \n",
    "def prepare_query(filename):\n",
    "    return (\n",
    "        Path(filename)\n",
    "        .read_text()\n",
    "        .format(**date_params)\n",
    "    )"
   ]
  },
  {
   "cell_type": "code",
   "execution_count": 4,
   "metadata": {},
   "outputs": [
    {
     "data": {
      "text/plain": [
       "{'mediawiki_history_snapshot': '2023-03',\n",
       " 'metrics_month': '2023-03',\n",
       " 'metrics_month_start': '2023-03-01 00:00:00',\n",
       " 'metrics_month_first_day': '2023-03-01',\n",
       " 'metrics_month_end': '2023-04-01 00:00:00',\n",
       " 'metrics_month_last_day': '2023-03-31',\n",
       " 'api_metrics_month_first_day': '20230301',\n",
       " 'api_metrics_month_day_after': '20230401',\n",
       " 'metrics_prev_month': '2023-02',\n",
       " 'retention_cohort': '2023-01'}"
      ]
     },
     "execution_count": 4,
     "metadata": {},
     "output_type": "execute_result"
    }
   ],
   "source": [
    "date_params"
   ]
  },
  {
   "cell_type": "markdown",
   "metadata": {},
   "source": [
    "# MariaDB and Hive query metrics"
   ]
  },
  {
   "cell_type": "code",
   "execution_count": 5,
   "metadata": {},
   "outputs": [
    {
     "name": "stderr",
     "output_type": "stream",
     "text": [
      "Running active_editors on hive...\n"
     ]
    },
    {
     "name": "stdout",
     "output_type": "stream",
     "text": [
      "\n",
      "SPARK_HOME: /usr/lib/spark3\n",
      "Using Hadoop client lib jars at 3.2.0, provided by Spark.\n",
      "PYSPARK_PYTHON=/opt/conda-analytics/bin/python3\n"
     ]
    },
    {
     "name": "stderr",
     "output_type": "stream",
     "text": [
      "Setting default log level to \"WARN\".\n",
      "To adjust logging level use sc.setLogLevel(newLevel). For SparkR, use setLogLevel(newLevel).\n",
      "23/04/17 21:22:46 WARN SparkConf: Note that spark.local.dir will be overridden by the value set by the cluster manager (via SPARK_LOCAL_DIRS in mesos/standalone/kubernetes and LOCAL_DIRS in YARN).\n",
      "23/04/17 21:22:58 WARN YarnSchedulerBackend$YarnSchedulerEndpoint: Attempted to request executors before the AM has registered!\n",
      "23/04/17 21:23:11 WARN SharedInMemoryCache: Evicting cached table partition metadata from memory due to size constraints (spark.sql.hive.filesourcePartitionFileCacheSize = 262144000 bytes). This may impact query planning performance.\n",
      "Running edits on hive...                                                        \n"
     ]
    },
    {
     "name": "stdout",
     "output_type": "stream",
     "text": [
      "\n"
     ]
    },
    {
     "name": "stderr",
     "output_type": "stream",
     "text": [
      "23/04/17 21:23:49 WARN SessionState: METASTORE_FILTER_HOOK will be ignored, since hive.security.authorization.manager is set to instance of HiveAuthorizerFactory.\n",
      "Running new_editor_retention on hive...                                         \n"
     ]
    },
    {
     "name": "stdout",
     "output_type": "stream",
     "text": [
      "\n"
     ]
    },
    {
     "name": "stderr",
     "output_type": "stream",
     "text": [
      "Running global_south_edits_editors on hive...                                   \n"
     ]
    },
    {
     "name": "stdout",
     "output_type": "stream",
     "text": [
      "\n"
     ]
    },
    {
     "name": "stderr",
     "output_type": "stream",
     "text": [
      "Running mobile-heavy_edits_editors on hive...                                   \n"
     ]
    },
    {
     "name": "stdout",
     "output_type": "stream",
     "text": [
      "\n"
     ]
    },
    {
     "name": "stderr",
     "output_type": "stream",
     "text": [
      "Running mobile-heavy_new_editor_retention on hive...                            \n"
     ]
    },
    {
     "name": "stdout",
     "output_type": "stream",
     "text": [
      "\n"
     ]
    },
    {
     "name": "stderr",
     "output_type": "stream",
     "text": [
      "Running global_south_new_editor_retention on hive...                            \n"
     ]
    },
    {
     "name": "stdout",
     "output_type": "stream",
     "text": [
      "\n"
     ]
    },
    {
     "name": "stderr",
     "output_type": "stream",
     "text": [
      "                                                                                \r"
     ]
    }
   ],
   "source": [
    "queries = {\n",
    "    \"active_editors\": {\n",
    "        \"file\": \"queries/active_editors.sql\",\n",
    "        \"engine\": \"hive\"\n",
    "    },\n",
    "    \"edits\": {\n",
    "        \"file\": \"queries/edits.hql\",\n",
    "        \"engine\": \"hive\"\n",
    "    },\n",
    "    \"new_editor_retention\": {\n",
    "        \"file\": \"queries/new_editor_retention.hql\",\n",
    "         \"engine\": \"hive\"\n",
    "    },\n",
    "    \"global_south_edits_editors\": {\n",
    "        \"file\": \"queries/global_south_edits_editors.hql\",\n",
    "        \"engine\": \"hive\"\n",
    "    },\n",
    "    \"mobile-heavy_edits_editors\": {\n",
    "        \"file\": \"queries/mobile-heavy_edits_editors.hql\",\n",
    "        \"engine\": \"hive\"\n",
    "    },\n",
    "    \"mobile-heavy_new_editor_retention\": {\n",
    "        \"file\": \"queries/mobile-heavy_new_editor_retention.hql\",\n",
    "        \"engine\": \"hive\"\n",
    "    },\n",
    "    \"global_south_new_editor_retention\": {\n",
    "        \"file\": \"queries/global_south_new_editor_retention.hql\",\n",
    "        \"engine\": \"hive\"\n",
    "    }\n",
    "}\n",
    "\n",
    "\n",
    "for key, val in queries.items():\n",
    "    query = prepare_query(val[\"file\"])\n",
    "    engine = val[\"engine\"]\n",
    "    print_err(\"Running {} on {}...\".format(key, engine))\n",
    "    \n",
    "    if engine == \"mariadb\":\n",
    "        result = mariadb.run(query)\n",
    "    elif engine == \"hive\":\n",
    "        result = spark.run(query)\n",
    "    else:\n",
    "        raise ValueError(\"Unknown engine specified.\") \n",
    "    \n",
    "    result = result.assign(month=lambda df: pd.to_datetime(df[\"month\"]))\n",
    "    val[\"result\"] = result"
   ]
  },
  {
   "cell_type": "markdown",
   "metadata": {},
   "source": [
    "# Content metrics via API"
   ]
  },
  {
   "cell_type": "code",
   "execution_count": 34,
   "metadata": {},
   "outputs": [],
   "source": [
    "NEW_PAGES_API = (\n",
    "    # Replaces \"https://wikimedia.org/api/rest_v1/metrics/\" due to https://phabricator.wikimedia.org/P8605\n",
    "    #\"http://aqs1004.eqiad.wmnet:7232/analytics.wikimedia.org/v1/\" \n",
    "    \"https://wikimedia.org/api/rest_v1/metrics/\"\n",
    "    \"edited-pages/new/{project}/all-editor-types/{page_type}/monthly/{start}/{end}\"\n",
    ")\n",
    "\n",
    "headers = {\n",
    "    \"User-Agent\": \"https://github.com/wikimedia-research/Editing-movement-metrics (bot)\"\n",
    "}\n",
    "\n",
    "# Create container for results\n",
    "api_results = []\n",
    "\n",
    "def get_new_pages(\n",
    "    project=\"all-projects\",\n",
    "    page_type=\"content\",\n",
    "    start= date_params[\"api_metrics_month_first_day\"],\n",
    "    end= date_params[\"api_metrics_month_day_after\"]\n",
    "):\n",
    "    url = NEW_PAGES_API.format(\n",
    "        project = project,\n",
    "        page_type = page_type,\n",
    "        start = start,\n",
    "        end = end\n",
    "    )\n",
    "    \n",
    "    r = requests.get(url, headers=headers)\n",
    "    data = r.json()[\"items\"][0][\"results\"]\n",
    "    frame = pd.DataFrame(data)\n",
    "    frame[\"timestamp\"] = pd.to_datetime(frame[\"timestamp\"]).dt.tz_localize(None)\n",
    "    frame = frame.rename(columns={\"timestamp\": \"month\"})\n",
    "    return frame"
   ]
  },
  {
   "cell_type": "code",
   "execution_count": 35,
   "metadata": {},
   "outputs": [],
   "source": [
    "project=\"all-projects\",\n",
    "page_type=\"content\"\n",
    "start=date_params[\"api_metrics_month_first_day\"]\n",
    "end=date_params[\"api_metrics_month_day_after\"]"
   ]
  },
  {
   "cell_type": "code",
   "execution_count": 36,
   "metadata": {},
   "outputs": [],
   "source": [
    " url = NEW_PAGES_API.format(\n",
    "        project = project,\n",
    "        page_type = page_type,\n",
    "        start = start,\n",
    "        end = end\n",
    "    )"
   ]
  },
  {
   "cell_type": "markdown",
   "metadata": {},
   "source": [
    "## Total"
   ]
  },
  {
   "cell_type": "code",
   "execution_count": 39,
   "metadata": {
    "tags": []
   },
   "outputs": [
    {
     "name": "stdout",
     "output_type": "stream",
     "text": [
      "response: <Response [200]>\n",
      "data: [{'timestamp': '2023-03-01T00:00:00.000Z', 'new_pages': 1736767}]\n",
      "frame:                   timestamp  new_pages\n",
      "0  2023-03-01T00:00:00.000Z    1736767\n",
      "frame cleaned up:        month  new_pages\n",
      "0 2023-03-01    1736767\n",
      "total_new:        month  net_new_content_pages\n",
      "0 2023-03-01                1736767\n"
     ]
    }
   ],
   "source": [
    "total_new = get_new_pages().rename(columns={\"new_pages\": \"net_new_content_pages\"})\n",
    "api_results.append(total_new)"
   ]
  },
  {
   "cell_type": "markdown",
   "metadata": {},
   "source": [
    "## Wikidata"
   ]
  },
  {
   "cell_type": "code",
   "execution_count": 48,
   "metadata": {
    "tags": []
   },
   "outputs": [
    {
     "name": "stdout",
     "output_type": "stream",
     "text": [
      "response: <Response [200]>\n",
      "data: [{'timestamp': '2023-03-01T00:00:00.000Z', 'new_pages': 416195}]\n",
      "frame:                   timestamp  new_pages\n",
      "0  2023-03-01T00:00:00.000Z     416195\n",
      "frame cleaned up:        month  new_pages\n",
      "0 2023-03-01     416195\n"
     ]
    }
   ],
   "source": [
    "new_wd = get_new_pages(\n",
    "    project=\"wikidata.org\"\n",
    ").rename(columns={\n",
    "    \"new_pages\": \"net_new_Wikidata_entities\"\n",
    "})\n",
    "api_results.append(new_wd)"
   ]
  },
  {
   "cell_type": "markdown",
   "metadata": {},
   "source": [
    "## Commons"
   ]
  },
  {
   "cell_type": "code",
   "execution_count": 49,
   "metadata": {
    "tags": []
   },
   "outputs": [
    {
     "name": "stdout",
     "output_type": "stream",
     "text": [
      "response: <Response [200]>\n",
      "data: [{'timestamp': '2023-03-01T00:00:00.000Z', 'new_pages': 802669}]\n",
      "frame:                   timestamp  new_pages\n",
      "0  2023-03-01T00:00:00.000Z     802669\n",
      "frame cleaned up:        month  new_pages\n",
      "0 2023-03-01     802669\n"
     ]
    }
   ],
   "source": [
    "new_commons = get_new_pages(\n",
    "    project=\"commons.wikimedia.org\"\n",
    ").rename(columns={\n",
    "    \"new_pages\": \"net_new_Commons_content_pages\"\n",
    "})\n",
    "api_results.append(new_commons)"
   ]
  },
  {
   "cell_type": "markdown",
   "metadata": {},
   "source": [
    "## Wikipedias"
   ]
  },
  {
   "cell_type": "code",
   "execution_count": 50,
   "metadata": {},
   "outputs": [
    {
     "name": "stderr",
     "output_type": "stream",
     "text": [
      "                                                                                \r"
     ]
    }
   ],
   "source": [
    "# Get a list of project URLs (each one in a 1-tuple)\n",
    "wp_domains_query_results = spark.run(\"\"\"\n",
    "select domain_name\n",
    "from canonical_data.wikis\n",
    "where database_group = \"wikipedia\"\n",
    "\"\"\")\n",
    "\n",
    "# Query the API for each project and append records to a list\n",
    "#results = []\n",
    "#n = len(wp_domains)"
   ]
  },
  {
   "cell_type": "code",
   "execution_count": 51,
   "metadata": {},
   "outputs": [],
   "source": [
    "wp_domains = [tuple(x) for x in wp_domains_query_results.values]\n",
    "\n",
    "# Query the API for each project and append records to a list\n",
    "results = []\n",
    "n = len(wp_domains)"
   ]
  },
  {
   "cell_type": "code",
   "execution_count": null,
   "metadata": {
    "tags": []
   },
   "outputs": [],
   "source": [
    "for idx, val in enumerate(wp_domains):\n",
    "    domain = val[0]\n",
    "    \n",
    "    if idx % 10 == 0:\n",
    "        msg = \"Now on the {}th project of {} ({})\"\n",
    "        print_err(msg.format(idx, n, domain))\n",
    "        \n",
    "    frame = get_new_pages(project=domain).reset_index()\n",
    "    frame[\"project\"] = domain\n",
    "    records = frame.to_dict(\"records\")\n",
    "    results.extend(records)\n",
    "    \n",
    "    # Sleep 20 milliseconds\n",
    "    time.sleep(0.02)\n",
    "\n",
    "# Turn the big list of records into a data frame\n",
    "new_per_wp = pd.DataFrame(results)\n",
    "\n",
    "# Sum across projects to get new Wikipedia articles per month\n",
    "new_wp = new_per_wp.groupby(\"month\").agg(\n",
    "    {\"new_pages\": \"sum\"}\n",
    ").rename(columns={\"new_pages\": \"net_new_Wikipedia_articles\"}).reset_index()\n",
    "\n",
    "api_results.append(new_wp)"
   ]
  },
  {
   "cell_type": "raw",
   "metadata": {},
   "source": [
    "new_per_wp.sort_values(by=['new_pages'], ascending=False).head(15)"
   ]
  },
  {
   "cell_type": "code",
   "execution_count": 53,
   "metadata": {},
   "outputs": [],
   "source": [
    "# Strip timezones returned by API so our month columns merge nicely\n",
    "for df in api_results:\n",
    "    df[\"month\"] = df[\"month\"].dt.tz_localize(None)"
   ]
  },
  {
   "cell_type": "markdown",
   "metadata": {},
   "source": [
    "# Combining and saving metrics"
   ]
  },
  {
   "cell_type": "code",
   "execution_count": 54,
   "metadata": {},
   "outputs": [],
   "source": [
    "queries[\"edits\"][\"result\"] = queries[\"edits\"][\"result\"].rename({\"data_edits\": \"wikidata_edits\"}, axis=1)"
   ]
  },
  {
   "cell_type": "code",
   "execution_count": 55,
   "metadata": {},
   "outputs": [],
   "source": [
    "# Assemble list of result dataframes\n",
    "results = [val[\"result\"] for _, val in queries.items()]\n",
    "results.extend(api_results)"
   ]
  },
  {
   "cell_type": "code",
   "execution_count": 56,
   "metadata": {},
   "outputs": [
    {
     "data": {
      "text/html": [
       "<div>\n",
       "<style scoped>\n",
       "    .dataframe tbody tr th:only-of-type {\n",
       "        vertical-align: middle;\n",
       "    }\n",
       "\n",
       "    .dataframe tbody tr th {\n",
       "        vertical-align: top;\n",
       "    }\n",
       "\n",
       "    .dataframe thead th {\n",
       "        text-align: right;\n",
       "    }\n",
       "</style>\n",
       "<table border=\"1\" class=\"dataframe\">\n",
       "  <thead>\n",
       "    <tr style=\"text-align: right;\">\n",
       "      <th></th>\n",
       "      <th>active_editors</th>\n",
       "      <th>anonymous_edits</th>\n",
       "      <th>global_south_active_editors</th>\n",
       "      <th>global_south_edits</th>\n",
       "      <th>global_south_new_editor_retention</th>\n",
       "      <th>global_south_nonbot_edits</th>\n",
       "      <th>mobile-heavy_wiki_active_editors</th>\n",
       "      <th>mobile-heavy_wiki_edits</th>\n",
       "      <th>mobile-heavy_wiki_new_editor_retention</th>\n",
       "      <th>mobile-heavy_wiki_nonbot_edits</th>\n",
       "      <th>mobile_edits</th>\n",
       "      <th>net_new_Commons_content_pages</th>\n",
       "      <th>net_new_Wikidata_entities</th>\n",
       "      <th>net_new_Wikipedia_articles</th>\n",
       "      <th>net_new_content_pages</th>\n",
       "      <th>new_active_editors</th>\n",
       "      <th>new_editor_retention</th>\n",
       "      <th>non_anonymous_edits</th>\n",
       "      <th>other_nonbot_edits</th>\n",
       "      <th>returning_active_editors</th>\n",
       "      <th>revert_rate</th>\n",
       "      <th>total_edits</th>\n",
       "      <th>uploads</th>\n",
       "      <th>wikidata_edits</th>\n",
       "    </tr>\n",
       "    <tr>\n",
       "      <th>month</th>\n",
       "      <th></th>\n",
       "      <th></th>\n",
       "      <th></th>\n",
       "      <th></th>\n",
       "      <th></th>\n",
       "      <th></th>\n",
       "      <th></th>\n",
       "      <th></th>\n",
       "      <th></th>\n",
       "      <th></th>\n",
       "      <th></th>\n",
       "      <th></th>\n",
       "      <th></th>\n",
       "      <th></th>\n",
       "      <th></th>\n",
       "      <th></th>\n",
       "      <th></th>\n",
       "      <th></th>\n",
       "      <th></th>\n",
       "      <th></th>\n",
       "      <th></th>\n",
       "      <th></th>\n",
       "      <th></th>\n",
       "      <th></th>\n",
       "    </tr>\n",
       "  </thead>\n",
       "  <tbody>\n",
       "    <tr>\n",
       "      <th>2022-11-01</th>\n",
       "      <td>88458.0</td>\n",
       "      <td>2037337.0</td>\n",
       "      <td>18960.0</td>\n",
       "      <td>3931215.0</td>\n",
       "      <td>NaN</td>\n",
       "      <td>2432946.0</td>\n",
       "      <td>4881.0</td>\n",
       "      <td>936197.0</td>\n",
       "      <td>0.050783</td>\n",
       "      <td>516474.0</td>\n",
       "      <td>1986573.0</td>\n",
       "      <td>1004268.0</td>\n",
       "      <td>460797.0</td>\n",
       "      <td>205291.0</td>\n",
       "      <td>1925293.0</td>\n",
       "      <td>16189.0</td>\n",
       "      <td>0.079863</td>\n",
       "      <td>44458168.0</td>\n",
       "      <td>10186389.0</td>\n",
       "      <td>72269.0</td>\n",
       "      <td>0.049983</td>\n",
       "      <td>46495714.0</td>\n",
       "      <td>1085844.0</td>\n",
       "      <td>19515262.0</td>\n",
       "    </tr>\n",
       "    <tr>\n",
       "      <th>2022-12-01</th>\n",
       "      <td>88831.0</td>\n",
       "      <td>2015566.0</td>\n",
       "      <td>20063.0</td>\n",
       "      <td>4444113.0</td>\n",
       "      <td>NaN</td>\n",
       "      <td>2491803.0</td>\n",
       "      <td>5236.0</td>\n",
       "      <td>1281700.0</td>\n",
       "      <td>0.041671</td>\n",
       "      <td>539969.0</td>\n",
       "      <td>2028754.0</td>\n",
       "      <td>785030.0</td>\n",
       "      <td>518401.0</td>\n",
       "      <td>229919.0</td>\n",
       "      <td>1733876.0</td>\n",
       "      <td>15882.0</td>\n",
       "      <td>0.070243</td>\n",
       "      <td>43788318.0</td>\n",
       "      <td>10601038.0</td>\n",
       "      <td>72949.0</td>\n",
       "      <td>0.044989</td>\n",
       "      <td>45804026.0</td>\n",
       "      <td>839212.0</td>\n",
       "      <td>17493716.0</td>\n",
       "    </tr>\n",
       "    <tr>\n",
       "      <th>2023-01-01</th>\n",
       "      <td>93997.0</td>\n",
       "      <td>2136383.0</td>\n",
       "      <td>20808.0</td>\n",
       "      <td>4040347.0</td>\n",
       "      <td>NaN</td>\n",
       "      <td>2754632.0</td>\n",
       "      <td>5531.0</td>\n",
       "      <td>1473586.0</td>\n",
       "      <td>0.054593</td>\n",
       "      <td>563487.0</td>\n",
       "      <td>2183828.0</td>\n",
       "      <td>763067.0</td>\n",
       "      <td>668528.0</td>\n",
       "      <td>198062.0</td>\n",
       "      <td>1997150.0</td>\n",
       "      <td>18061.0</td>\n",
       "      <td>0.061386</td>\n",
       "      <td>49276599.0</td>\n",
       "      <td>11886151.0</td>\n",
       "      <td>75936.0</td>\n",
       "      <td>0.040043</td>\n",
       "      <td>51413312.0</td>\n",
       "      <td>821499.0</td>\n",
       "      <td>22817468.0</td>\n",
       "    </tr>\n",
       "    <tr>\n",
       "      <th>2023-02-01</th>\n",
       "      <td>87926.0</td>\n",
       "      <td>1848805.0</td>\n",
       "      <td>19642.0</td>\n",
       "      <td>3942811.0</td>\n",
       "      <td>NaN</td>\n",
       "      <td>2533307.0</td>\n",
       "      <td>5091.0</td>\n",
       "      <td>1149044.0</td>\n",
       "      <td>0.059662</td>\n",
       "      <td>496434.0</td>\n",
       "      <td>1873950.0</td>\n",
       "      <td>601988.0</td>\n",
       "      <td>385735.0</td>\n",
       "      <td>218166.0</td>\n",
       "      <td>1444956.0</td>\n",
       "      <td>16498.0</td>\n",
       "      <td>0.060853</td>\n",
       "      <td>42097626.0</td>\n",
       "      <td>10394629.0</td>\n",
       "      <td>71428.0</td>\n",
       "      <td>0.052052</td>\n",
       "      <td>43946614.0</td>\n",
       "      <td>660012.0</td>\n",
       "      <td>19303690.0</td>\n",
       "    </tr>\n",
       "    <tr>\n",
       "      <th>2023-03-01</th>\n",
       "      <td>93506.0</td>\n",
       "      <td>2030811.0</td>\n",
       "      <td>20763.0</td>\n",
       "      <td>4015257.0</td>\n",
       "      <td>NaN</td>\n",
       "      <td>2752975.0</td>\n",
       "      <td>5453.0</td>\n",
       "      <td>1585639.0</td>\n",
       "      <td>0.053838</td>\n",
       "      <td>568648.0</td>\n",
       "      <td>2077931.0</td>\n",
       "      <td>802669.0</td>\n",
       "      <td>416195.0</td>\n",
       "      <td>217410.0</td>\n",
       "      <td>1736767.0</td>\n",
       "      <td>18364.0</td>\n",
       "      <td>0.081447</td>\n",
       "      <td>47736130.0</td>\n",
       "      <td>11022123.0</td>\n",
       "      <td>75142.0</td>\n",
       "      <td>0.067389</td>\n",
       "      <td>49767168.0</td>\n",
       "      <td>856120.0</td>\n",
       "      <td>22102794.0</td>\n",
       "    </tr>\n",
       "  </tbody>\n",
       "</table>\n",
       "</div>"
      ],
      "text/plain": [
       "            active_editors  anonymous_edits  global_south_active_editors  \\\n",
       "month                                                                      \n",
       "2022-11-01  88458.0         2037337.0        18960.0                       \n",
       "2022-12-01  88831.0         2015566.0        20063.0                       \n",
       "2023-01-01  93997.0         2136383.0        20808.0                       \n",
       "2023-02-01  87926.0         1848805.0        19642.0                       \n",
       "2023-03-01  93506.0         2030811.0        20763.0                       \n",
       "\n",
       "            global_south_edits  global_south_new_editor_retention  \\\n",
       "month                                                               \n",
       "2022-11-01  3931215.0          NaN                                  \n",
       "2022-12-01  4444113.0          NaN                                  \n",
       "2023-01-01  4040347.0          NaN                                  \n",
       "2023-02-01  3942811.0          NaN                                  \n",
       "2023-03-01  4015257.0          NaN                                  \n",
       "\n",
       "            global_south_nonbot_edits  mobile-heavy_wiki_active_editors  \\\n",
       "month                                                                     \n",
       "2022-11-01  2432946.0                  4881.0                             \n",
       "2022-12-01  2491803.0                  5236.0                             \n",
       "2023-01-01  2754632.0                  5531.0                             \n",
       "2023-02-01  2533307.0                  5091.0                             \n",
       "2023-03-01  2752975.0                  5453.0                             \n",
       "\n",
       "            mobile-heavy_wiki_edits  mobile-heavy_wiki_new_editor_retention  \\\n",
       "month                                                                         \n",
       "2022-11-01  936197.0                 0.050783                                 \n",
       "2022-12-01  1281700.0                0.041671                                 \n",
       "2023-01-01  1473586.0                0.054593                                 \n",
       "2023-02-01  1149044.0                0.059662                                 \n",
       "2023-03-01  1585639.0                0.053838                                 \n",
       "\n",
       "            mobile-heavy_wiki_nonbot_edits  mobile_edits  \\\n",
       "month                                                      \n",
       "2022-11-01  516474.0                        1986573.0      \n",
       "2022-12-01  539969.0                        2028754.0      \n",
       "2023-01-01  563487.0                        2183828.0      \n",
       "2023-02-01  496434.0                        1873950.0      \n",
       "2023-03-01  568648.0                        2077931.0      \n",
       "\n",
       "            net_new_Commons_content_pages  net_new_Wikidata_entities  \\\n",
       "month                                                                  \n",
       "2022-11-01  1004268.0                      460797.0                    \n",
       "2022-12-01  785030.0                       518401.0                    \n",
       "2023-01-01  763067.0                       668528.0                    \n",
       "2023-02-01  601988.0                       385735.0                    \n",
       "2023-03-01  802669.0                       416195.0                    \n",
       "\n",
       "            net_new_Wikipedia_articles  net_new_content_pages  \\\n",
       "month                                                           \n",
       "2022-11-01  205291.0                    1925293.0               \n",
       "2022-12-01  229919.0                    1733876.0               \n",
       "2023-01-01  198062.0                    1997150.0               \n",
       "2023-02-01  218166.0                    1444956.0               \n",
       "2023-03-01  217410.0                    1736767.0               \n",
       "\n",
       "            new_active_editors  new_editor_retention  non_anonymous_edits  \\\n",
       "month                                                                       \n",
       "2022-11-01  16189.0             0.079863              44458168.0            \n",
       "2022-12-01  15882.0             0.070243              43788318.0            \n",
       "2023-01-01  18061.0             0.061386              49276599.0            \n",
       "2023-02-01  16498.0             0.060853              42097626.0            \n",
       "2023-03-01  18364.0             0.081447              47736130.0            \n",
       "\n",
       "            other_nonbot_edits  returning_active_editors  revert_rate  \\\n",
       "month                                                                   \n",
       "2022-11-01  10186389.0          72269.0                   0.049983      \n",
       "2022-12-01  10601038.0          72949.0                   0.044989      \n",
       "2023-01-01  11886151.0          75936.0                   0.040043      \n",
       "2023-02-01  10394629.0          71428.0                   0.052052      \n",
       "2023-03-01  11022123.0          75142.0                   0.067389      \n",
       "\n",
       "            total_edits    uploads  wikidata_edits  \n",
       "month                                               \n",
       "2022-11-01  46495714.0   1085844.0  19515262.0      \n",
       "2022-12-01  45804026.0   839212.0   17493716.0      \n",
       "2023-01-01  51413312.0   821499.0   22817468.0      \n",
       "2023-02-01  43946614.0   660012.0   19303690.0      \n",
       "2023-03-01  49767168.0   856120.0   22102794.0      "
      ]
     },
     "metadata": {},
     "output_type": "display_data"
    }
   ],
   "source": [
    "# Merge them all, assuming that the month is the only common column\n",
    "new_metrics = reduce(lambda l, r: pd.merge(l, r, how=\"outer\"), results)\n",
    "\n",
    "# Set the month as an index so combine_first works properly\n",
    "new_metrics = new_metrics.set_index(\"month\").sort_index()\n",
    "\n",
    "if old_metrics is None:\n",
    "    metrics = new_metrics\n",
    "else:\n",
    "    metrics = new_metrics.combine_first(old_metrics)\n",
    "    \n",
    "pd_display_all(metrics.tail())"
   ]
  },
  {
   "cell_type": "code",
   "execution_count": 57,
   "metadata": {},
   "outputs": [],
   "source": [
    "metrics.to_csv(FILENAME, sep=\"\\t\")"
   ]
  },
  {
   "cell_type": "code",
   "execution_count": null,
   "metadata": {},
   "outputs": [],
   "source": []
  }
 ],
 "metadata": {
  "kernelspec": {
   "display_name": "Python 3 (ipykernel)",
   "language": "python",
   "name": "python3"
  },
  "language_info": {
   "codemirror_mode": {
    "name": "ipython",
    "version": 3
   },
   "file_extension": ".py",
   "mimetype": "text/x-python",
   "name": "python",
   "nbconvert_exporter": "python",
   "pygments_lexer": "ipython3",
   "version": "3.10.8"
  }
 },
 "nbformat": 4,
 "nbformat_minor": 4
}

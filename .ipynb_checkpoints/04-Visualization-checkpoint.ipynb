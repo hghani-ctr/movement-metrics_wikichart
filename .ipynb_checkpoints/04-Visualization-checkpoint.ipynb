{
 "cells": [
  {
   "cell_type": "markdown",
   "metadata": {},
   "source": [
    "## Visualization"
   ]
  },
  {
   "cell_type": "code",
   "execution_count": 15,
   "metadata": {},
   "outputs": [],
   "source": [
    "shhh <- function(expr) suppressPackageStartupMessages(suppressWarnings(suppressMessages(expr)))\n",
    "shhh({\n",
    "    library(magrittr); library(zeallot); library(glue);  library(glue); library(lubridate)\n",
    "    library(scales); library(RColorBrewer); library(dplyr); library(tidyr); library(ggplot2)\n",
    "    library(polloi)\n",
    "})"
   ]
  },
  {
   "cell_type": "code",
   "execution_count": 16,
   "metadata": {},
   "outputs": [],
   "source": [
    "file <- \"metrics/metrics.tsv\"\n",
    "pageview <- read.csv(file, sep = '\\t')\n",
    "pageview$month <- as.Date(pageview$month, format = \"%Y-%m-%d\")"
   ]
  },
  {
   "cell_type": "code",
   "execution_count": 17,
   "metadata": {},
   "outputs": [
    {
     "data": {
      "text/html": [
       "<table class=\"dataframe\">\n",
       "<caption>A data.frame: 6 × 14</caption>\n",
       "<thead>\n",
       "\t<tr><th></th><th scope=col>month</th><th scope=col>automated_pageviews</th><th scope=col>desktop</th><th scope=col>gs_interactions</th><th scope=col>gs_pageviews</th><th scope=col>gs_previews</th><th scope=col>interactions</th><th scope=col>mh_interactions</th><th scope=col>mh_pageviews</th><th scope=col>mh_previews</th><th scope=col>mobileweb</th><th scope=col>previews_seen</th><th scope=col>total_pageview</th><th scope=col>unique_devices</th></tr>\n",
       "\t<tr><th></th><th scope=col>&lt;date&gt;</th><th scope=col>&lt;dbl&gt;</th><th scope=col>&lt;dbl&gt;</th><th scope=col>&lt;dbl&gt;</th><th scope=col>&lt;dbl&gt;</th><th scope=col>&lt;dbl&gt;</th><th scope=col>&lt;dbl&gt;</th><th scope=col>&lt;dbl&gt;</th><th scope=col>&lt;dbl&gt;</th><th scope=col>&lt;dbl&gt;</th><th scope=col>&lt;dbl&gt;</th><th scope=col>&lt;dbl&gt;</th><th scope=col>&lt;dbl&gt;</th><th scope=col>&lt;dbl&gt;</th></tr>\n",
       "</thead>\n",
       "<tbody>\n",
       "\t<tr><th scope=row>1</th><td>2016-07-01</td><td>NA</td><td>7319709535</td><td>NA</td><td>        NA</td><td>NA</td><td>NA</td><td>NA</td><td>       NA</td><td>NA</td><td>6951477838</td><td>NA</td><td>14479097793</td><td>NA</td></tr>\n",
       "\t<tr><th scope=row>2</th><td>2016-08-01</td><td>NA</td><td>7808198322</td><td>NA</td><td>        NA</td><td>NA</td><td>NA</td><td>NA</td><td>       NA</td><td>NA</td><td>7158465508</td><td>NA</td><td>15164063733</td><td>NA</td></tr>\n",
       "\t<tr><th scope=row>3</th><td>2016-09-01</td><td>NA</td><td>8015803318</td><td>NA</td><td>3509314705</td><td>NA</td><td>NA</td><td>NA</td><td>482166702</td><td>NA</td><td>7037821889</td><td>NA</td><td>15227361307</td><td>NA</td></tr>\n",
       "\t<tr><th scope=row>4</th><td>2016-10-01</td><td>NA</td><td>8597813074</td><td>NA</td><td>3649168724</td><td>NA</td><td>NA</td><td>NA</td><td>584002147</td><td>NA</td><td>7454268064</td><td>NA</td><td>16205992870</td><td>NA</td></tr>\n",
       "\t<tr><th scope=row>5</th><td>2016-11-01</td><td>NA</td><td>8756368629</td><td>NA</td><td>3682761207</td><td>NA</td><td>NA</td><td>NA</td><td>639332261</td><td>NA</td><td>7568847051</td><td>NA</td><td>16499874726</td><td>NA</td></tr>\n",
       "\t<tr><th scope=row>6</th><td>2016-12-01</td><td>NA</td><td>8140608026</td><td>NA</td><td>3397813382</td><td>NA</td><td>NA</td><td>NA</td><td>566587960</td><td>NA</td><td>7623805561</td><td>NA</td><td>15964600507</td><td>NA</td></tr>\n",
       "</tbody>\n",
       "</table>\n"
      ],
      "text/latex": [
       "A data.frame: 6 × 14\n",
       "\\begin{tabular}{r|llllllllllllll}\n",
       "  & month & automated\\_pageviews & desktop & gs\\_interactions & gs\\_pageviews & gs\\_previews & interactions & mh\\_interactions & mh\\_pageviews & mh\\_previews & mobileweb & previews\\_seen & total\\_pageview & unique\\_devices\\\\\n",
       "  & <date> & <dbl> & <dbl> & <dbl> & <dbl> & <dbl> & <dbl> & <dbl> & <dbl> & <dbl> & <dbl> & <dbl> & <dbl> & <dbl>\\\\\n",
       "\\hline\n",
       "\t1 & 2016-07-01 & NA & 7319709535 & NA &         NA & NA & NA & NA &        NA & NA & 6951477838 & NA & 14479097793 & NA\\\\\n",
       "\t2 & 2016-08-01 & NA & 7808198322 & NA &         NA & NA & NA & NA &        NA & NA & 7158465508 & NA & 15164063733 & NA\\\\\n",
       "\t3 & 2016-09-01 & NA & 8015803318 & NA & 3509314705 & NA & NA & NA & 482166702 & NA & 7037821889 & NA & 15227361307 & NA\\\\\n",
       "\t4 & 2016-10-01 & NA & 8597813074 & NA & 3649168724 & NA & NA & NA & 584002147 & NA & 7454268064 & NA & 16205992870 & NA\\\\\n",
       "\t5 & 2016-11-01 & NA & 8756368629 & NA & 3682761207 & NA & NA & NA & 639332261 & NA & 7568847051 & NA & 16499874726 & NA\\\\\n",
       "\t6 & 2016-12-01 & NA & 8140608026 & NA & 3397813382 & NA & NA & NA & 566587960 & NA & 7623805561 & NA & 15964600507 & NA\\\\\n",
       "\\end{tabular}\n"
      ],
      "text/markdown": [
       "\n",
       "A data.frame: 6 × 14\n",
       "\n",
       "| <!--/--> | month &lt;date&gt; | automated_pageviews &lt;dbl&gt; | desktop &lt;dbl&gt; | gs_interactions &lt;dbl&gt; | gs_pageviews &lt;dbl&gt; | gs_previews &lt;dbl&gt; | interactions &lt;dbl&gt; | mh_interactions &lt;dbl&gt; | mh_pageviews &lt;dbl&gt; | mh_previews &lt;dbl&gt; | mobileweb &lt;dbl&gt; | previews_seen &lt;dbl&gt; | total_pageview &lt;dbl&gt; | unique_devices &lt;dbl&gt; |\n",
       "|---|---|---|---|---|---|---|---|---|---|---|---|---|---|---|\n",
       "| 1 | 2016-07-01 | NA | 7319709535 | NA |         NA | NA | NA | NA |        NA | NA | 6951477838 | NA | 14479097793 | NA |\n",
       "| 2 | 2016-08-01 | NA | 7808198322 | NA |         NA | NA | NA | NA |        NA | NA | 7158465508 | NA | 15164063733 | NA |\n",
       "| 3 | 2016-09-01 | NA | 8015803318 | NA | 3509314705 | NA | NA | NA | 482166702 | NA | 7037821889 | NA | 15227361307 | NA |\n",
       "| 4 | 2016-10-01 | NA | 8597813074 | NA | 3649168724 | NA | NA | NA | 584002147 | NA | 7454268064 | NA | 16205992870 | NA |\n",
       "| 5 | 2016-11-01 | NA | 8756368629 | NA | 3682761207 | NA | NA | NA | 639332261 | NA | 7568847051 | NA | 16499874726 | NA |\n",
       "| 6 | 2016-12-01 | NA | 8140608026 | NA | 3397813382 | NA | NA | NA | 566587960 | NA | 7623805561 | NA | 15964600507 | NA |\n",
       "\n"
      ],
      "text/plain": [
       "  month      automated_pageviews desktop    gs_interactions gs_pageviews\n",
       "1 2016-07-01 NA                  7319709535 NA                      NA  \n",
       "2 2016-08-01 NA                  7808198322 NA                      NA  \n",
       "3 2016-09-01 NA                  8015803318 NA              3509314705  \n",
       "4 2016-10-01 NA                  8597813074 NA              3649168724  \n",
       "5 2016-11-01 NA                  8756368629 NA              3682761207  \n",
       "6 2016-12-01 NA                  8140608026 NA              3397813382  \n",
       "  gs_previews interactions mh_interactions mh_pageviews mh_previews mobileweb \n",
       "1 NA          NA           NA                     NA    NA          6951477838\n",
       "2 NA          NA           NA                     NA    NA          7158465508\n",
       "3 NA          NA           NA              482166702    NA          7037821889\n",
       "4 NA          NA           NA              584002147    NA          7454268064\n",
       "5 NA          NA           NA              639332261    NA          7568847051\n",
       "6 NA          NA           NA              566587960    NA          7623805561\n",
       "  previews_seen total_pageview unique_devices\n",
       "1 NA            14479097793    NA            \n",
       "2 NA            15164063733    NA            \n",
       "3 NA            15227361307    NA            \n",
       "4 NA            16205992870    NA            \n",
       "5 NA            16499874726    NA            \n",
       "6 NA            15964600507    NA            "
      ]
     },
     "metadata": {},
     "output_type": "display_data"
    }
   ],
   "source": [
    "head(pageview)"
   ]
  },
  {
   "cell_type": "markdown",
   "metadata": {},
   "source": [
    "### Pageviews Interactions "
   ]
  },
  {
   "cell_type": "code",
   "execution_count": 18,
   "metadata": {},
   "outputs": [],
   "source": [
    "pageview_fy <- pageview %>% \n",
    "     select(month,total_pageview,previews_seen) %>%\n",
    "     mutate(previews_seen = replace_na(previews_seen, 0)) %>%\n",
    "     mutate(interactions = total_pageview+previews_seen) %>%\n",
    "     filter(month >= '2018-07-01') %>%\n",
    "     mutate(fiscal_year = ifelse(month >= '2018-07-01' & month < '2019-07-01', 'FY 2018/19', ifelse(month <'2018-07-01','FY 2017/18',ifelse(month <'2020-07-01','FY 2019/20','FY 2020/21'))),\n",
    "           MonthN =as.factor(format(as.Date(month),\"%m\")),\n",
    "         Month = months(as.Date(month), abbreviate=TRUE))\n",
    "\n",
    "pageview_fy$MonthN = factor(pageview_fy$MonthN, levels=c(\"07\",\"08\", \"09\", \"10\", \"11\", \"12\", \"01\", \"02\", \"03\", \"04\", \"05\", \"06\"))"
   ]
  },
  {
   "cell_type": "code",
   "execution_count": 19,
   "metadata": {},
   "outputs": [
    {
     "data": {
      "text/html": [
       "<table class=\"dataframe\">\n",
       "<caption>A data.frame: 6 × 7</caption>\n",
       "<thead>\n",
       "\t<tr><th></th><th scope=col>month</th><th scope=col>total_pageview</th><th scope=col>previews_seen</th><th scope=col>interactions</th><th scope=col>fiscal_year</th><th scope=col>MonthN</th><th scope=col>Month</th></tr>\n",
       "\t<tr><th></th><th scope=col>&lt;date&gt;</th><th scope=col>&lt;dbl&gt;</th><th scope=col>&lt;dbl&gt;</th><th scope=col>&lt;dbl&gt;</th><th scope=col>&lt;chr&gt;</th><th scope=col>&lt;fct&gt;</th><th scope=col>&lt;chr&gt;</th></tr>\n",
       "</thead>\n",
       "<tbody>\n",
       "\t<tr><th scope=row>31</th><td>2021-01-01</td><td>18399930310</td><td>2258911827</td><td>20658842137</td><td>FY 2020/21</td><td>01</td><td>Jan</td></tr>\n",
       "\t<tr><th scope=row>32</th><td>2021-02-01</td><td>16990619800</td><td>2057132723</td><td>19047752523</td><td>FY 2020/21</td><td>02</td><td>Feb</td></tr>\n",
       "\t<tr><th scope=row>33</th><td>2021-03-01</td><td>18588370602</td><td>2238339934</td><td>20826710536</td><td>FY 2020/21</td><td>03</td><td>Mar</td></tr>\n",
       "\t<tr><th scope=row>34</th><td>2021-04-01</td><td>17594157293</td><td>2129806204</td><td>19723963497</td><td>FY 2020/21</td><td>04</td><td>Apr</td></tr>\n",
       "\t<tr><th scope=row>35</th><td>2021-05-01</td><td>17783793360</td><td>2054246112</td><td>19838039472</td><td>FY 2020/21</td><td>05</td><td>May</td></tr>\n",
       "\t<tr><th scope=row>36</th><td>2021-06-01</td><td>16077141392</td><td>1773353101</td><td>17850494493</td><td>FY 2020/21</td><td>06</td><td>Jun</td></tr>\n",
       "</tbody>\n",
       "</table>\n"
      ],
      "text/latex": [
       "A data.frame: 6 × 7\n",
       "\\begin{tabular}{r|lllllll}\n",
       "  & month & total\\_pageview & previews\\_seen & interactions & fiscal\\_year & MonthN & Month\\\\\n",
       "  & <date> & <dbl> & <dbl> & <dbl> & <chr> & <fct> & <chr>\\\\\n",
       "\\hline\n",
       "\t31 & 2021-01-01 & 18399930310 & 2258911827 & 20658842137 & FY 2020/21 & 01 & Jan\\\\\n",
       "\t32 & 2021-02-01 & 16990619800 & 2057132723 & 19047752523 & FY 2020/21 & 02 & Feb\\\\\n",
       "\t33 & 2021-03-01 & 18588370602 & 2238339934 & 20826710536 & FY 2020/21 & 03 & Mar\\\\\n",
       "\t34 & 2021-04-01 & 17594157293 & 2129806204 & 19723963497 & FY 2020/21 & 04 & Apr\\\\\n",
       "\t35 & 2021-05-01 & 17783793360 & 2054246112 & 19838039472 & FY 2020/21 & 05 & May\\\\\n",
       "\t36 & 2021-06-01 & 16077141392 & 1773353101 & 17850494493 & FY 2020/21 & 06 & Jun\\\\\n",
       "\\end{tabular}\n"
      ],
      "text/markdown": [
       "\n",
       "A data.frame: 6 × 7\n",
       "\n",
       "| <!--/--> | month &lt;date&gt; | total_pageview &lt;dbl&gt; | previews_seen &lt;dbl&gt; | interactions &lt;dbl&gt; | fiscal_year &lt;chr&gt; | MonthN &lt;fct&gt; | Month &lt;chr&gt; |\n",
       "|---|---|---|---|---|---|---|---|\n",
       "| 31 | 2021-01-01 | 18399930310 | 2258911827 | 20658842137 | FY 2020/21 | 01 | Jan |\n",
       "| 32 | 2021-02-01 | 16990619800 | 2057132723 | 19047752523 | FY 2020/21 | 02 | Feb |\n",
       "| 33 | 2021-03-01 | 18588370602 | 2238339934 | 20826710536 | FY 2020/21 | 03 | Mar |\n",
       "| 34 | 2021-04-01 | 17594157293 | 2129806204 | 19723963497 | FY 2020/21 | 04 | Apr |\n",
       "| 35 | 2021-05-01 | 17783793360 | 2054246112 | 19838039472 | FY 2020/21 | 05 | May |\n",
       "| 36 | 2021-06-01 | 16077141392 | 1773353101 | 17850494493 | FY 2020/21 | 06 | Jun |\n",
       "\n"
      ],
      "text/plain": [
       "   month      total_pageview previews_seen interactions fiscal_year MonthN\n",
       "31 2021-01-01 18399930310    2258911827    20658842137  FY 2020/21  01    \n",
       "32 2021-02-01 16990619800    2057132723    19047752523  FY 2020/21  02    \n",
       "33 2021-03-01 18588370602    2238339934    20826710536  FY 2020/21  03    \n",
       "34 2021-04-01 17594157293    2129806204    19723963497  FY 2020/21  04    \n",
       "35 2021-05-01 17783793360    2054246112    19838039472  FY 2020/21  05    \n",
       "36 2021-06-01 16077141392    1773353101    17850494493  FY 2020/21  06    \n",
       "   Month\n",
       "31 Jan  \n",
       "32 Feb  \n",
       "33 Mar  \n",
       "34 Apr  \n",
       "35 May  \n",
       "36 Jun  "
      ]
     },
     "metadata": {},
     "output_type": "display_data"
    }
   ],
   "source": [
    "tail(pageview_fy)"
   ]
  },
  {
   "cell_type": "code",
   "execution_count": 20,
   "metadata": {},
   "outputs": [
    {
     "ename": "ERROR",
     "evalue": "Error in loadNamespace(name): there is no package called ‘polloi’\n",
     "output_type": "error",
     "traceback": [
      "Error in loadNamespace(name): there is no package called ‘polloi’\nTraceback:\n",
      "1. scale_y_continuous(\"Content Interactions per Month (billions)\", \n .     labels = polloi::compress, limits = c(1.3e+10, 2.3e+10))",
      "2. continuous_scale(ggplot_global$y_aes, \"position_c\", identity, \n .     name = name, breaks = breaks, n.breaks = n.breaks, minor_breaks = minor_breaks, \n .     labels = labels, limits = limits, expand = expand, oob = oob, \n .     na.value = na.value, trans = trans, guide = guide, position = position, \n .     super = ScaleContinuousPosition)",
      "3. check_breaks_labels(breaks, labels)",
      "4. polloi::compress",
      "5. getExportedValue(pkg, name)",
      "6. asNamespace(ns)",
      "7. getNamespace(ns)",
      "8. loadNamespace(name)",
      "9. withRestarts(stop(cond), retry_loadNamespace = function() NULL)",
      "10. withOneRestart(expr, restarts[[1L]])",
      "11. doWithOneRestart(return(expr), restart)"
     ]
    }
   ],
   "source": [
    "options(repr.plot.width = 16, repr.plot.height = 8)\n",
    "\n",
    "p<- pageview_fy %>%\n",
    "    ggplot(aes(x = MonthN)) +\n",
    "    geom_line(aes(x = MonthN, y = interactions, group=fiscal_year, color = fiscal_year,size=fiscal_year,linetype = fiscal_year)) +\n",
    "    geom_point(data=pageview_fy[(pageview_fy$fiscal_year ==\"FY 2020/21\"),],aes(x=MonthN, y=interactions, group=fiscal_year, color = fiscal_year),size = 5,color =\"#2a4b8d\")+\n",
    "\n",
    "    scale_linetype_manual(values=c(\"twodash\", \"dashed\",\"solid\")) +\n",
    "    scale_size_manual(values = c(1.3,1.5,2.5)) +\n",
    "    scale_color_manual(values = c(\"FY 2018/19\"= \"#b1c4eb\", \"FY 2019/20\" = \"#3366cc\",\"FY 2020/21\" = \"#2a4b8d\")) +\n",
    "   # geom_vline(xintercept = 10, linetype = \"dashed\", color = \"gray20\") +\n",
    "   # geom_text(aes(x=10, y=16.8E9, label=\"Page previews deployment (April 2018)\"), size=5, vjust = -1, angle = 90, color = \"gray20\") +\n",
    "   # geom_text(aes(x=10, y=16.8E9, label=\"China block all Wikipedias (April 2019)\"), size=5, vjust = 1.5, angle = 90, color = \"#b32424\") +\n",
    "    scale_x_discrete(\"Month\",\n",
    "                      breaks = pageview_fy$MonthN, \n",
    "                     labels = pageview_fy$Month) +\n",
    "    scale_y_continuous(\"Content Interactions per Month (billions)\",\n",
    "                       labels = polloi::compress,\n",
    "                       limits = c(13E9, 23E9)) +\n",
    "    ggthemes::theme_tufte(base_size = 16,base_family = \"serif\") +\n",
    "    theme(axis.title.x=element_blank(),\n",
    "         axis.text.x=element_text( hjust = 0,size = 17,family=\"Courier\"),\n",
    "           axis.text.y=element_text( hjust = 0,size = 21,family=\"Courier\"),\n",
    "          panel.grid = element_line(\"gray80\"),\n",
    "          plot.title = element_text(size = 20,hjust = 0,face= \"bold\"),\n",
    "          axis.title=element_text(size=17,hjust = 0.5,vjust = -12),\n",
    "          legend.position = \"right\", \n",
    "          panel.grid.minor.y = element_blank(),\n",
    "          legend.title = element_blank(),\n",
    "          legend.text =element_text( hjust = 0.5,size = 13),\n",
    "          legend.key.width=unit(1.5,\"cm\"))\n",
    "  p"
   ]
  },
  {
   "cell_type": "markdown",
   "metadata": {},
   "source": [
    "### Interactions"
   ]
  },
  {
   "cell_type": "code",
   "execution_count": null,
   "metadata": {},
   "outputs": [],
   "source": [
    "view <- \n",
    "    pageview %>% \n",
    "    select(month,previews_seen,total_pageview,) %>%\n",
    "    rename(pageviews = \"total_pageview\") %>%\n",
    "    rename(previews = \"previews_seen\") %>%\n",
    "    gather(type,views, pageviews:previews)\n",
    "    \n",
    "interaction <- pageview %>% \n",
    "    select(month,total_pageview,previews_seen) %>%\n",
    "    mutate(previews_seen = replace_na(previews_seen, 0)) %>%\n",
    "    mutate(interactions = total_pageview+previews_seen)\n",
    "\n"
   ]
  },
  {
   "cell_type": "code",
   "execution_count": null,
   "metadata": {},
   "outputs": [],
   "source": [
    "p<- ggplot(data = view, aes(x = month)) + \n",
    "    geom_col(data = view, mapping = aes(y = views, fill = factor(type, levels=c(\"previews\",\"pageviews\"))), position= \"stack\", color =\"grey30\") +\n",
    "    geom_smooth(data = interaction,mapping = aes(y=interactions), method = \"loess\", se = FALSE, size = 0.9,color = 'grey30') +\n",
    "    scale_fill_manual(values = c(\"pageviews\" = \"#3366cc\",\"previews\" = \"#dd3333\")) +\n",
    "    scale_y_continuous(\"Seen previews (shown for at least 1 sec)\\nand pageviews (in billions\",\n",
    "                       labels = polloi::compress,\n",
    "                       limits = c(0, 23E9)) +\n",
    "    scale_x_date(\"Date\", \n",
    "                 labels = date_format(\"%b\\n%Y\"), \n",
    "                 date_breaks = \"2 months\",\n",
    "                 limits= as.Date(c(\"2016-07-01\", \"2020-05-01\"))) +\n",
    "    geom_vline(xintercept = as.numeric(as.Date(\"2018-04-01\")),\n",
    "             linetype = \"dashed\", color = \"white\",size =1) +\n",
    "    geom_text(aes(x=as.Date('2018-04-01'), y=8E9, label=\"Page Previews Deployment (April 2018)\"), size=5, vjust = -1.5, angle = 90, color = \"white\") +\n",
    "    geom_text(aes(x=as.Date('2018-04-01'), y=8E9, label=\"China block all Wikipedias (April 2019)\"), size=5, vjust = 2.5, angle = 90, color = \"white\") +\n",
    "   # labs(title = \"Pageviews and seen previews per calendar month\") +\n",
    "    ggthemes::theme_tufte(base_size = 16,base_family = \"serif\")+\n",
    "    theme(axis.title.x=element_blank(),\n",
    "          axis.text=element_text( hjust = 0,size = 13,family=\"serif\"),\n",
    "          panel.grid = element_line(\"gray80\"),\n",
    "          plot.title = element_text(size = 20,hjust = 0,face= \"bold\"),\n",
    "          axis.title=element_text(size=17,hjust = 0.5,vjust = -12),\n",
    "          legend.position = \"right\", \n",
    "          panel.grid.minor.y = element_blank(),\n",
    "          legend.title = element_blank(),\n",
    "          legend.text =element_text( hjust = 0,size = 12),\n",
    "          legend.key.width=unit(1.5,\"cm\"))\n",
    "\n",
    "#ggsave(filename=\"Pageviews and interactions_StackedBar.png\", plot = p, path = 'Figures', units = \"in\", dpi = 192, height = 6, width = 14, limitsize = FALSE)  \n",
    "p"
   ]
  }
 ],
 "metadata": {
  "kernelspec": {
   "display_name": "R",
   "language": "R",
   "name": "ir"
  },
  "language_info": {
   "codemirror_mode": "r",
   "file_extension": ".r",
   "mimetype": "text/x-r-source",
   "name": "R",
   "pygments_lexer": "r",
   "version": "3.6.1"
  }
 },
 "nbformat": 4,
 "nbformat_minor": 4
}

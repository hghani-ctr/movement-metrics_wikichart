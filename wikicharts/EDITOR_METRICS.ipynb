{
 "cells": [
  {
   "cell_type": "code",
   "execution_count": 1,
   "id": "a8b940aa-527a-4fc4-afc4-6a7166df5a21",
   "metadata": {},
   "outputs": [
    {
     "ename": "SyntaxError",
     "evalue": "'continue' not properly in loop (2476804458.py, line 14)",
     "output_type": "error",
     "traceback": [
      "\u001b[0;36m  Cell \u001b[0;32mIn [1], line 14\u001b[0;36m\u001b[0m\n\u001b[0;31m    continue\u001b[0m\n\u001b[0m    ^\u001b[0m\n\u001b[0;31mSyntaxError\u001b[0m\u001b[0;31m:\u001b[0m 'continue' not properly in loop\n"
     ]
    }
   ],
   "source": [
    "import os\n",
    "import sys\n",
    "\n",
    "def main():\n",
    "    try:\n",
    "        #get original path this script is being run from (for reset)\n",
    "        current_script_path = os.getcwd()\n",
    "        #get path this script exists in\n",
    "        path_to_this_script = os.path.realpath(os.path.dirname(__file__))\n",
    "        print(\"Changing directory to:\" + path_to_this_script)\n",
    "        os.chdir(path_to_this_script)\n",
    "        reset_after = True\n",
    "    except:\n",
    "        reset_after = False\n",
    "\n",
    "    #local\n",
    "    '''\n",
    "    os.system(f'python active_editors.py')\n",
    "    os.system(f'python new_returning_editors.py')\n",
    "    os.system(f'python net_new_content.py')\n",
    "    '''\n",
    "\n",
    "    #jupyter notebook\n",
    "    %run active_editors.ipynb\n",
    "    %run new_returning_editors.ipynb\n",
    "    %run net_new_content.ipynb\n",
    "\n",
    "    if reset_after:\n",
    "        #reset directory to original\n",
    "        print(\"Resetting directory to:\" + path_to_this_script)\n",
    "        os.chdir(current_script_path)\n",
    "\n",
    "if __name__ == \"__main__\":\n",
    "    main()"
   ]
  },
  {
   "cell_type": "code",
   "execution_count": null,
   "id": "d0b9fb36-bdea-43a7-b931-3a284b3e4ba3",
   "metadata": {},
   "outputs": [],
   "source": []
  }
 ],
 "metadata": {
  "kernelspec": {
   "display_name": "Python 3 (ipykernel)",
   "language": "python",
   "name": "python3"
  },
  "language_info": {
   "codemirror_mode": {
    "name": "ipython",
    "version": 3
   },
   "file_extension": ".py",
   "mimetype": "text/x-python",
   "name": "python",
   "nbconvert_exporter": "python",
   "pygments_lexer": "ipython3",
   "version": "3.10.8"
  }
 },
 "nbformat": 4,
 "nbformat_minor": 5
}

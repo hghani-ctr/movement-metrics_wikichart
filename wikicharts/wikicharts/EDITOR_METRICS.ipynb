{
 "cells": [
  {
   "cell_type": "code",
   "execution_count": 1,
   "id": "a8b940aa-527a-4fc4-afc4-6a7166df5a21",
   "metadata": {},
   "outputs": [
    {
     "ename": "NameError",
     "evalue": "name '__file__' is not defined",
     "output_type": "error",
     "traceback": [
      "\u001b[0;31m---------------------------------------------------------------------------\u001b[0m",
      "\u001b[0;31mNameError\u001b[0m                                 Traceback (most recent call last)",
      "Cell \u001b[0;32mIn [1], line 29\u001b[0m\n\u001b[1;32m     26\u001b[0m     os\u001b[38;5;241m.\u001b[39mchdir(current_script_path)\n\u001b[1;32m     28\u001b[0m \u001b[38;5;28;01mif\u001b[39;00m \u001b[38;5;18m__name__\u001b[39m \u001b[38;5;241m==\u001b[39m \u001b[38;5;124m\"\u001b[39m\u001b[38;5;124m__main__\u001b[39m\u001b[38;5;124m\"\u001b[39m:\n\u001b[0;32m---> 29\u001b[0m     \u001b[43mmain\u001b[49m\u001b[43m(\u001b[49m\u001b[43m)\u001b[49m\n",
      "Cell \u001b[0;32mIn [1], line 8\u001b[0m, in \u001b[0;36mmain\u001b[0;34m()\u001b[0m\n\u001b[1;32m      6\u001b[0m current_script_path \u001b[38;5;241m=\u001b[39m os\u001b[38;5;241m.\u001b[39mgetcwd()\n\u001b[1;32m      7\u001b[0m \u001b[38;5;66;03m#get path this script exists in\u001b[39;00m\n\u001b[0;32m----> 8\u001b[0m path_to_this_script \u001b[38;5;241m=\u001b[39m os\u001b[38;5;241m.\u001b[39mpath\u001b[38;5;241m.\u001b[39mrealpath(os\u001b[38;5;241m.\u001b[39mpath\u001b[38;5;241m.\u001b[39mdirname(\u001b[38;5;18;43m__file__\u001b[39;49m))\n\u001b[1;32m      9\u001b[0m \u001b[38;5;28mprint\u001b[39m(\u001b[38;5;124m\"\u001b[39m\u001b[38;5;124mChanging directory to:\u001b[39m\u001b[38;5;124m\"\u001b[39m \u001b[38;5;241m+\u001b[39m path_to_this_script)\n\u001b[1;32m     10\u001b[0m os\u001b[38;5;241m.\u001b[39mchdir(path_to_this_script)\n",
      "\u001b[0;31mNameError\u001b[0m: name '__file__' is not defined"
     ]
    }
   ],
   "source": [
    "import os\n",
    "import sys\n",
    "\n",
    "def main():\n",
    "    try:\n",
    "        #get original path this script is being run from (for reset)\n",
    "        current_script_path = os.getcwd()\n",
    "        #get path this script exists in\n",
    "        path_to_this_script = os.path.realpath(os.path.dirname(__file__))\n",
    "        print(\"Changing directory to:\" + path_to_this_script)\n",
    "        os.chdir(path_to_this_script)\n",
    "        reset_after = True\n",
    "    except:\n",
    "        continue\n",
    "\n",
    "    #local\n",
    "    '''\n",
    "    os.system(f'python active_editors.py')\n",
    "    os.system(f'python new_returning_editors.py')\n",
    "    os.system(f'python net_new_content.py')\n",
    "    '''\n",
    "\n",
    "    #jupyter notebook\n",
    "    %run active_editors.ipynb\n",
    "    %run new_returning_editors.ipynb\n",
    "    %run net_new_content.ipynb\n",
    "\n",
    "    if reset_after:\n",
    "        #reset directory to original\n",
    "        print(\"Resetting directory to:\" + path_to_this_script)\n",
    "        os.chdir(current_script_path)\n",
    "\n",
    "if __name__ == \"__main__\":\n",
    "    main()"
   ]
  },
  {
   "cell_type": "code",
   "execution_count": null,
   "id": "d0b9fb36-bdea-43a7-b931-3a284b3e4ba3",
   "metadata": {},
   "outputs": [],
   "source": []
  }
 ],
 "metadata": {
  "kernelspec": {
   "display_name": "Python 3 (ipykernel)",
   "language": "python",
   "name": "python3"
  },
  "language_info": {
   "codemirror_mode": {
    "name": "ipython",
    "version": 3
   },
   "file_extension": ".py",
   "mimetype": "text/x-python",
   "name": "python",
   "nbconvert_exporter": "python",
   "pygments_lexer": "ipython3",
   "version": "3.10.8"
  }
 },
 "nbformat": 4,
 "nbformat_minor": 5
}

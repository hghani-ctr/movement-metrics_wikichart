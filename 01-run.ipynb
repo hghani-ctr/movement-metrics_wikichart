{
 "cells": [
  {
   "cell_type": "code",
   "execution_count": null,
   "id": "89f4e457-0f53-4256-b114-e7c43cd035fd",
   "metadata": {},
   "outputs": [],
   "source": [
    "import pandas as pd\n",
    "import matplotlib.pyplot as plt\n",
    "import matplotlib.font_manager\n",
    "import os\n",
    "from os.path import dirname\n"
   ]
  },
  {
   "cell_type": "code",
   "execution_count": null,
   "id": "16998d5b-afcb-41b8-8240-5bd85b5e3334",
   "metadata": {},
   "outputs": [],
   "source": [
    "#step 0 - git pull to stay up to date with the repo on Github\n",
    "#Step 1 - make sure that there's data on the API --- see emails in the product analytics email account\n",
    "#Step 2 - run the three notebooks noted below on a stat box "
   ]
  },
  {
   "cell_type": "code",
   "execution_count": null,
   "id": "f6fb2e8e-5f2a-48d4-b2b5-32bea45831c0",
   "metadata": {},
   "outputs": [],
   "source": [
    "%run '02a-calculation.ipynb'"
   ]
  },
  {
   "cell_type": "code",
   "execution_count": null,
   "id": "076e0fa0-975b-46b5-b570-71043d6b2d80",
   "metadata": {
    "tags": []
   },
   "outputs": [],
   "source": [
    "%run '02b-diversity-calculation.ipynb'"
   ]
  },
  {
   "cell_type": "code",
   "execution_count": null,
   "id": "9cee28d9-cf44-4bcc-9c7d-ba2deacba1dd",
   "metadata": {},
   "outputs": [],
   "source": [
    "%run '03-report.ipynb'"
   ]
  },
  {
   "cell_type": "code",
   "execution_count": null,
   "id": "16ee9292-2416-4b0c-a9f7-3afb640e683e",
   "metadata": {},
   "outputs": [],
   "source": [
    "# proceed to step 4 as noted in the readme file"
   ]
  }
 ],
 "metadata": {
  "kernelspec": {
   "display_name": "Python 3 (ipykernel)",
   "language": "python",
   "name": "python3"
  },
  "language_info": {
   "codemirror_mode": {
    "name": "ipython",
    "version": 3
   },
   "file_extension": ".py",
   "mimetype": "text/x-python",
   "name": "python",
   "nbconvert_exporter": "python",
   "pygments_lexer": "ipython3",
   "version": "3.10.8"
  }
 },
 "nbformat": 4,
 "nbformat_minor": 5
}

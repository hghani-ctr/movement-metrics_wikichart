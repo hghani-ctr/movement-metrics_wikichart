{
 "cells": [
  {
   "cell_type": "code",
   "execution_count": 1,
   "id": "89f4e457-0f53-4256-b114-e7c43cd035fd",
   "metadata": {},
   "outputs": [],
   "source": [
    "import pandas as pd\n",
    "import matplotlib.pyplot as plt\n",
    "import matplotlib.font_manager\n",
    "import os\n",
    "from os.path import dirname"
   ]
  },
  {
   "cell_type": "code",
   "execution_count": 2,
   "id": "16998d5b-afcb-41b8-8240-5bd85b5e3334",
   "metadata": {},
   "outputs": [],
   "source": [
    "#step 0 - git pull to stay up to date with the repo on Github\n",
    "#Step 1 - make sure that there's data on the API --- see emails in the product analytics email account\n",
    "#Step 2 - run the four notebooks noted below on a stat box "
   ]
  },
  {
   "cell_type": "code",
   "execution_count": 3,
   "id": "ce21ef71-ef02-4a3c-8a00-fe6b79915bdc",
   "metadata": {
    "tags": []
   },
   "outputs": [
    {
     "name": "stderr",
     "output_type": "stream",
     "text": [
      "Traceback (most recent call last):\n",
      "  File \"<string>\", line 1, in <module>\n",
      "  File \"/home/nshahquinn-wmf/.conda/envs/2023-06-27T21.59.54_nshahquinn-wmf/lib/python3.10/multiprocessing/spawn.py\", line 116, in spawn_main\n",
      "    exitcode = _main(fd, parent_sentinel)\n",
      "  File \"/home/nshahquinn-wmf/.conda/envs/2023-06-27T21.59.54_nshahquinn-wmf/lib/python3.10/multiprocessing/spawn.py\", line 125, in _main\n",
      "    prepare(preparation_data)\n",
      "  File \"/home/nshahquinn-wmf/.conda/envs/2023-06-27T21.59.54_nshahquinn-wmf/lib/python3.10/multiprocessing/spawn.py\", line 236, in prepare\n",
      "    _fixup_main_from_path(data['init_main_from_path'])\n",
      "  File \"/home/nshahquinn-wmf/.conda/envs/2023-06-27T21.59.54_nshahquinn-wmf/lib/python3.10/multiprocessing/spawn.py\", line 287, in _fixup_main_from_path\n",
      "    main_content = runpy.run_path(main_path,\n",
      "  File \"/home/nshahquinn-wmf/.conda/envs/2023-06-27T21.59.54_nshahquinn-wmf/lib/python3.10/runpy.py\", line 289, in run_path\n",
      "    return _run_module_code(code, init_globals, run_name,\n",
      "  File \"/home/nshahquinn-wmf/.conda/envs/2023-06-27T21.59.54_nshahquinn-wmf/lib/python3.10/runpy.py\", line 96, in _run_module_code\n",
      "    _run_code(code, mod_globals, init_globals,\n",
      "  File \"/home/nshahquinn-wmf/.conda/envs/2023-06-27T21.59.54_nshahquinn-wmf/lib/python3.10/runpy.py\", line 86, in _run_code\n",
      "    exec(code, run_globals)\n",
      "  File \"/srv/home/nshahquinn-wmf/Editing-movement-metrics/02a-calculation.ipynb\", line 1377, in <module>\n",
      "    \"execution_count\": null,\n",
      "NameError: name 'null' is not defined\n",
      "Running active_editors on hive...\n"
     ]
    },
    {
     "name": "stdout",
     "output_type": "stream",
     "text": [
      "\n",
      "SPARK_HOME: /usr/lib/spark3\n",
      "Using Hadoop client lib jars at 3.2.0, provided by Spark.\n",
      "PYSPARK_PYTHON=/opt/conda-analytics/bin/python3\n"
     ]
    },
    {
     "name": "stderr",
     "output_type": "stream",
     "text": [
      "Setting default log level to \"WARN\".\n",
      "To adjust logging level use sc.setLogLevel(newLevel). For SparkR, use setLogLevel(newLevel).\n",
      "23/08/23 20:24:25 WARN SparkConf: Note that spark.local.dir will be overridden by the value set by the cluster manager (via SPARK_LOCAL_DIRS in mesos/standalone/kubernetes and LOCAL_DIRS in YARN).\n",
      "23/08/23 20:24:25 WARN Utils: Service 'sparkDriver' could not bind on port 12000. Attempting port 12001.\n",
      "23/08/23 20:24:25 WARN Utils: Service 'sparkDriver' could not bind on port 12001. Attempting port 12002.\n",
      "23/08/23 20:24:25 WARN Utils: Service 'sparkDriver' could not bind on port 12002. Attempting port 12003.\n",
      "23/08/23 20:24:25 WARN Utils: Service 'sparkDriver' could not bind on port 12003. Attempting port 12004.\n",
      "23/08/23 20:24:25 WARN Utils: Service 'sparkDriver' could not bind on port 12004. Attempting port 12005.\n",
      "23/08/23 20:24:25 WARN Utils: Service 'sparkDriver' could not bind on port 12005. Attempting port 12006.\n",
      "23/08/23 20:24:26 WARN Utils: Service 'SparkUI' could not bind on port 4040. Attempting port 4041.\n",
      "23/08/23 20:24:26 WARN Utils: Service 'SparkUI' could not bind on port 4041. Attempting port 4042.\n",
      "23/08/23 20:24:26 WARN Utils: Service 'SparkUI' could not bind on port 4042. Attempting port 4043.\n",
      "23/08/23 20:24:26 WARN Utils: Service 'SparkUI' could not bind on port 4043. Attempting port 4044.\n",
      "23/08/23 20:24:26 WARN Utils: Service 'SparkUI' could not bind on port 4044. Attempting port 4045.\n",
      "23/08/23 20:24:26 WARN Utils: Service 'SparkUI' could not bind on port 4045. Attempting port 4046.\n",
      "23/08/23 20:24:35 WARN Utils: Service 'org.apache.spark.network.netty.NettyBlockTransferService' could not bind on port 13000. Attempting port 13001.\n",
      "23/08/23 20:24:35 WARN Utils: Service 'org.apache.spark.network.netty.NettyBlockTransferService' could not bind on port 13001. Attempting port 13002.\n",
      "23/08/23 20:24:35 WARN Utils: Service 'org.apache.spark.network.netty.NettyBlockTransferService' could not bind on port 13002. Attempting port 13003.\n",
      "23/08/23 20:24:35 WARN Utils: Service 'org.apache.spark.network.netty.NettyBlockTransferService' could not bind on port 13003. Attempting port 13004.\n",
      "23/08/23 20:24:35 WARN Utils: Service 'org.apache.spark.network.netty.NettyBlockTransferService' could not bind on port 13004. Attempting port 13005.\n",
      "23/08/23 20:24:35 WARN Utils: Service 'org.apache.spark.network.netty.NettyBlockTransferService' could not bind on port 13005. Attempting port 13006.\n",
      "23/08/23 20:24:35 WARN YarnSchedulerBackend$YarnSchedulerEndpoint: Attempted to request executors before the AM has registered!\n",
      "23/08/23 20:24:49 WARN SharedInMemoryCache: Evicting cached table partition metadata from memory due to size constraints (spark.sql.hive.filesourcePartitionFileCacheSize = 262144000 bytes). This may impact query planning performance.\n",
      "Running edits on hive...                                                        \n"
     ]
    },
    {
     "name": "stdout",
     "output_type": "stream",
     "text": [
      "\n"
     ]
    },
    {
     "name": "stderr",
     "output_type": "stream",
     "text": [
      "23/08/23 20:25:43 WARN SessionState: METASTORE_FILTER_HOOK will be ignored, since hive.security.authorization.manager is set to instance of HiveAuthorizerFactory.\n",
      "Running new_editor_retention on hive...                                         \n"
     ]
    },
    {
     "name": "stdout",
     "output_type": "stream",
     "text": [
      "\n"
     ]
    },
    {
     "name": "stderr",
     "output_type": "stream",
     "text": [
      "Running global_south_edits_editors on hive...                                   \n"
     ]
    },
    {
     "name": "stdout",
     "output_type": "stream",
     "text": [
      "\n"
     ]
    },
    {
     "name": "stderr",
     "output_type": "stream",
     "text": [
      "Running mobile-heavy_edits_editors on hive...                                   \n"
     ]
    },
    {
     "name": "stdout",
     "output_type": "stream",
     "text": [
      "\n"
     ]
    },
    {
     "name": "stderr",
     "output_type": "stream",
     "text": [
      "Running mobile-heavy_new_editor_retention on hive...                            \n"
     ]
    },
    {
     "name": "stdout",
     "output_type": "stream",
     "text": [
      "\n"
     ]
    },
    {
     "name": "stderr",
     "output_type": "stream",
     "text": [
      "Running global_south_new_editor_retention on hive...                            \n"
     ]
    },
    {
     "name": "stdout",
     "output_type": "stream",
     "text": [
      "\n"
     ]
    },
    {
     "name": "stderr",
     "output_type": "stream",
     "text": [
      "Now on the 0th project of 334 (aa.wikipedia.org)                                \n"
     ]
    },
    {
     "name": "stdout",
     "output_type": "stream",
     "text": [
      "\n"
     ]
    },
    {
     "name": "stderr",
     "output_type": "stream",
     "text": [
      "Now on the 10th project of 334 (ang.wikipedia.org)\n"
     ]
    },
    {
     "name": "stdout",
     "output_type": "stream",
     "text": [
      "\n"
     ]
    },
    {
     "name": "stderr",
     "output_type": "stream",
     "text": [
      "Now on the 20th project of 334 (avk.wikipedia.org)\n"
     ]
    },
    {
     "name": "stdout",
     "output_type": "stream",
     "text": [
      "\n"
     ]
    },
    {
     "name": "stderr",
     "output_type": "stream",
     "text": [
      "Now on the 30th project of 334 (bcl.wikipedia.org)\n"
     ]
    },
    {
     "name": "stdout",
     "output_type": "stream",
     "text": [
      "\n"
     ]
    },
    {
     "name": "stderr",
     "output_type": "stream",
     "text": [
      "Now on the 40th project of 334 (bo.wikipedia.org)\n"
     ]
    },
    {
     "name": "stdout",
     "output_type": "stream",
     "text": [
      "\n"
     ]
    },
    {
     "name": "stderr",
     "output_type": "stream",
     "text": [
      "Now on the 50th project of 334 (ce.wikipedia.org)\n"
     ]
    },
    {
     "name": "stdout",
     "output_type": "stream",
     "text": [
      "\n"
     ]
    },
    {
     "name": "stderr",
     "output_type": "stream",
     "text": [
      "Now on the 60th project of 334 (cs.wikipedia.org)\n"
     ]
    },
    {
     "name": "stdout",
     "output_type": "stream",
     "text": [
      "\n"
     ]
    },
    {
     "name": "stderr",
     "output_type": "stream",
     "text": [
      "Now on the 70th project of 334 (dty.wikipedia.org)\n"
     ]
    },
    {
     "name": "stdout",
     "output_type": "stream",
     "text": [
      "\n"
     ]
    },
    {
     "name": "stderr",
     "output_type": "stream",
     "text": [
      "Now on the 80th project of 334 (eu.wikipedia.org)\n"
     ]
    },
    {
     "name": "stdout",
     "output_type": "stream",
     "text": [
      "\n"
     ]
    },
    {
     "name": "stderr",
     "output_type": "stream",
     "text": [
      "Now on the 90th project of 334 (frr.wikipedia.org)\n"
     ]
    },
    {
     "name": "stdout",
     "output_type": "stream",
     "text": [
      "\n"
     ]
    },
    {
     "name": "stderr",
     "output_type": "stream",
     "text": [
      "Now on the 100th project of 334 (gl.wikipedia.org)\n"
     ]
    },
    {
     "name": "stdout",
     "output_type": "stream",
     "text": [
      "\n"
     ]
    },
    {
     "name": "stderr",
     "output_type": "stream",
     "text": [
      "Now on the 110th project of 334 (gv.wikipedia.org)\n"
     ]
    },
    {
     "name": "stdout",
     "output_type": "stream",
     "text": [
      "\n"
     ]
    },
    {
     "name": "stderr",
     "output_type": "stream",
     "text": [
      "Now on the 120th project of 334 (ht.wikipedia.org)\n"
     ]
    },
    {
     "name": "stdout",
     "output_type": "stream",
     "text": [
      "\n"
     ]
    },
    {
     "name": "stderr",
     "output_type": "stream",
     "text": [
      "Now on the 130th project of 334 (ik.wikipedia.org)\n"
     ]
    },
    {
     "name": "stdout",
     "output_type": "stream",
     "text": [
      "\n"
     ]
    },
    {
     "name": "stderr",
     "output_type": "stream",
     "text": [
      "Now on the 140th project of 334 (jv.wikipedia.org)\n"
     ]
    },
    {
     "name": "stdout",
     "output_type": "stream",
     "text": [
      "\n"
     ]
    },
    {
     "name": "stderr",
     "output_type": "stream",
     "text": [
      "Now on the 150th project of 334 (kk.wikipedia.org)\n"
     ]
    },
    {
     "name": "stdout",
     "output_type": "stream",
     "text": [
      "\n"
     ]
    },
    {
     "name": "stderr",
     "output_type": "stream",
     "text": [
      "Now on the 160th project of 334 (ku.wikipedia.org)\n"
     ]
    },
    {
     "name": "stdout",
     "output_type": "stream",
     "text": [
      "\n"
     ]
    },
    {
     "name": "stderr",
     "output_type": "stream",
     "text": [
      "Now on the 170th project of 334 (lg.wikipedia.org)\n"
     ]
    },
    {
     "name": "stdout",
     "output_type": "stream",
     "text": [
      "\n"
     ]
    },
    {
     "name": "stderr",
     "output_type": "stream",
     "text": [
      "Now on the 180th project of 334 (lv.wikipedia.org)\n"
     ]
    },
    {
     "name": "stdout",
     "output_type": "stream",
     "text": [
      "\n"
     ]
    },
    {
     "name": "stderr",
     "output_type": "stream",
     "text": [
      "Now on the 190th project of 334 (mk.wikipedia.org)\n"
     ]
    },
    {
     "name": "stdout",
     "output_type": "stream",
     "text": [
      "\n"
     ]
    },
    {
     "name": "stderr",
     "output_type": "stream",
     "text": [
      "Now on the 200th project of 334 (mwl.wikipedia.org)\n"
     ]
    },
    {
     "name": "stdout",
     "output_type": "stream",
     "text": [
      "\n"
     ]
    },
    {
     "name": "stderr",
     "output_type": "stream",
     "text": [
      "Now on the 210th project of 334 (new.wikipedia.org)\n"
     ]
    },
    {
     "name": "stdout",
     "output_type": "stream",
     "text": [
      "\n"
     ]
    },
    {
     "name": "stderr",
     "output_type": "stream",
     "text": [
      "Now on the 220th project of 334 (nv.wikipedia.org)\n"
     ]
    },
    {
     "name": "stdout",
     "output_type": "stream",
     "text": [
      "\n"
     ]
    },
    {
     "name": "stderr",
     "output_type": "stream",
     "text": [
      "Now on the 230th project of 334 (pa.wikipedia.org)\n"
     ]
    },
    {
     "name": "stdout",
     "output_type": "stream",
     "text": [
      "\n"
     ]
    },
    {
     "name": "stderr",
     "output_type": "stream",
     "text": [
      "Now on the 240th project of 334 (pnt.wikipedia.org)\n"
     ]
    },
    {
     "name": "stdout",
     "output_type": "stream",
     "text": [
      "\n"
     ]
    },
    {
     "name": "stderr",
     "output_type": "stream",
     "text": [
      "Now on the 250th project of 334 (ro.wikipedia.org)\n"
     ]
    },
    {
     "name": "stdout",
     "output_type": "stream",
     "text": [
      "\n"
     ]
    },
    {
     "name": "stderr",
     "output_type": "stream",
     "text": [
      "Now on the 260th project of 334 (sd.wikipedia.org)\n"
     ]
    },
    {
     "name": "stdout",
     "output_type": "stream",
     "text": [
      "\n"
     ]
    },
    {
     "name": "stderr",
     "output_type": "stream",
     "text": [
      "Now on the 270th project of 334 (sl.wikipedia.org)\n"
     ]
    },
    {
     "name": "stdout",
     "output_type": "stream",
     "text": [
      "\n"
     ]
    },
    {
     "name": "stderr",
     "output_type": "stream",
     "text": [
      "Now on the 280th project of 334 (st.wikipedia.org)\n"
     ]
    },
    {
     "name": "stdout",
     "output_type": "stream",
     "text": [
      "\n"
     ]
    },
    {
     "name": "stderr",
     "output_type": "stream",
     "text": [
      "Now on the 290th project of 334 (te.wikipedia.org)\n"
     ]
    },
    {
     "name": "stdout",
     "output_type": "stream",
     "text": [
      "\n"
     ]
    },
    {
     "name": "stderr",
     "output_type": "stream",
     "text": [
      "Now on the 300th project of 334 (tr.wikipedia.org)\n"
     ]
    },
    {
     "name": "stdout",
     "output_type": "stream",
     "text": [
      "\n"
     ]
    },
    {
     "name": "stderr",
     "output_type": "stream",
     "text": [
      "Now on the 310th project of 334 (ur.wikipedia.org)\n"
     ]
    },
    {
     "name": "stdout",
     "output_type": "stream",
     "text": [
      "\n"
     ]
    },
    {
     "name": "stderr",
     "output_type": "stream",
     "text": [
      "Now on the 320th project of 334 (wo.wikipedia.org)\n"
     ]
    },
    {
     "name": "stdout",
     "output_type": "stream",
     "text": [
      "\n"
     ]
    },
    {
     "name": "stderr",
     "output_type": "stream",
     "text": [
      "Now on the 330th project of 334 (zh-min-nan.wikipedia.org)\n"
     ]
    },
    {
     "name": "stdout",
     "output_type": "stream",
     "text": [
      "\n"
     ]
    },
    {
     "data": {
      "text/html": [
       "<div>\n",
       "<style scoped>\n",
       "    .dataframe tbody tr th:only-of-type {\n",
       "        vertical-align: middle;\n",
       "    }\n",
       "\n",
       "    .dataframe tbody tr th {\n",
       "        vertical-align: top;\n",
       "    }\n",
       "\n",
       "    .dataframe thead th {\n",
       "        text-align: right;\n",
       "    }\n",
       "</style>\n",
       "<table border=\"1\" class=\"dataframe\">\n",
       "  <thead>\n",
       "    <tr style=\"text-align: right;\">\n",
       "      <th></th>\n",
       "      <th>active_editors</th>\n",
       "      <th>anonymous_edits</th>\n",
       "      <th>global_south_active_editors</th>\n",
       "      <th>global_south_edits</th>\n",
       "      <th>global_south_new_editor_retention</th>\n",
       "      <th>global_south_nonbot_edits</th>\n",
       "      <th>mobile-heavy_wiki_active_editors</th>\n",
       "      <th>mobile-heavy_wiki_edits</th>\n",
       "      <th>mobile-heavy_wiki_new_editor_retention</th>\n",
       "      <th>mobile-heavy_wiki_nonbot_edits</th>\n",
       "      <th>mobile_edits</th>\n",
       "      <th>net_new_Commons_content_pages</th>\n",
       "      <th>net_new_Wikidata_entities</th>\n",
       "      <th>net_new_Wikipedia_articles</th>\n",
       "      <th>net_new_content_pages</th>\n",
       "      <th>new_active_editors</th>\n",
       "      <th>new_editor_retention</th>\n",
       "      <th>non_anonymous_edits</th>\n",
       "      <th>other_nonbot_edits</th>\n",
       "      <th>returning_active_editors</th>\n",
       "      <th>revert_rate</th>\n",
       "      <th>total_edits</th>\n",
       "      <th>uploads</th>\n",
       "      <th>wikidata_edits</th>\n",
       "    </tr>\n",
       "    <tr>\n",
       "      <th>month</th>\n",
       "      <th></th>\n",
       "      <th></th>\n",
       "      <th></th>\n",
       "      <th></th>\n",
       "      <th></th>\n",
       "      <th></th>\n",
       "      <th></th>\n",
       "      <th></th>\n",
       "      <th></th>\n",
       "      <th></th>\n",
       "      <th></th>\n",
       "      <th></th>\n",
       "      <th></th>\n",
       "      <th></th>\n",
       "      <th></th>\n",
       "      <th></th>\n",
       "      <th></th>\n",
       "      <th></th>\n",
       "      <th></th>\n",
       "      <th></th>\n",
       "      <th></th>\n",
       "      <th></th>\n",
       "      <th></th>\n",
       "      <th></th>\n",
       "    </tr>\n",
       "  </thead>\n",
       "  <tbody>\n",
       "    <tr>\n",
       "      <th>2023-03-01</th>\n",
       "      <td>93506.0</td>\n",
       "      <td>2030811.0</td>\n",
       "      <td>20763.0</td>\n",
       "      <td>4015257.0</td>\n",
       "      <td>NaN</td>\n",
       "      <td>2752975.0</td>\n",
       "      <td>5453.0</td>\n",
       "      <td>1585639.0</td>\n",
       "      <td>0.053838</td>\n",
       "      <td>568648.0</td>\n",
       "      <td>2077931.0</td>\n",
       "      <td>802669.0</td>\n",
       "      <td>416195.0</td>\n",
       "      <td>217410.0</td>\n",
       "      <td>1736767.0</td>\n",
       "      <td>18364.0</td>\n",
       "      <td>0.081447</td>\n",
       "      <td>47736130.0</td>\n",
       "      <td>11022123.0</td>\n",
       "      <td>75142.0</td>\n",
       "      <td>0.067389</td>\n",
       "      <td>49767168.0</td>\n",
       "      <td>856120.0</td>\n",
       "      <td>22102794.0</td>\n",
       "    </tr>\n",
       "    <tr>\n",
       "      <th>2023-04-01</th>\n",
       "      <td>91004.0</td>\n",
       "      <td>1961180.0</td>\n",
       "      <td>20411.0</td>\n",
       "      <td>2978178.0</td>\n",
       "      <td>NaN</td>\n",
       "      <td>2689331.0</td>\n",
       "      <td>5253.0</td>\n",
       "      <td>880299.0</td>\n",
       "      <td>0.054568</td>\n",
       "      <td>510863.0</td>\n",
       "      <td>2036253.0</td>\n",
       "      <td>796965.0</td>\n",
       "      <td>480902.0</td>\n",
       "      <td>216111.0</td>\n",
       "      <td>1841465.0</td>\n",
       "      <td>17002.0</td>\n",
       "      <td>0.070166</td>\n",
       "      <td>45754123.0</td>\n",
       "      <td>11044883.0</td>\n",
       "      <td>74002.0</td>\n",
       "      <td>0.056774</td>\n",
       "      <td>47715591.0</td>\n",
       "      <td>846514.0</td>\n",
       "      <td>20169473.0</td>\n",
       "    </tr>\n",
       "    <tr>\n",
       "      <th>2023-05-01</th>\n",
       "      <td>91711.0</td>\n",
       "      <td>2002114.0</td>\n",
       "      <td>20267.0</td>\n",
       "      <td>2828472.0</td>\n",
       "      <td>NaN</td>\n",
       "      <td>2582733.0</td>\n",
       "      <td>5283.0</td>\n",
       "      <td>990895.0</td>\n",
       "      <td>0.055442</td>\n",
       "      <td>515371.0</td>\n",
       "      <td>2130238.0</td>\n",
       "      <td>806293.0</td>\n",
       "      <td>779698.0</td>\n",
       "      <td>202301.0</td>\n",
       "      <td>3211236.0</td>\n",
       "      <td>16974.0</td>\n",
       "      <td>0.067278</td>\n",
       "      <td>48036537.0</td>\n",
       "      <td>10815482.0</td>\n",
       "      <td>74737.0</td>\n",
       "      <td>0.063386</td>\n",
       "      <td>50038842.0</td>\n",
       "      <td>852157.0</td>\n",
       "      <td>19492792.0</td>\n",
       "    </tr>\n",
       "    <tr>\n",
       "      <th>2023-06-01</th>\n",
       "      <td>87961.0</td>\n",
       "      <td>1895243.0</td>\n",
       "      <td>20214.0</td>\n",
       "      <td>3098878.0</td>\n",
       "      <td>NaN</td>\n",
       "      <td>2519935.0</td>\n",
       "      <td>5411.0</td>\n",
       "      <td>947840.0</td>\n",
       "      <td>0.057196</td>\n",
       "      <td>523348.0</td>\n",
       "      <td>2092098.0</td>\n",
       "      <td>950689.0</td>\n",
       "      <td>1139939.0</td>\n",
       "      <td>160329.0</td>\n",
       "      <td>2882786.0</td>\n",
       "      <td>16208.0</td>\n",
       "      <td>0.061469</td>\n",
       "      <td>46400660.0</td>\n",
       "      <td>10181672.0</td>\n",
       "      <td>71753.0</td>\n",
       "      <td>0.049638</td>\n",
       "      <td>48296199.0</td>\n",
       "      <td>1008563.0</td>\n",
       "      <td>20461438.0</td>\n",
       "    </tr>\n",
       "    <tr>\n",
       "      <th>2023-07-01</th>\n",
       "      <td>87888.0</td>\n",
       "      <td>1880484.0</td>\n",
       "      <td>20178.0</td>\n",
       "      <td>3383710.0</td>\n",
       "      <td>NaN</td>\n",
       "      <td>2693299.0</td>\n",
       "      <td>5070.0</td>\n",
       "      <td>1185634.0</td>\n",
       "      <td>0.054265</td>\n",
       "      <td>526894.0</td>\n",
       "      <td>2234879.0</td>\n",
       "      <td>1305360.0</td>\n",
       "      <td>903759.0</td>\n",
       "      <td>157392.0</td>\n",
       "      <td>2729635.0</td>\n",
       "      <td>15678.0</td>\n",
       "      <td>0.058309</td>\n",
       "      <td>42620027.0</td>\n",
       "      <td>10590389.0</td>\n",
       "      <td>72210.0</td>\n",
       "      <td>0.043783</td>\n",
       "      <td>44506144.0</td>\n",
       "      <td>1352608.0</td>\n",
       "      <td>16854315.0</td>\n",
       "    </tr>\n",
       "  </tbody>\n",
       "</table>\n",
       "</div>"
      ],
      "text/plain": [
       "            active_editors  anonymous_edits  global_south_active_editors  \\\n",
       "month                                                                      \n",
       "2023-03-01  93506.0         2030811.0        20763.0                       \n",
       "2023-04-01  91004.0         1961180.0        20411.0                       \n",
       "2023-05-01  91711.0         2002114.0        20267.0                       \n",
       "2023-06-01  87961.0         1895243.0        20214.0                       \n",
       "2023-07-01  87888.0         1880484.0        20178.0                       \n",
       "\n",
       "            global_south_edits  global_south_new_editor_retention  \\\n",
       "month                                                               \n",
       "2023-03-01  4015257.0          NaN                                  \n",
       "2023-04-01  2978178.0          NaN                                  \n",
       "2023-05-01  2828472.0          NaN                                  \n",
       "2023-06-01  3098878.0          NaN                                  \n",
       "2023-07-01  3383710.0          NaN                                  \n",
       "\n",
       "            global_south_nonbot_edits  mobile-heavy_wiki_active_editors  \\\n",
       "month                                                                     \n",
       "2023-03-01  2752975.0                  5453.0                             \n",
       "2023-04-01  2689331.0                  5253.0                             \n",
       "2023-05-01  2582733.0                  5283.0                             \n",
       "2023-06-01  2519935.0                  5411.0                             \n",
       "2023-07-01  2693299.0                  5070.0                             \n",
       "\n",
       "            mobile-heavy_wiki_edits  mobile-heavy_wiki_new_editor_retention  \\\n",
       "month                                                                         \n",
       "2023-03-01  1585639.0                0.053838                                 \n",
       "2023-04-01  880299.0                 0.054568                                 \n",
       "2023-05-01  990895.0                 0.055442                                 \n",
       "2023-06-01  947840.0                 0.057196                                 \n",
       "2023-07-01  1185634.0                0.054265                                 \n",
       "\n",
       "            mobile-heavy_wiki_nonbot_edits  mobile_edits  \\\n",
       "month                                                      \n",
       "2023-03-01  568648.0                        2077931.0      \n",
       "2023-04-01  510863.0                        2036253.0      \n",
       "2023-05-01  515371.0                        2130238.0      \n",
       "2023-06-01  523348.0                        2092098.0      \n",
       "2023-07-01  526894.0                        2234879.0      \n",
       "\n",
       "            net_new_Commons_content_pages  net_new_Wikidata_entities  \\\n",
       "month                                                                  \n",
       "2023-03-01  802669.0                       416195.0                    \n",
       "2023-04-01  796965.0                       480902.0                    \n",
       "2023-05-01  806293.0                       779698.0                    \n",
       "2023-06-01  950689.0                       1139939.0                   \n",
       "2023-07-01  1305360.0                      903759.0                    \n",
       "\n",
       "            net_new_Wikipedia_articles  net_new_content_pages  \\\n",
       "month                                                           \n",
       "2023-03-01  217410.0                    1736767.0               \n",
       "2023-04-01  216111.0                    1841465.0               \n",
       "2023-05-01  202301.0                    3211236.0               \n",
       "2023-06-01  160329.0                    2882786.0               \n",
       "2023-07-01  157392.0                    2729635.0               \n",
       "\n",
       "            new_active_editors  new_editor_retention  non_anonymous_edits  \\\n",
       "month                                                                       \n",
       "2023-03-01  18364.0             0.081447              47736130.0            \n",
       "2023-04-01  17002.0             0.070166              45754123.0            \n",
       "2023-05-01  16974.0             0.067278              48036537.0            \n",
       "2023-06-01  16208.0             0.061469              46400660.0            \n",
       "2023-07-01  15678.0             0.058309              42620027.0            \n",
       "\n",
       "            other_nonbot_edits  returning_active_editors  revert_rate  \\\n",
       "month                                                                   \n",
       "2023-03-01  11022123.0          75142.0                   0.067389      \n",
       "2023-04-01  11044883.0          74002.0                   0.056774      \n",
       "2023-05-01  10815482.0          74737.0                   0.063386      \n",
       "2023-06-01  10181672.0          71753.0                   0.049638      \n",
       "2023-07-01  10590389.0          72210.0                   0.043783      \n",
       "\n",
       "            total_edits    uploads  wikidata_edits  \n",
       "month                                               \n",
       "2023-03-01  49767168.0   856120.0   22102794.0      \n",
       "2023-04-01  47715591.0   846514.0   20169473.0      \n",
       "2023-05-01  50038842.0   852157.0   19492792.0      \n",
       "2023-06-01  48296199.0   1008563.0  20461438.0      \n",
       "2023-07-01  44506144.0   1352608.0  16854315.0      "
      ]
     },
     "metadata": {},
     "output_type": "display_data"
    }
   ],
   "source": [
    "%run '02a-calculation.ipynb'"
   ]
  },
  {
   "cell_type": "code",
   "execution_count": null,
   "id": "d1436b1f-3fbf-4a78-abbb-63ed7a75fac0",
   "metadata": {
    "tags": []
   },
   "outputs": [
    {
     "name": "stderr",
     "output_type": "stream",
     "text": [
      "Running global_south_edits_editors on hive...\n"
     ]
    },
    {
     "name": "stdout",
     "output_type": "stream",
     "text": [
      "\n"
     ]
    },
    {
     "name": "stderr",
     "output_type": "stream",
     "text": [
      "/home/nshahquinn-wmf/.conda/envs/2023-06-27T21.59.54_nshahquinn-wmf/lib/python3.10/site-packages/pandas/io/sql.py:761: UserWarning: pandas only support SQLAlchemy connectable(engine/connection) ordatabase string URI or sqlite3 DBAPI2 connectionother DBAPI2 objects are not tested, please consider using SQLAlchemy\n",
      "  warnings.warn(\n",
      "Running global_south_new_editor_retention on hive...\n",
      "/home/nshahquinn-wmf/.conda/envs/2023-06-27T21.59.54_nshahquinn-wmf/lib/python3.10/site-packages/pandas/io/sql.py:761: UserWarning: pandas only support SQLAlchemy connectable(engine/connection) ordatabase string URI or sqlite3 DBAPI2 connectionother DBAPI2 objects are not tested, please consider using SQLAlchemy\n",
      "  warnings.warn(\n"
     ]
    },
    {
     "name": "stdout",
     "output_type": "stream",
     "text": [
      "\n"
     ]
    },
    {
     "name": "stderr",
     "output_type": "stream",
     "text": [
      "Running global_south_net_new_content on hive...\n",
      "/home/nshahquinn-wmf/.conda/envs/2023-06-27T21.59.54_nshahquinn-wmf/lib/python3.10/site-packages/pandas/io/sql.py:761: UserWarning: pandas only support SQLAlchemy connectable(engine/connection) ordatabase string URI or sqlite3 DBAPI2 connectionother DBAPI2 objects are not tested, please consider using SQLAlchemy\n",
      "  warnings.warn(\n"
     ]
    },
    {
     "name": "stdout",
     "output_type": "stream",
     "text": [
      "\n"
     ]
    },
    {
     "name": "stderr",
     "output_type": "stream",
     "text": [
      "Running global_south_wikidata_entities on hive...\n"
     ]
    },
    {
     "name": "stdout",
     "output_type": "stream",
     "text": [
      "\n"
     ]
    },
    {
     "name": "stderr",
     "output_type": "stream",
     "text": [
      "/home/nshahquinn-wmf/.conda/envs/2023-06-27T21.59.54_nshahquinn-wmf/lib/python3.10/site-packages/pandas/io/sql.py:761: UserWarning: pandas only support SQLAlchemy connectable(engine/connection) ordatabase string URI or sqlite3 DBAPI2 connectionother DBAPI2 objects are not tested, please consider using SQLAlchemy\n",
      "  warnings.warn(\n"
     ]
    }
   ],
   "source": [
    "%run '02b-diversity-calculation.ipynb'"
   ]
  },
  {
   "cell_type": "code",
   "execution_count": null,
   "id": "9cee28d9-cf44-4bcc-9c7d-ba2deacba1dd",
   "metadata": {},
   "outputs": [],
   "source": [
    "# TODO get ouput here \n",
    "# see the report here: https://github.com/wikimedia-research/Editing-movement-metrics/blob/master/03a-report.ipynb\n",
    "%run '03a-report.ipynb'"
   ]
  },
  {
   "cell_type": "code",
   "execution_count": null,
   "id": "05e93dd7-0fcc-4c58-b5fa-e4973e702d9e",
   "metadata": {
    "tags": []
   },
   "outputs": [],
   "source": [
    "# see the viz repo for further documentation: https://github.com/wikimedia-research/key_product_metrics/ \n",
    "# data_path = \"../metrics/metrics.tsv\"\n",
    "# chart files can be accessed here: https://github.com/wikimedia-research/Editing-movement-metrics/charts\n",
    "%run '../key_product_metrics/wikicharts/EDITOR_METRICS.ipynb'"
   ]
  },
  {
   "cell_type": "code",
   "execution_count": null,
   "id": "16ee9292-2416-4b0c-a9f7-3afb640e683e",
   "metadata": {},
   "outputs": [],
   "source": [
    "# proceed to step 4 as noted in the readme file"
   ]
  }
 ],
 "metadata": {
  "kernelspec": {
   "display_name": "Python 3 (ipykernel)",
   "language": "python",
   "name": "python3"
  },
  "language_info": {
   "codemirror_mode": {
    "name": "ipython",
    "version": 3
   },
   "file_extension": ".py",
   "mimetype": "text/x-python",
   "name": "python",
   "nbconvert_exporter": "python",
   "pygments_lexer": "ipython3",
   "version": "3.10.8"
  }
 },
 "nbformat": 4,
 "nbformat_minor": 5
}

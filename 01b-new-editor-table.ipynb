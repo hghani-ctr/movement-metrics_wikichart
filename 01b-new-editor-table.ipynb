{
 "cells": [
  {
   "cell_type": "code",
   "execution_count": 2,
   "metadata": {},
   "outputs": [],
   "source": [
    "import pandas as pd\n",
    "import matplotlib as mpl\n",
    "import matplotlib.pyplot as plt\n",
    "import datetime\n",
    "import os\n",
    "\n",
    "from wmfdata import charting, hive,spark"
   ]
  },
  {
   "cell_type": "code",
   "execution_count": 3,
   "metadata": {},
   "outputs": [],
   "source": [
    "# UPDATE FOR NEW MONTH!\n",
    "# Start included, end excluded.\n",
    "# Have to set the end back a couple of months to ensure we only get uncensored data.\n",
    "# To-do: We take the metric month and look backwards. But this results in censored data\n",
    "# for months under 30 days (February).\n",
    "\n",
    "#START = '2019-05'\n",
    "#END = '2019-06'\n",
    "#MWH_SNAPSHOT = '2019-07'\n",
    "\n",
    "last_month = datetime.date.today().replace(day=1) - datetime.timedelta(days=1)\n",
    "last_two_month = datetime.date.today().replace(day=1) - datetime.timedelta(days= 35)\n",
    "last_three_month = datetime.date.today().replace(day=1) - datetime.timedelta(days= 70)\n",
    "\n",
    "\n",
    "START = last_three_month.strftime(\"%Y-%m\")\n",
    "END = last_two_month.strftime(\"%Y-%m\")\n",
    "MWH_SNAPSHOT = last_month.strftime(\"%Y-%m\") # The latest available mediawiki_history snapshot"
   ]
  },
  {
   "cell_type": "code",
   "execution_count": 4,
   "metadata": {},
   "outputs": [],
   "source": [
    "%matplotlib inline\n",
    "charting.set_mpl_style()"
   ]
  },
  {
   "cell_type": "code",
   "execution_count": 5,
   "metadata": {},
   "outputs": [
    {
     "data": {
      "text/plain": [
       "'2021-06'"
      ]
     },
     "execution_count": 5,
     "metadata": {},
     "output_type": "execute_result"
    }
   ],
   "source": [
    "START"
   ]
  },
  {
   "cell_type": "markdown",
   "metadata": {},
   "source": [
    "# Update table"
   ]
  },
  {
   "cell_type": "code",
   "execution_count": 6,
   "metadata": {},
   "outputs": [],
   "source": [
    "# Create the table if necessary\n",
    "hive.run(\n",
    "\"\"\"\n",
    "CREATE EXTERNAL TABLE IF NOT EXISTS wmf_product.new_editors ( \n",
    "    `user_name` string, \n",
    "    `wiki` string, \n",
    "    `user_id` bigint, \n",
    "    `1st_month_edits` bigint, \n",
    "    `2nd_month_edits` bigint  \n",
    ") \n",
    "PARTITIONED BY (`cohort` string) \n",
    "STORED AS PARQUET\n",
    "\"\"\"\n",
    ")"
   ]
  },
  {
   "cell_type": "code",
   "execution_count": 7,
   "metadata": {},
   "outputs": [
    {
     "data": {
      "text/html": [
       "<div>\n",
       "<style scoped>\n",
       "    .dataframe tbody tr th:only-of-type {\n",
       "        vertical-align: middle;\n",
       "    }\n",
       "\n",
       "    .dataframe tbody tr th {\n",
       "        vertical-align: top;\n",
       "    }\n",
       "\n",
       "    .dataframe thead th {\n",
       "        text-align: right;\n",
       "    }\n",
       "</style>\n",
       "<table border=\"1\" class=\"dataframe\">\n",
       "  <thead>\n",
       "    <tr style=\"text-align: right;\">\n",
       "      <th></th>\n",
       "      <th>user_name</th>\n",
       "      <th>wiki</th>\n",
       "      <th>user_id</th>\n",
       "      <th>1st_month_edits</th>\n",
       "      <th>2nd_month_edits</th>\n",
       "    </tr>\n",
       "  </thead>\n",
       "  <tbody>\n",
       "  </tbody>\n",
       "</table>\n",
       "</div>"
      ],
      "text/plain": [
       "Empty DataFrame\n",
       "Columns: [user_name, wiki, user_id, 1st_month_edits, 2nd_month_edits]\n",
       "Index: []"
      ]
     },
     "execution_count": 7,
     "metadata": {},
     "output_type": "execute_result"
    }
   ],
   "source": [
    "hive.run(\n",
    "    \"\"\"\n",
    "    INSERT OVERWRITE TABLE wmf_product.new_editors\n",
    "    PARTITION(cohort= \"{start}\")\n",
    "    \n",
    "    SELECT 1st_month.user_name AS user_name,\n",
    "       1st_month.wiki AS wiki,\n",
    "       1st_month.user_id AS user_id,\n",
    "       1st_month.edits AS 1st_month_edits,\n",
    "                           coalesce(2nd_month.edits, 0) AS 2nd_month_edits\n",
    "    FROM\n",
    "      ( SELECT event_user_text AS user_name,\n",
    "               wiki_db AS wiki,\n",
    "               event_user_id AS user_id,\n",
    "               substr(event_user_creation_timestamp, 0, 7) AS cohort,\n",
    "               count(*) AS edits\n",
    "       FROM wmf.mediawiki_history\n",
    "       WHERE SNAPSHOT = \"{snapshot}\"\n",
    "         AND event_entity = \"revision\"\n",
    "         AND event_type = \"create\"\n",
    "         AND NOT event_user_is_created_by_system\n",
    "         AND event_user_creation_timestamp BETWEEN \"{start}\" and \"{end}\"\n",
    "         AND unix_timestamp(event_timestamp, \"yyyy-MM-dd HH:mm:ss.0\") < (unix_timestamp(event_user_creation_timestamp, \"yyyy-MM-dd HH:mm:ss.0\") + (30*24*60*60))\n",
    "       GROUP BY event_user_text,\n",
    "                event_user_id,\n",
    "                event_user_creation_timestamp,\n",
    "                wiki_db ) 1st_month\n",
    "    LEFT JOIN\n",
    "      ( SELECT event_user_text AS user_name,\n",
    "               wiki_db AS wiki,\n",
    "               event_user_id AS user_id,\n",
    "               substr(event_user_creation_timestamp, 0, 7) AS cohort,\n",
    "               count(*) AS edits\n",
    "       FROM wmf.mediawiki_history\n",
    "       WHERE SNAPSHOT = \"{snapshot}\"\n",
    "         AND event_entity = \"revision\"\n",
    "         AND event_type = \"create\"\n",
    "         AND NOT event_user_is_created_by_system\n",
    "         AND event_user_creation_timestamp BETWEEN \"{start}\" and \"{end}\"\n",
    "         AND unix_timestamp(event_timestamp, \"yyyy-MM-dd HH:mm:ss.0\") >= (unix_timestamp(event_user_creation_timestamp, \"yyyy-MM-dd HH:mm:ss.0\") + (30*24*60*60))\n",
    "         AND unix_timestamp(event_timestamp, \"yyyy-MM-dd HH:mm:ss.0\") < (unix_timestamp(event_user_creation_timestamp, \"yyyy-MM-dd HH:mm:ss.0\") + (60*24*60*60))\n",
    "       GROUP BY event_user_text,\n",
    "                event_user_id,\n",
    "                event_user_creation_timestamp,\n",
    "                wiki_db ) 2nd_month ON (1st_month.user_name = 2nd_month.user_name\n",
    "                                        AND 1st_month.wiki = 2nd_month.wiki\n",
    "                                        AND 1st_month.cohort = 2nd_month.cohort)\n",
    "    \"\"\".format(\n",
    "        snapshot = MWH_SNAPSHOT,\n",
    "        start = START,\n",
    "        end = END\n",
    "    ))"
   ]
  },
  {
   "cell_type": "code",
   "execution_count": 8,
   "metadata": {},
   "outputs": [
    {
     "data": {
      "text/plain": [
       "0"
      ]
     },
     "execution_count": 8,
     "metadata": {},
     "output_type": "execute_result"
    }
   ],
   "source": [
    "#update database access\n",
    "os.system(\"hdfs dfs -chmod -R o+r /user/hive/warehouse/wmf_product.db/new_editors\")"
   ]
  },
  {
   "cell_type": "markdown",
   "metadata": {},
   "source": [
    "# Validate"
   ]
  },
  {
   "cell_type": "code",
   "execution_count": 9,
   "metadata": {},
   "outputs": [
    {
     "data": {
      "text/html": [
       "<div>\n",
       "<style scoped>\n",
       "    .dataframe tbody tr th:only-of-type {\n",
       "        vertical-align: middle;\n",
       "    }\n",
       "\n",
       "    .dataframe tbody tr th {\n",
       "        vertical-align: top;\n",
       "    }\n",
       "\n",
       "    .dataframe thead th {\n",
       "        text-align: right;\n",
       "    }\n",
       "</style>\n",
       "<table border=\"1\" class=\"dataframe\">\n",
       "  <thead>\n",
       "    <tr style=\"text-align: right;\">\n",
       "      <th>wiki</th>\n",
       "      <th>arwiki</th>\n",
       "      <th>enwiki</th>\n",
       "      <th>jawiki</th>\n",
       "      <th>zhwiki</th>\n",
       "    </tr>\n",
       "    <tr>\n",
       "      <th>cohort</th>\n",
       "      <th></th>\n",
       "      <th></th>\n",
       "      <th></th>\n",
       "      <th></th>\n",
       "    </tr>\n",
       "  </thead>\n",
       "  <tbody>\n",
       "    <tr>\n",
       "      <th>2021-04-01</th>\n",
       "      <td>2932</td>\n",
       "      <td>42791</td>\n",
       "      <td>3493</td>\n",
       "      <td>1829</td>\n",
       "    </tr>\n",
       "    <tr>\n",
       "      <th>2021-05-01</th>\n",
       "      <td>3483</td>\n",
       "      <td>42951</td>\n",
       "      <td>3555</td>\n",
       "      <td>2004</td>\n",
       "    </tr>\n",
       "    <tr>\n",
       "      <th>2021-06-01</th>\n",
       "      <td>3067</td>\n",
       "      <td>39001</td>\n",
       "      <td>3282</td>\n",
       "      <td>2079</td>\n",
       "    </tr>\n",
       "  </tbody>\n",
       "</table>\n",
       "</div>"
      ],
      "text/plain": [
       "wiki        arwiki  enwiki  jawiki  zhwiki\n",
       "cohort                                    \n",
       "2021-04-01    2932   42791    3493    1829\n",
       "2021-05-01    3483   42951    3555    2004\n",
       "2021-06-01    3067   39001    3282    2079"
      ]
     },
     "execution_count": 9,
     "metadata": {},
     "output_type": "execute_result"
    }
   ],
   "source": [
    "# Check the monthly number of rows (i.e. new editors) from four wikis to check for duplicated data.\n",
    "new_editors = hive.run(\n",
    "\"\"\"\n",
    "set hive.mapred.mode=nonstrict;\n",
    "select wiki, cohort, count(*) as new_editors\n",
    "from wmf_product.new_editors\n",
    "where wiki in (\"arwiki\", \"enwiki\", \"jawiki\", \"zhwiki\")\n",
    "group by wiki, cohort\n",
    "order by wiki, cohort asc\n",
    "limit 10000\n",
    "\"\"\"\n",
    ")\n",
    "\n",
    "new_editors = (\n",
    "    new_editors\n",
    "    .assign(cohort = lambda df: pd.to_datetime(df[\"cohort\"]))\n",
    "    .set_index(\"cohort\")\n",
    "    .pivot(columns=\"wiki\")\n",
    "    .xs(\"new_editors\", axis=1)\n",
    ")\n",
    "    \n",
    "new_editors.tail()"
   ]
  },
  {
   "cell_type": "code",
   "execution_count": 10,
   "metadata": {},
   "outputs": [
    {
     "data": {
      "image/png": "[encoded data removed]",
      "text/plain": [
       "<Figure size 1008x504 with 1 Axes>"
      ]
     },
     "metadata": {
      "needs_background": "light"
     },
     "output_type": "display_data"
    }
   ],
   "source": [
    "#data quality review\n",
    "new_editors.loc[\"2015-10\":, \"enwiki\"].plot()\n",
    "plt.ylim(0);"
   ]
  },
  {
   "cell_type": "code",
   "execution_count": 11,
   "metadata": {},
   "outputs": [
    {
     "data": {
      "image/png": "[encoded data removed]",
      "text/plain": [
       "<Figure size 1008x504 with 1 Axes>"
      ]
     },
     "metadata": {
      "needs_background": "light"
     },
     "output_type": "display_data"
    }
   ],
   "source": [
    "new_editors.loc[\"2021-05\":, \"enwiki\"].plot()\n",
    "plt.ylim(0);"
   ]
  },
  {
   "cell_type": "code",
   "execution_count": 12,
   "metadata": {},
   "outputs": [
    {
     "data": {
      "image/png": "[encoded data removed]",
      "text/plain": [
       "<Figure size 1008x504 with 1 Axes>"
      ]
     },
     "metadata": {
      "needs_background": "light"
     },
     "output_type": "display_data"
    }
   ],
   "source": [
    "new_editors.loc[\"2015-10\":, [\"arwiki\", \"jawiki\", \"zhwiki\"]].plot()\n",
    "plt.ylim(0);"
   ]
  },
  {
   "cell_type": "code",
   "execution_count": null,
   "metadata": {},
   "outputs": [],
   "source": []
  },
  {
   "cell_type": "code",
   "execution_count": null,
   "metadata": {},
   "outputs": [],
   "source": []
  }
 ],
 "metadata": {
  "kernelspec": {
   "display_name": "Python 3",
   "language": "python",
   "name": "python3"
  },
  "language_info": {
   "codemirror_mode": {
    "name": "ipython",
    "version": 3
   },
   "file_extension": ".py",
   "mimetype": "text/x-python",
   "name": "python",
   "nbconvert_exporter": "python",
   "pygments_lexer": "ipython3",
   "version": "3.7.10"
  }
 },
 "nbformat": 4,
 "nbformat_minor": 4
}

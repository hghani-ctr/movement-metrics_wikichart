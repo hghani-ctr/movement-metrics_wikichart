{
 "cells": [
  {
   "cell_type": "markdown",
   "metadata": {},
   "source": [
    "# Import"
   ]
  },
  {
   "cell_type": "code",
   "execution_count": 1,
   "metadata": {},
   "outputs": [
    {
     "name": "stderr",
     "output_type": "stream",
     "text": [
      "You are using wmfdata v1.4.0, but v2.0.0 is available.\n",
      "\n",
      "To update, run `pip install --upgrade git+https://github.com/wikimedia/wmfdata-python.git@release --ignore-installed`.\n",
      "\n",
      "To see the changes, refer to https://github.com/wikimedia/wmfdata-python/blob/release/CHANGELOG.md\n"
     ]
    }
   ],
   "source": [
    "from functools import reduce\n",
    "from pathlib import Path\n",
    "import time\n",
    "import datetime\n",
    "\n",
    "import pandas as pd\n",
    "import requests\n",
    "from wmfdata import hive, spark\n",
    "from wmfdata.utils import print_err, pd_display_all\n",
    "\n",
    "import warnings\n",
    "warnings.filterwarnings('ignore')\n"
   ]
  },
  {
   "cell_type": "markdown",
   "metadata": {},
   "source": [
    "# Parameters"
   ]
  },
  {
   "cell_type": "code",
   "execution_count": 2,
   "metadata": {},
   "outputs": [],
   "source": [
    "# TSV file where metrics are or will be saved\n",
    "FILENAME = \"metrics/metrics.tsv\"\n",
    "\n",
    "# Metric month. The mediawiki_history snapshot must be from the metrics month or later.\n",
    "last_month = datetime.date.today().replace(day=1) - datetime.timedelta(days=1)\n",
    "\n",
    "METRICS_MONTH_TEXT = last_month.strftime(\"%Y-%m\")\n",
    "MEDIAWIKI_HISTORY_SNAPSHOT = last_month.strftime(\"%Y-%m\")\n",
    "\n"
   ]
  },
  {
   "cell_type": "code",
   "execution_count": 3,
   "metadata": {},
   "outputs": [
    {
     "data": {
      "text/plain": [
       "datetime.date(2022, 12, 31)"
      ]
     },
     "execution_count": 3,
     "metadata": {},
     "output_type": "execute_result"
    }
   ],
   "source": [
    "datetime.date.today().replace(day=1) - datetime.timedelta(days=1)"
   ]
  },
  {
   "cell_type": "markdown",
   "metadata": {},
   "source": [
    "# Preparation"
   ]
  },
  {
   "cell_type": "code",
   "execution_count": 4,
   "metadata": {},
   "outputs": [],
   "source": [
    "# Convert our metrics month to all the formats we need and provide them in a dict\n",
    "# so we can easily use them to format strings\n",
    "metrics_month = METRICS_MONTH_TEXT\n",
    "date_params = {\n",
    "    \"mediawiki_history_snapshot\": MEDIAWIKI_HISTORY_SNAPSHOT,\n",
    "    \"metrics_month\": str(metrics_month),\n",
    "    #\"metrics_prev_month\": str(metrics_month - 1),\n",
    "    #\"metrics_month_start\": str(metrics_month.start_time), \n",
    "    \"metrics_month_first_day\": str((datetime.date.today()- datetime.timedelta(days=31)).replace(day=1)),\n",
    "    #\"metrics_month_end\": str(last_month),\n",
    "    \"metrics_month_last_day\": str(last_month),\n",
    "    \"metrics_year\": last_month.year,\n",
    "    \"metrics_cur_month\" : last_month.month\n",
    "}\n",
    "\n",
    "# Load any previous results\n",
    "try:\n",
    "    old_metrics = (\n",
    "        pd.read_csv(FILENAME, sep=\"\\t\", parse_dates = [\"month\"])\n",
    "        .set_index(\"month\")\n",
    "    )\n",
    "except FileNotFoundError:\n",
    "    old_metrics = None\n",
    "    \n",
    "def prepare_query(filename):\n",
    "    return (\n",
    "        Path(filename)\n",
    "        .read_text()\n",
    "        .format(**date_params)\n",
    "    )"
   ]
  },
  {
   "cell_type": "markdown",
   "metadata": {},
   "source": [
    "# MariaDB and Hive query metrics\n"
   ]
  },
  {
   "cell_type": "code",
   "execution_count": 5,
   "metadata": {},
   "outputs": [],
   "source": [
    "# Code to Suppress PySpark Warning messages\n",
    "from warnings import filterwarnings\n",
    "filterwarnings(\"ignore\")"
   ]
  },
  {
   "cell_type": "code",
   "execution_count": 7,
   "metadata": {},
   "outputs": [
    {
     "name": "stderr",
     "output_type": "stream",
     "text": [
      "Running pageviews on hive...\n",
      "PySpark executors will use /usr/lib/anaconda-wmf/bin/python3.\n"
     ]
    },
    {
     "name": "stdout",
     "output_type": "stream",
     "text": [
      "PYSPARK_PYTHON=/usr/lib/anaconda-wmf/bin/python3\n"
     ]
    },
    {
     "name": "stderr",
     "output_type": "stream",
     "text": [
      "SLF4J: Class path contains multiple SLF4J bindings.\n",
      "SLF4J: Found binding in [jar:file:/usr/lib/spark2/jars/slf4j-log4j12-1.7.16.jar!/org/slf4j/impl/StaticLoggerBinder.class]\n",
      "SLF4J: Found binding in [jar:file:/usr/lib/hadoop/lib/slf4j-reload4j-1.7.36.jar!/org/slf4j/impl/StaticLoggerBinder.class]\n",
      "SLF4J: See http://www.slf4j.org/codes.html#multiple_bindings for an explanation.\n",
      "SLF4J: Actual binding is of type [org.slf4j.impl.Log4jLoggerFactory]\n",
      "Setting default log level to \"WARN\".\n",
      "To adjust logging level use sc.setLogLevel(newLevel). For SparkR, use setLogLevel(newLevel).\n",
      "23/01/11 18:47:49 WARN SparkConf: Note that spark.local.dir will be overridden by the value set by the cluster manager (via SPARK_LOCAL_DIRS in mesos/standalone/kubernetes and LOCAL_DIRS in YARN).\n",
      "23/01/11 18:47:49 WARN Utils: Service 'sparkDriver' could not bind on port 12000. Attempting port 12001.\n",
      "23/01/11 18:47:49 WARN Utils: Service 'sparkDriver' could not bind on port 12001. Attempting port 12002.\n",
      "23/01/11 18:47:50 WARN Utils: Service 'SparkUI' could not bind on port 4040. Attempting port 4041.\n",
      "23/01/11 18:47:50 WARN Utils: Service 'SparkUI' could not bind on port 4041. Attempting port 4042.\n",
      "23/01/11 18:48:03 WARN Utils: Service 'org.apache.spark.network.netty.NettyBlockTransferService' could not bind on port 13000. Attempting port 13001.\n",
      "23/01/11 18:48:03 WARN Utils: Service 'org.apache.spark.network.netty.NettyBlockTransferService' could not bind on port 13001. Attempting port 13002.\n",
      "Running automated_pageviews on hive...                                          \n",
      "PySpark executors will use /usr/lib/anaconda-wmf/bin/python3.\n",
      "Running page_previews on hive...                                                \n",
      "PySpark executors will use /usr/lib/anaconda-wmf/bin/python3.\n",
      "Running unique_devices on hive...                                               \n",
      "PySpark executors will use /usr/lib/anaconda-wmf/bin/python3.\n"
     ]
    }
   ],
   "source": [
    "queries = {\n",
    "    \"pageviews\": {\n",
    "        \"file\": \"queries/pageviews.hql\",\n",
    "        \"engine\": \"hive\"\n",
    "    },\n",
    "    \n",
    "    \"automated_pageviews\": {\n",
    "        \"file\": \"queries/automated_pageviews.hql\",\n",
    "        \"engine\": \"hive\"\n",
    "    },\n",
    "    \"page_previews\": {\n",
    "        \"file\": \"queries/page_previews.hql\",\n",
    "        \"engine\": \"hive\"\n",
    "    },\n",
    "    \"unique_devices\": {\n",
    "        \"file\": \"queries/unique_devices.hql\",\n",
    "        \"engine\": \"hive\"\n",
    "    }\n",
    "\n",
    "\n",
    "# Removing since global south metrics are calculated in notebook 02b-diversity-calculation.ipynb\n",
    "   # ,\n",
    "   # \"global_south_pageviews\": {\n",
    "   #     \"file\": \"queries/global_south_pageviews.hql\",\n",
    "   #     \"engine\": \"hive\"\n",
    "   # },\n",
    "    \n",
    "   # \"global_south_previews\": {\n",
    "   #     \"file\": \"queries/global_south_previews.hql\",\n",
    "   #     \"engine\": \"hive\"\n",
    "   # }\n",
    "    \n",
    "# Removing since mobile-heavy metrics are no longer tracked/reported on in the key product metrics presentations\n",
    "    #\"mobile-heavy_pageviews\": {\n",
    "    #    \"file\": \"queries/mobile_heavy_pageviews.hql\",\n",
    "    #    \"engine\": \"hive\" }, \n",
    "    #\"mobile-heavy_previews\": {\n",
    "    #   \"file\": \"queries/mobile_heavy_previews.hql\",\n",
    "    #   \"engine\": \"hive\" }\n",
    "    \n",
    "       \n",
    "}\n",
    "\n",
    "\n",
    "for key, val in queries.items():\n",
    "    query = prepare_query(val[\"file\"])\n",
    "    engine = val[\"engine\"]\n",
    "    print_err(\"Running {} on {}...\".format(key, engine))\n",
    "    \n",
    "    if engine == \"mariadb\":\n",
    "        result = mariadb.run(query)\n",
    "    elif engine == \"hive\":\n",
    "        result = spark.run(query)\n",
    "    else:\n",
    "        raise ValueError(\"Unknown engine specified.\") \n",
    "    \n",
    "    result = result.assign(month=lambda df: pd.to_datetime(df[\"month\"]))\n",
    "    val[\"result\"] = result"
   ]
  },
  {
   "cell_type": "markdown",
   "metadata": {},
   "source": [
    "# Combining and saving metrics"
   ]
  },
  {
   "cell_type": "code",
   "execution_count": 8,
   "metadata": {},
   "outputs": [],
   "source": [
    "# Assemble list of result dataframes\n",
    "results = [val[\"result\"] for _, val in queries.items()]\n",
    "\n",
    "# Merge them all, assuming that the month is the only common column\n",
    "new_metrics = reduce(lambda l, r: pd.merge(l, r, how=\"outer\"), results)\n",
    "\n",
    "# Set the month as an index so combine_first works properly\n",
    "new_metrics = new_metrics.set_index(\"month\").sort_index()\n",
    "\n",
    "# Add Metrics for Interactions\n",
    "new_metrics['interactions'] = new_metrics.apply(lambda x: x['previews_seen'] + x['total_pageview'], axis=1)\n"
   ]
  },
  {
   "cell_type": "code",
   "execution_count": 9,
   "metadata": {},
   "outputs": [
    {
     "data": {
      "text/html": [
       "<div>\n",
       "<style scoped>\n",
       "    .dataframe tbody tr th:only-of-type {\n",
       "        vertical-align: middle;\n",
       "    }\n",
       "\n",
       "    .dataframe tbody tr th {\n",
       "        vertical-align: top;\n",
       "    }\n",
       "\n",
       "    .dataframe thead th {\n",
       "        text-align: right;\n",
       "    }\n",
       "</style>\n",
       "<table border=\"1\" class=\"dataframe\">\n",
       "  <thead>\n",
       "    <tr style=\"text-align: right;\">\n",
       "      <th></th>\n",
       "      <th>automated_pageviews</th>\n",
       "      <th>desktop</th>\n",
       "      <th>interactions</th>\n",
       "      <th>mobileweb</th>\n",
       "      <th>previews_seen</th>\n",
       "      <th>total_pageview</th>\n",
       "      <th>unique_devices</th>\n",
       "    </tr>\n",
       "    <tr>\n",
       "      <th>month</th>\n",
       "      <th></th>\n",
       "      <th></th>\n",
       "      <th></th>\n",
       "      <th></th>\n",
       "      <th></th>\n",
       "      <th></th>\n",
       "      <th></th>\n",
       "    </tr>\n",
       "  </thead>\n",
       "  <tbody>\n",
       "    <tr>\n",
       "      <th>2022-03-01</th>\n",
       "      <td>1.000023e+09</td>\n",
       "      <td>6.820776e+09</td>\n",
       "      <td>1.895002e+10</td>\n",
       "      <td>9.870969e+09</td>\n",
       "      <td>1.967056e+09</td>\n",
       "      <td>1.698296e+10</td>\n",
       "      <td>1.957130e+09</td>\n",
       "    </tr>\n",
       "    <tr>\n",
       "      <th>2022-04-01</th>\n",
       "      <td>1.257069e+09</td>\n",
       "      <td>6.517583e+09</td>\n",
       "      <td>1.793078e+10</td>\n",
       "      <td>9.357140e+09</td>\n",
       "      <td>1.773847e+09</td>\n",
       "      <td>1.615693e+10</td>\n",
       "      <td>1.878851e+09</td>\n",
       "    </tr>\n",
       "    <tr>\n",
       "      <th>2022-05-01</th>\n",
       "      <td>1.491689e+09</td>\n",
       "      <td>6.701587e+09</td>\n",
       "      <td>1.817494e+10</td>\n",
       "      <td>9.402734e+09</td>\n",
       "      <td>1.788005e+09</td>\n",
       "      <td>1.638694e+10</td>\n",
       "      <td>1.948874e+09</td>\n",
       "    </tr>\n",
       "    <tr>\n",
       "      <th>2022-06-01</th>\n",
       "      <td>1.522579e+09</td>\n",
       "      <td>6.287650e+09</td>\n",
       "      <td>1.710496e+10</td>\n",
       "      <td>8.918872e+09</td>\n",
       "      <td>1.626138e+09</td>\n",
       "      <td>1.547882e+10</td>\n",
       "      <td>2.056714e+09</td>\n",
       "    </tr>\n",
       "    <tr>\n",
       "      <th>2022-07-01</th>\n",
       "      <td>2.056918e+09</td>\n",
       "      <td>6.107902e+09</td>\n",
       "      <td>1.785794e+10</td>\n",
       "      <td>9.885962e+09</td>\n",
       "      <td>1.575666e+09</td>\n",
       "      <td>1.628227e+10</td>\n",
       "      <td>1.648975e+09</td>\n",
       "    </tr>\n",
       "    <tr>\n",
       "      <th>2022-08-01</th>\n",
       "      <td>2.403517e+09</td>\n",
       "      <td>6.176972e+09</td>\n",
       "      <td>1.889936e+10</td>\n",
       "      <td>1.079527e+10</td>\n",
       "      <td>1.634856e+09</td>\n",
       "      <td>1.726451e+10</td>\n",
       "      <td>1.665646e+09</td>\n",
       "    </tr>\n",
       "    <tr>\n",
       "      <th>2022-09-01</th>\n",
       "      <td>2.705377e+09</td>\n",
       "      <td>6.129059e+09</td>\n",
       "      <td>1.986889e+10</td>\n",
       "      <td>1.175190e+10</td>\n",
       "      <td>1.706285e+09</td>\n",
       "      <td>1.816260e+10</td>\n",
       "      <td>1.554616e+09</td>\n",
       "    </tr>\n",
       "    <tr>\n",
       "      <th>2022-10-01</th>\n",
       "      <td>2.722851e+09</td>\n",
       "      <td>6.677566e+09</td>\n",
       "      <td>2.049623e+10</td>\n",
       "      <td>1.178869e+10</td>\n",
       "      <td>1.740051e+09</td>\n",
       "      <td>1.875618e+10</td>\n",
       "      <td>1.683358e+09</td>\n",
       "    </tr>\n",
       "    <tr>\n",
       "      <th>2022-11-01</th>\n",
       "      <td>3.125762e+09</td>\n",
       "      <td>6.639885e+09</td>\n",
       "      <td>2.103694e+10</td>\n",
       "      <td>1.239146e+10</td>\n",
       "      <td>1.725951e+09</td>\n",
       "      <td>1.931098e+10</td>\n",
       "      <td>1.602483e+09</td>\n",
       "    </tr>\n",
       "    <tr>\n",
       "      <th>2022-12-01</th>\n",
       "      <td>1.514616e+09</td>\n",
       "      <td>6.245363e+09</td>\n",
       "      <td>1.853431e+10</td>\n",
       "      <td>1.033699e+10</td>\n",
       "      <td>1.645032e+09</td>\n",
       "      <td>1.688927e+10</td>\n",
       "      <td>1.580337e+09</td>\n",
       "    </tr>\n",
       "  </tbody>\n",
       "</table>\n",
       "</div>"
      ],
      "text/plain": [
       "            automated_pageviews       desktop  interactions     mobileweb  \\\n",
       "month                                                                       \n",
       "2022-03-01  1.000023e+09         6.820776e+09  1.895002e+10  9.870969e+09   \n",
       "2022-04-01  1.257069e+09         6.517583e+09  1.793078e+10  9.357140e+09   \n",
       "2022-05-01  1.491689e+09         6.701587e+09  1.817494e+10  9.402734e+09   \n",
       "2022-06-01  1.522579e+09         6.287650e+09  1.710496e+10  8.918872e+09   \n",
       "2022-07-01  2.056918e+09         6.107902e+09  1.785794e+10  9.885962e+09   \n",
       "2022-08-01  2.403517e+09         6.176972e+09  1.889936e+10  1.079527e+10   \n",
       "2022-09-01  2.705377e+09         6.129059e+09  1.986889e+10  1.175190e+10   \n",
       "2022-10-01  2.722851e+09         6.677566e+09  2.049623e+10  1.178869e+10   \n",
       "2022-11-01  3.125762e+09         6.639885e+09  2.103694e+10  1.239146e+10   \n",
       "2022-12-01  1.514616e+09         6.245363e+09  1.853431e+10  1.033699e+10   \n",
       "\n",
       "            previews_seen  total_pageview  unique_devices  \n",
       "month                                                      \n",
       "2022-03-01  1.967056e+09   1.698296e+10    1.957130e+09    \n",
       "2022-04-01  1.773847e+09   1.615693e+10    1.878851e+09    \n",
       "2022-05-01  1.788005e+09   1.638694e+10    1.948874e+09    \n",
       "2022-06-01  1.626138e+09   1.547882e+10    2.056714e+09    \n",
       "2022-07-01  1.575666e+09   1.628227e+10    1.648975e+09    \n",
       "2022-08-01  1.634856e+09   1.726451e+10    1.665646e+09    \n",
       "2022-09-01  1.706285e+09   1.816260e+10    1.554616e+09    \n",
       "2022-10-01  1.740051e+09   1.875618e+10    1.683358e+09    \n",
       "2022-11-01  1.725951e+09   1.931098e+10    1.602483e+09    \n",
       "2022-12-01  1.645032e+09   1.688927e+10    1.580337e+09    "
      ]
     },
     "metadata": {},
     "output_type": "display_data"
    }
   ],
   "source": [
    "if old_metrics is None:\n",
    "    metrics = new_metrics\n",
    "else:\n",
    "    metrics = new_metrics.combine_first(old_metrics)\n",
    "    \n",
    "pd_display_all(metrics.tail(10))"
   ]
  },
  {
   "cell_type": "code",
   "execution_count": 10,
   "metadata": {},
   "outputs": [],
   "source": [
    "metrics.to_csv(FILENAME, sep=\"\\t\")"
   ]
  },
  {
   "cell_type": "code",
   "execution_count": null,
   "metadata": {},
   "outputs": [],
   "source": []
  },
  {
   "cell_type": "code",
   "execution_count": null,
   "metadata": {},
   "outputs": [],
   "source": []
  }
 ],
 "metadata": {
  "kernelspec": {
   "display_name": "Python 3 (ipykernel)",
   "language": "python",
   "name": "python3"
  },
  "language_info": {
   "codemirror_mode": {
    "name": "ipython",
    "version": 3
   },
   "file_extension": ".py",
   "mimetype": "text/x-python",
   "name": "python",
   "nbconvert_exporter": "python",
   "pygments_lexer": "ipython3",
   "version": "3.7.13"
  }
 },
 "nbformat": 4,
 "nbformat_minor": 4
}

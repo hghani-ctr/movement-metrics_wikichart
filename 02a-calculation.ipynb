{
 "cells": [
  {
   "cell_type": "markdown",
   "metadata": {},
   "source": [
    "# Import"
   ]
  },
  {
   "cell_type": "code",
   "execution_count": 1,
   "metadata": {},
   "outputs": [],
   "source": [
    "from functools import reduce\n",
    "from pathlib import Path\n",
    "import time\n",
    "import datetime\n",
    "\n",
    "import pandas as pd\n",
    "import requests\n",
    "from wmfdata import hive, spark\n",
    "from wmfdata.utils import print_err, pd_display_all\n",
    "\n",
    "import warnings\n",
    "warnings.filterwarnings('ignore')\n"
   ]
  },
  {
   "cell_type": "markdown",
   "metadata": {},
   "source": [
    "# Parameters"
   ]
  },
  {
   "cell_type": "code",
   "execution_count": 2,
   "metadata": {},
   "outputs": [],
   "source": [
    "# TSV file where metrics are or will be saved\n",
    "FILENAME = \"metrics/metrics.tsv\"\n",
    "\n",
    "# Metric month. The mediawiki_history snapshot must be from the metrics month or later.\n",
    "last_month = datetime.date.today().replace(day=1) - datetime.timedelta(days=1)\n",
    "\n",
    "METRICS_MONTH_TEXT = last_month.strftime(\"%Y-%m\")\n",
    "MEDIAWIKI_HISTORY_SNAPSHOT = last_month.strftime(\"%Y-%m\")\n",
    "\n"
   ]
  },
  {
   "cell_type": "code",
   "execution_count": 3,
   "metadata": {},
   "outputs": [
    {
     "data": {
      "text/plain": [
       "datetime.date(2023, 6, 30)"
      ]
     },
     "execution_count": 3,
     "metadata": {},
     "output_type": "execute_result"
    }
   ],
   "source": [
    "datetime.date.today().replace(day=1) - datetime.timedelta(days=1)"
   ]
  },
  {
   "cell_type": "markdown",
   "metadata": {},
   "source": [
    "# Preparation"
   ]
  },
  {
   "cell_type": "code",
   "execution_count": 4,
   "metadata": {},
   "outputs": [],
   "source": [
    "# Convert our metrics month to all the formats we need and provide them in a dict\n",
    "# so we can easily use them to format strings\n",
    "metrics_month = METRICS_MONTH_TEXT\n",
    "date_params = {\n",
    "    \"mediawiki_history_snapshot\": MEDIAWIKI_HISTORY_SNAPSHOT,\n",
    "    \"metrics_month\": str(metrics_month),\n",
    "    #\"metrics_prev_month\": str(metrics_month - 1),\n",
    "    #\"metrics_month_start\": str(metrics_month.start_time), \n",
    "    \"metrics_month_first_day\": str((datetime.date.today()- datetime.timedelta(days=31)).replace(day=1)),\n",
    "    #\"metrics_month_end\": str(last_month),\n",
    "    \"metrics_month_last_day\": str(last_month),\n",
    "    \"metrics_year\": last_month.year,\n",
    "    \"metrics_cur_month\" : last_month.month\n",
    "}\n",
    "\n",
    "# Load any previous results\n",
    "try:\n",
    "    old_metrics = (\n",
    "        pd.read_csv(FILENAME, sep=\"\\t\", parse_dates = [\"month\"])\n",
    "        .set_index(\"month\")\n",
    "    )\n",
    "except FileNotFoundError:\n",
    "    old_metrics = None\n",
    "    \n",
    "def prepare_query(filename):\n",
    "    return (\n",
    "        Path(filename)\n",
    "        .read_text()\n",
    "        .format(**date_params)\n",
    "    )"
   ]
  },
  {
   "cell_type": "code",
   "execution_count": 5,
   "metadata": {},
   "outputs": [
    {
     "data": {
      "text/plain": [
       "{'mediawiki_history_snapshot': '2023-06',\n",
       " 'metrics_month': '2023-06',\n",
       " 'metrics_month_first_day': '2023-06-01',\n",
       " 'metrics_month_last_day': '2023-06-30',\n",
       " 'metrics_year': 2023,\n",
       " 'metrics_cur_month': 6}"
      ]
     },
     "execution_count": 5,
     "metadata": {},
     "output_type": "execute_result"
    }
   ],
   "source": [
    "date_params"
   ]
  },
  {
   "cell_type": "markdown",
   "metadata": {},
   "source": [
    "# MariaDB and Hive query metrics\n"
   ]
  },
  {
   "cell_type": "code",
   "execution_count": 6,
   "metadata": {},
   "outputs": [],
   "source": [
    "# Code to Suppress PySpark Warning messages\n",
    "from warnings import filterwarnings\n",
    "filterwarnings(\"ignore\")"
   ]
  },
  {
   "cell_type": "code",
   "execution_count": 7,
   "metadata": {},
   "outputs": [
    {
     "name": "stdout",
     "output_type": "stream",
     "text": [
      "\n",
      "SPARK_HOME: /usr/lib/spark3\n",
      "Using Hadoop client lib jars at 3.2.0, provided by Spark.\n",
      "PYSPARK_PYTHON=/opt/conda-analytics/bin/python3\n"
     ]
    },
    {
     "name": "stderr",
     "output_type": "stream",
     "text": [
      "Running pageviews on hive...\n",
      "Setting default log level to \"WARN\".\n",
      "To adjust logging level use sc.setLogLevel(newLevel). For SparkR, use setLogLevel(newLevel).\n",
      "23/07/07 22:27:06 WARN SparkConf: Note that spark.local.dir will be overridden by the value set by the cluster manager (via SPARK_LOCAL_DIRS in mesos/standalone/kubernetes and LOCAL_DIRS in YARN).\n",
      "23/07/07 22:27:06 WARN Utils: Service 'sparkDriver' could not bind on port 12000. Attempting port 12001.\n",
      "23/07/07 22:27:06 WARN Utils: Service 'sparkDriver' could not bind on port 12001. Attempting port 12002.\n",
      "23/07/07 22:27:06 WARN Utils: Service 'sparkDriver' could not bind on port 12002. Attempting port 12003.\n",
      "23/07/07 22:27:07 WARN Utils: Service 'SparkUI' could not bind on port 4040. Attempting port 4041.\n",
      "23/07/07 22:27:07 WARN Utils: Service 'SparkUI' could not bind on port 4041. Attempting port 4042.\n",
      "23/07/07 22:27:07 WARN Utils: Service 'SparkUI' could not bind on port 4042. Attempting port 4043.\n",
      "23/07/07 22:27:09 WARN Client: Exception encountered while connecting to the server : org.apache.hadoop.ipc.RemoteException(org.apache.hadoop.ipc.StandbyException): Operation category READ is not supported in state standby. Visit https://s.apache.org/sbnn-error\n",
      "23/07/07 22:27:09 WARN Client: Exception encountered while connecting to the server : org.apache.hadoop.ipc.RemoteException(org.apache.hadoop.ipc.StandbyException): Operation category READ is not supported in state standby. Visit https://s.apache.org/sbnn-error\n",
      "23/07/07 22:27:10 WARN Client: Exception encountered while connecting to the server : org.apache.hadoop.ipc.RemoteException(org.apache.hadoop.ipc.StandbyException): Operation category READ is not supported in state standby. Visit https://s.apache.org/sbnn-error\n",
      "23/07/07 22:27:15 WARN Utils: Service 'org.apache.spark.network.netty.NettyBlockTransferService' could not bind on port 13000. Attempting port 13001.\n",
      "23/07/07 22:27:15 WARN Utils: Service 'org.apache.spark.network.netty.NettyBlockTransferService' could not bind on port 13001. Attempting port 13002.\n",
      "23/07/07 22:27:15 WARN Utils: Service 'org.apache.spark.network.netty.NettyBlockTransferService' could not bind on port 13002. Attempting port 13003.\n",
      "23/07/07 22:27:16 WARN YarnSchedulerBackend$YarnSchedulerEndpoint: Attempted to request executors before the AM has registered!\n",
      "23/07/07 22:27:20 WARN SessionState: METASTORE_FILTER_HOOK will be ignored, since hive.security.authorization.manager is set to instance of HiveAuthorizerFactory.\n",
      "Running automated_pageviews on hive...                                          \n"
     ]
    },
    {
     "name": "stdout",
     "output_type": "stream",
     "text": [
      "\n"
     ]
    },
    {
     "name": "stderr",
     "output_type": "stream",
     "text": [
      "Running page_previews on hive...                                                \n"
     ]
    },
    {
     "name": "stdout",
     "output_type": "stream",
     "text": [
      "\n"
     ]
    },
    {
     "name": "stderr",
     "output_type": "stream",
     "text": [
      "Running unique_devices on hive...                                               \n"
     ]
    },
    {
     "name": "stdout",
     "output_type": "stream",
     "text": [
      "\n"
     ]
    }
   ],
   "source": [
    "queries = {\n",
    "    \"pageviews\": {\n",
    "        \"file\": \"queries/pageviews.hql\",\n",
    "        \"engine\": \"hive\"\n",
    "    },\n",
    "    \n",
    "    \"automated_pageviews\": {\n",
    "        \"file\": \"queries/automated_pageviews.hql\",\n",
    "        \"engine\": \"hive\"\n",
    "    },\n",
    "    \"page_previews\": {\n",
    "        \"file\": \"queries/page_previews.hql\",\n",
    "        \"engine\": \"hive\"\n",
    "    },\n",
    "    \"unique_devices\": {\n",
    "        \"file\": \"queries/unique_devices.hql\",\n",
    "        \"engine\": \"hive\"\n",
    "    }\n",
    "\n",
    "\n",
    "# Removing since global south metrics are calculated in notebook 02b-diversity-calculation.ipynb\n",
    "   # ,\n",
    "   # \"global_south_pageviews\": {\n",
    "   #     \"file\": \"queries/global_south_pageviews.hql\",\n",
    "   #     \"engine\": \"hive\"\n",
    "   # },\n",
    "    \n",
    "   # \"global_south_previews\": {\n",
    "   #     \"file\": \"queries/global_south_previews.hql\",\n",
    "   #     \"engine\": \"hive\"\n",
    "   # }\n",
    "    \n",
    "# Removing since mobile-heavy metrics are no longer tracked/reported on in the key product metrics presentations\n",
    "    #\"mobile-heavy_pageviews\": {\n",
    "    #    \"file\": \"queries/mobile_heavy_pageviews.hql\",\n",
    "    #    \"engine\": \"hive\" }, \n",
    "    #\"mobile-heavy_previews\": {\n",
    "    #   \"file\": \"queries/mobile_heavy_previews.hql\",\n",
    "    #   \"engine\": \"hive\" }\n",
    "    \n",
    "       \n",
    "}\n",
    "\n",
    "\n",
    "for key, val in queries.items():\n",
    "    query = prepare_query(val[\"file\"])\n",
    "    engine = val[\"engine\"]\n",
    "    print_err(\"Running {} on {}...\".format(key, engine))\n",
    "    \n",
    "    if engine == \"mariadb\":\n",
    "        result = mariadb.run(query)\n",
    "    elif engine == \"hive\":\n",
    "        result = spark.run(query)\n",
    "    else:\n",
    "        raise ValueError(\"Unknown engine specified.\") \n",
    "    \n",
    "    result = result.assign(month=lambda df: pd.to_datetime(df[\"month\"]))\n",
    "    val[\"result\"] = result"
   ]
  },
  {
   "cell_type": "markdown",
   "metadata": {},
   "source": [
    "# Combining and saving metrics"
   ]
  },
  {
   "cell_type": "code",
   "execution_count": 8,
   "metadata": {},
   "outputs": [],
   "source": [
    "# Assemble list of result dataframes\n",
    "results = [val[\"result\"] for _, val in queries.items()]\n",
    "\n",
    "# Merge them all, assuming that the month is the only common column\n",
    "new_metrics = reduce(lambda l, r: pd.merge(l, r, how=\"outer\"), results)\n",
    "\n",
    "# Set the month as an index so combine_first works properly\n",
    "new_metrics = new_metrics.set_index(\"month\").sort_index()\n",
    "\n",
    "# Add Metrics for Interactions\n",
    "new_metrics['interactions'] = new_metrics.apply(lambda x: x['previews_seen'] + x['total_pageview'], axis=1)\n"
   ]
  },
  {
   "cell_type": "code",
   "execution_count": 9,
   "metadata": {},
   "outputs": [
    {
     "data": {
      "text/html": [
       "<div>\n",
       "<style scoped>\n",
       "    .dataframe tbody tr th:only-of-type {\n",
       "        vertical-align: middle;\n",
       "    }\n",
       "\n",
       "    .dataframe tbody tr th {\n",
       "        vertical-align: top;\n",
       "    }\n",
       "\n",
       "    .dataframe thead th {\n",
       "        text-align: right;\n",
       "    }\n",
       "</style>\n",
       "<table border=\"1\" class=\"dataframe\">\n",
       "  <thead>\n",
       "    <tr style=\"text-align: right;\">\n",
       "      <th></th>\n",
       "      <th>automated_pageviews</th>\n",
       "      <th>desktop</th>\n",
       "      <th>interactions</th>\n",
       "      <th>mobileweb</th>\n",
       "      <th>previews_seen</th>\n",
       "      <th>total_pageview</th>\n",
       "      <th>unique_devices</th>\n",
       "    </tr>\n",
       "    <tr>\n",
       "      <th>month</th>\n",
       "      <th></th>\n",
       "      <th></th>\n",
       "      <th></th>\n",
       "      <th></th>\n",
       "      <th></th>\n",
       "      <th></th>\n",
       "      <th></th>\n",
       "    </tr>\n",
       "  </thead>\n",
       "  <tbody>\n",
       "    <tr>\n",
       "      <th>2022-09-01</th>\n",
       "      <td>2.705377e+09</td>\n",
       "      <td>6.129059e+09</td>\n",
       "      <td>1.986889e+10</td>\n",
       "      <td>1.175190e+10</td>\n",
       "      <td>1.706285e+09</td>\n",
       "      <td>1.816260e+10</td>\n",
       "      <td>1.554616e+09</td>\n",
       "    </tr>\n",
       "    <tr>\n",
       "      <th>2022-10-01</th>\n",
       "      <td>2.722851e+09</td>\n",
       "      <td>6.677566e+09</td>\n",
       "      <td>2.049623e+10</td>\n",
       "      <td>1.178869e+10</td>\n",
       "      <td>1.740051e+09</td>\n",
       "      <td>1.875618e+10</td>\n",
       "      <td>1.683358e+09</td>\n",
       "    </tr>\n",
       "    <tr>\n",
       "      <th>2022-11-01</th>\n",
       "      <td>3.125762e+09</td>\n",
       "      <td>6.639885e+09</td>\n",
       "      <td>2.103694e+10</td>\n",
       "      <td>1.239146e+10</td>\n",
       "      <td>1.725951e+09</td>\n",
       "      <td>1.931098e+10</td>\n",
       "      <td>1.602483e+09</td>\n",
       "    </tr>\n",
       "    <tr>\n",
       "      <th>2022-12-01</th>\n",
       "      <td>1.514616e+09</td>\n",
       "      <td>6.245363e+09</td>\n",
       "      <td>1.853431e+10</td>\n",
       "      <td>1.033699e+10</td>\n",
       "      <td>1.645032e+09</td>\n",
       "      <td>1.688927e+10</td>\n",
       "      <td>1.580337e+09</td>\n",
       "    </tr>\n",
       "    <tr>\n",
       "      <th>2023-01-01</th>\n",
       "      <td>2.058892e+09</td>\n",
       "      <td>6.655879e+09</td>\n",
       "      <td>2.052910e+10</td>\n",
       "      <td>1.169615e+10</td>\n",
       "      <td>1.853753e+09</td>\n",
       "      <td>1.867535e+10</td>\n",
       "      <td>1.623196e+09</td>\n",
       "    </tr>\n",
       "    <tr>\n",
       "      <th>2023-02-01</th>\n",
       "      <td>2.484894e+09</td>\n",
       "      <td>5.809895e+09</td>\n",
       "      <td>1.896141e+10</td>\n",
       "      <td>1.123269e+10</td>\n",
       "      <td>1.643540e+09</td>\n",
       "      <td>1.731786e+10</td>\n",
       "      <td>1.556624e+09</td>\n",
       "    </tr>\n",
       "    <tr>\n",
       "      <th>2023-03-01</th>\n",
       "      <td>2.851128e+09</td>\n",
       "      <td>6.554146e+09</td>\n",
       "      <td>2.110827e+10</td>\n",
       "      <td>1.244635e+10</td>\n",
       "      <td>1.808851e+09</td>\n",
       "      <td>1.929942e+10</td>\n",
       "      <td>1.666366e+09</td>\n",
       "    </tr>\n",
       "    <tr>\n",
       "      <th>2023-04-01</th>\n",
       "      <td>1.835848e+09</td>\n",
       "      <td>5.903055e+09</td>\n",
       "      <td>1.857836e+10</td>\n",
       "      <td>1.074450e+10</td>\n",
       "      <td>1.635800e+09</td>\n",
       "      <td>1.694256e+10</td>\n",
       "      <td>1.653133e+09</td>\n",
       "    </tr>\n",
       "    <tr>\n",
       "      <th>2023-05-01</th>\n",
       "      <td>2.788857e+09</td>\n",
       "      <td>6.136982e+09</td>\n",
       "      <td>2.086826e+10</td>\n",
       "      <td>1.269368e+10</td>\n",
       "      <td>1.738922e+09</td>\n",
       "      <td>1.912934e+10</td>\n",
       "      <td>1.596438e+09</td>\n",
       "    </tr>\n",
       "    <tr>\n",
       "      <th>2023-06-01</th>\n",
       "      <td>2.535726e+09</td>\n",
       "      <td>5.642809e+09</td>\n",
       "      <td>1.956977e+10</td>\n",
       "      <td>1.209329e+10</td>\n",
       "      <td>1.548887e+09</td>\n",
       "      <td>1.802088e+10</td>\n",
       "      <td>1.522910e+09</td>\n",
       "    </tr>\n",
       "  </tbody>\n",
       "</table>\n",
       "</div>"
      ],
      "text/plain": [
       "            automated_pageviews       desktop  interactions     mobileweb  \\\n",
       "month                                                                       \n",
       "2022-09-01  2.705377e+09         6.129059e+09  1.986889e+10  1.175190e+10   \n",
       "2022-10-01  2.722851e+09         6.677566e+09  2.049623e+10  1.178869e+10   \n",
       "2022-11-01  3.125762e+09         6.639885e+09  2.103694e+10  1.239146e+10   \n",
       "2022-12-01  1.514616e+09         6.245363e+09  1.853431e+10  1.033699e+10   \n",
       "2023-01-01  2.058892e+09         6.655879e+09  2.052910e+10  1.169615e+10   \n",
       "2023-02-01  2.484894e+09         5.809895e+09  1.896141e+10  1.123269e+10   \n",
       "2023-03-01  2.851128e+09         6.554146e+09  2.110827e+10  1.244635e+10   \n",
       "2023-04-01  1.835848e+09         5.903055e+09  1.857836e+10  1.074450e+10   \n",
       "2023-05-01  2.788857e+09         6.136982e+09  2.086826e+10  1.269368e+10   \n",
       "2023-06-01  2.535726e+09         5.642809e+09  1.956977e+10  1.209329e+10   \n",
       "\n",
       "            previews_seen  total_pageview  unique_devices  \n",
       "month                                                      \n",
       "2022-09-01  1.706285e+09   1.816260e+10    1.554616e+09    \n",
       "2022-10-01  1.740051e+09   1.875618e+10    1.683358e+09    \n",
       "2022-11-01  1.725951e+09   1.931098e+10    1.602483e+09    \n",
       "2022-12-01  1.645032e+09   1.688927e+10    1.580337e+09    \n",
       "2023-01-01  1.853753e+09   1.867535e+10    1.623196e+09    \n",
       "2023-02-01  1.643540e+09   1.731786e+10    1.556624e+09    \n",
       "2023-03-01  1.808851e+09   1.929942e+10    1.666366e+09    \n",
       "2023-04-01  1.635800e+09   1.694256e+10    1.653133e+09    \n",
       "2023-05-01  1.738922e+09   1.912934e+10    1.596438e+09    \n",
       "2023-06-01  1.548887e+09   1.802088e+10    1.522910e+09    "
      ]
     },
     "metadata": {},
     "output_type": "display_data"
    }
   ],
   "source": [
    "if old_metrics is None:\n",
    "    metrics = new_metrics\n",
    "else:\n",
    "    metrics = new_metrics.combine_first(old_metrics)\n",
    "    \n",
    "pd_display_all(metrics.tail(10))"
   ]
  },
  {
   "cell_type": "code",
   "execution_count": 10,
   "metadata": {},
   "outputs": [],
   "source": [
    "metrics.to_csv(FILENAME, sep=\"\\t\")"
   ]
  },
  {
   "cell_type": "code",
   "execution_count": null,
   "metadata": {},
   "outputs": [],
   "source": []
  },
  {
   "cell_type": "code",
   "execution_count": null,
   "metadata": {},
   "outputs": [],
   "source": []
  }
 ],
 "metadata": {
  "kernelspec": {
   "display_name": "Python 3 (ipykernel)",
   "language": "python",
   "name": "python3"
  },
  "language_info": {
   "codemirror_mode": {
    "name": "ipython",
    "version": 3
   },
   "file_extension": ".py",
   "mimetype": "text/x-python",
   "name": "python",
   "nbconvert_exporter": "python",
   "pygments_lexer": "ipython3",
   "version": "3.10.8"
  }
 },
 "nbformat": 4,
 "nbformat_minor": 4
}

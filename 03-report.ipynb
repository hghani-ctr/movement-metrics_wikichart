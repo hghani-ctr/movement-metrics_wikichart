{
 "cells": [
  {
   "cell_type": "code",
   "execution_count": 1,
   "metadata": {},
   "outputs": [
    {
     "name": "stderr",
     "output_type": "stream",
     "text": [
      "You are using wmfdata v1.4.0, but v2.0.0 is available.\n",
      "\n",
      "To update, run `pip install --upgrade git+https://github.com/wikimedia/wmfdata-python.git@release --ignore-installed`.\n",
      "\n",
      "To see the changes, refer to https://github.com/wikimedia/wmfdata-python/blob/release/CHANGELOG.md\n"
     ]
    }
   ],
   "source": [
    "from functools import reduce\n",
    "\n",
    "from cycler import cycler\n",
    "from dateutil.relativedelta import relativedelta\n",
    "import matplotlib.pyplot as plt\n",
    "from numbers import Number\n",
    "import numpy as np\n",
    "import pandas as pd\n",
    "#from scipy import stats as sstats\n",
    "import wmfdata as wmf\n",
    "from wmfdata.utils import pct_str, sig_figs\n",
    "from wmfdata.charting import pct_fmt, M_fmt, comma_fmt\n",
    "\n",
    "import gspread\n",
    "from google.oauth2.service_account import Credentials"
   ]
  },
  {
   "cell_type": "code",
   "execution_count": 2,
   "metadata": {},
   "outputs": [],
   "source": [
    "FILE = \"metrics/metrics.tsv\"\n",
    "metrics = pd.read_csv(FILE, sep=\"\\t\", parse_dates=[\"month\"]).set_index(\"month\")"
   ]
  },
  {
   "cell_type": "code",
   "execution_count": 3,
   "metadata": {},
   "outputs": [],
   "source": [
    "FILE = \"metrics/diversity_metrics.tsv\"\n",
    "diversity_metrics = pd.read_csv(FILE, sep=\"\\t\", parse_dates=[\"month\"]).set_index(\"month\")"
   ]
  },
  {
   "cell_type": "markdown",
   "metadata": {},
   "source": [
    "# Report"
   ]
  },
  {
   "cell_type": "code",
   "execution_count": 4,
   "metadata": {},
   "outputs": [],
   "source": [
    "metrics_all = pd.concat([metrics, diversity_metrics], axis=1)\n",
    "metrics_all  = metrics_all.loc[:,~metrics_all.columns.duplicated()]"
   ]
  },
  {
   "cell_type": "code",
   "execution_count": 5,
   "metadata": {},
   "outputs": [],
   "source": [
    "report_order = [\n",
    "    'interactions', \n",
    "        'total_pageview',\n",
    "        'automated_pageviews',\n",
    "        'desktop', \n",
    "        'mobileweb',\n",
    "        'previews_seen',\n",
    "    'unique_devices',\n",
    "    # Diversity\n",
    "    'gn_interactions',\n",
    "    'gs_interactions'\n",
    "    #'Mobile-heavy wikis'\n",
    "    #'mh_interactions'\n",
    "]"
   ]
  },
  {
   "cell_type": "code",
   "execution_count": 6,
   "metadata": {},
   "outputs": [],
   "source": [
    "def fmt_num(x):\n",
    "    if isinstance(x, Number) and not pd.isnull(x):\n",
    "        x = sig_figs(x, 3)\n",
    "        \n",
    "        if x < 5:\n",
    "            return pct_str(x)\n",
    "        else:\n",
    "            return \"{:,.0f}\".format(x)\n",
    "    else:\n",
    "        return x\n",
    "\n",
    "def calc_rpt(ser):   \n",
    "    cur = ser[-1]\n",
    "    \n",
    "    try:\n",
    "        yr_prev = ser[-13]\n",
    "        yoy_change = (cur / yr_prev) - 1\n",
    "    except IndexError:\n",
    "        yoy_change = None\n",
    "    \n",
    "        \n",
    "    \n",
    "    res = [cur, yoy_change]\n",
    "    return pd.Series(\n",
    "        [fmt_num(n) for n in res],\n",
    "        index=[\"value\", \"yoy_change\"]\n",
    "    )"
   ]
  },
  {
   "cell_type": "code",
   "execution_count": 7,
   "metadata": {},
   "outputs": [
    {
     "data": {
      "text/html": [
       "<div>\n",
       "<style scoped>\n",
       "    .dataframe tbody tr th:only-of-type {\n",
       "        vertical-align: middle;\n",
       "    }\n",
       "\n",
       "    .dataframe tbody tr th {\n",
       "        vertical-align: top;\n",
       "    }\n",
       "\n",
       "    .dataframe thead th {\n",
       "        text-align: right;\n",
       "    }\n",
       "</style>\n",
       "<table border=\"1\" class=\"dataframe\">\n",
       "  <thead>\n",
       "    <tr style=\"text-align: right;\">\n",
       "      <th></th>\n",
       "      <th>value</th>\n",
       "      <th>yoy_change</th>\n",
       "    </tr>\n",
       "  </thead>\n",
       "  <tbody>\n",
       "    <tr>\n",
       "      <th>interactions</th>\n",
       "      <td>20,500,000,000</td>\n",
       "      <td>5.8%</td>\n",
       "    </tr>\n",
       "    <tr>\n",
       "      <th>total_pageview</th>\n",
       "      <td>18,700,000,000</td>\n",
       "      <td>7.7%</td>\n",
       "    </tr>\n",
       "    <tr>\n",
       "      <th>automated_pageviews</th>\n",
       "      <td>2,060,000,000</td>\n",
       "      <td>105.0%</td>\n",
       "    </tr>\n",
       "    <tr>\n",
       "      <th>desktop</th>\n",
       "      <td>6,660,000,000</td>\n",
       "      <td>-0.0%</td>\n",
       "    </tr>\n",
       "    <tr>\n",
       "      <th>mobileweb</th>\n",
       "      <td>11,700,000,000</td>\n",
       "      <td>12.8%</td>\n",
       "    </tr>\n",
       "    <tr>\n",
       "      <th>previews_seen</th>\n",
       "      <td>1,850,000,000</td>\n",
       "      <td>-10.0%</td>\n",
       "    </tr>\n",
       "    <tr>\n",
       "      <th>unique_devices</th>\n",
       "      <td>1,620,000,000</td>\n",
       "      <td>-8.6%</td>\n",
       "    </tr>\n",
       "    <tr>\n",
       "      <th>gn_interactions</th>\n",
       "      <td>15,700,000,000</td>\n",
       "      <td>3.8%</td>\n",
       "    </tr>\n",
       "    <tr>\n",
       "      <th>gs_interactions</th>\n",
       "      <td>4,790,000,000</td>\n",
       "      <td>13.0%</td>\n",
       "    </tr>\n",
       "  </tbody>\n",
       "</table>\n",
       "</div>"
      ],
      "text/plain": [
       "                              value yoy_change\n",
       "interactions         20,500,000,000       5.8%\n",
       "total_pageview       18,700,000,000       7.7%\n",
       "automated_pageviews   2,060,000,000     105.0%\n",
       "desktop               6,660,000,000      -0.0%\n",
       "mobileweb            11,700,000,000      12.8%\n",
       "previews_seen         1,850,000,000     -10.0%\n",
       "unique_devices        1,620,000,000      -8.6%\n",
       "gn_interactions      15,700,000,000       3.8%\n",
       "gs_interactions       4,790,000,000      13.0%"
      ]
     },
     "execution_count": 7,
     "metadata": {},
     "output_type": "execute_result"
    }
   ],
   "source": [
    "(\n",
    "    metrics_all\n",
    "    .apply(calc_rpt)\n",
    "    .transpose()\n",
    "    .reindex(report_order)\n",
    "    .fillna(\"—\")\n",
    ")"
   ]
  },
  {
   "cell_type": "markdown",
   "metadata": {},
   "source": [
    "# Update Google Sheet"
   ]
  },
  {
   "cell_type": "code",
   "execution_count": 8,
   "metadata": {},
   "outputs": [],
   "source": [
    "import gspread\n",
    "from google.oauth2.service_account import Credentials"
   ]
  },
  {
   "cell_type": "code",
   "execution_count": 9,
   "metadata": {},
   "outputs": [],
   "source": [
    "FILE = \"metrics/metrics.tsv\"\n",
    "all_metrics = pd.read_csv(FILE, sep=\"\\t\")\n",
    "\n",
    "DIV_FILE = \"metrics/diversity_metrics.tsv\"\n",
    "diversity_metrics = pd.read_csv(DIV_FILE, sep=\"\\t\")\n"
   ]
  },
  {
   "cell_type": "code",
   "execution_count": 10,
   "metadata": {},
   "outputs": [],
   "source": [
    "all_metrics.iloc[-1,1:] = all_metrics.iloc[-1,1:].astype(float)\n",
    "diversity_metrics.iloc[-1,1:] = diversity_metrics.iloc[-1,1:].astype(float)"
   ]
  },
  {
   "cell_type": "code",
   "execution_count": 11,
   "metadata": {},
   "outputs": [],
   "source": [
    "scope = ['https://spreadsheets.google.com/feeds',\n",
    "         'https://www.googleapis.com/auth/drive']\n",
    "\n",
    "credentials = Credentials.from_service_account_file('key-metrics-343717-07427b76df93.json', scopes=scope)\n",
    "gc = gspread.authorize(credentials)"
   ]
  },
  {
   "cell_type": "code",
   "execution_count": 12,
   "metadata": {},
   "outputs": [],
   "source": [
    "@property\n",
    "def sheet1(self):\n",
    "    \"\"\"Shortcut property for getting the first worksheet.\"\"\"\n",
    "    return self.get_worksheet(0)"
   ]
  },
  {
   "cell_type": "code",
   "execution_count": 13,
   "metadata": {},
   "outputs": [
    {
     "data": {
      "text/plain": [
       "{'spreadsheetId': '1mK-R8qWzKjSeHMBBek9sJsbecdic9s3r28OIW7QkqrE',\n",
       " 'tableRange': 'metrics!A1:H79',\n",
       " 'updates': {'spreadsheetId': '1mK-R8qWzKjSeHMBBek9sJsbecdic9s3r28OIW7QkqrE',\n",
       "  'updatedRange': 'metrics!A80:H80',\n",
       "  'updatedRows': 1,\n",
       "  'updatedColumns': 8,\n",
       "  'updatedCells': 8}}"
      ]
     },
     "execution_count": 13,
     "metadata": {},
     "output_type": "execute_result"
    }
   ],
   "source": [
    "wks1 = gc.open(\"readers\").sheet1\n",
    "new_metrics = all_metrics.iloc[-1,[0,1,2,3,4,5,6,7]].tolist()\n",
    "wks1.append_row(new_metrics)"
   ]
  },
  {
   "cell_type": "code",
   "execution_count": 14,
   "metadata": {},
   "outputs": [],
   "source": [
    "# Depricated as we are no longer calculating mobile-heavy metrics\n",
    "#wks2 = gc.open(\"readers\").get_worksheet(1)\n",
    "#mh_metrics = all_metrics.iloc[-1,[0,7,8,9]].tolist()\n",
    "#wks2.append_row(mh_metrics)"
   ]
  },
  {
   "cell_type": "code",
   "execution_count": 15,
   "metadata": {},
   "outputs": [
    {
     "data": {
      "text/plain": [
       "{'spreadsheetId': '1mK-R8qWzKjSeHMBBek9sJsbecdic9s3r28OIW7QkqrE',\n",
       " 'tableRange': 'diversity_global_market!A1:G79',\n",
       " 'updates': {'spreadsheetId': '1mK-R8qWzKjSeHMBBek9sJsbecdic9s3r28OIW7QkqrE',\n",
       "  'updatedRange': 'diversity_global_market!A80:G80',\n",
       "  'updatedRows': 1,\n",
       "  'updatedColumns': 7,\n",
       "  'updatedCells': 7}}"
      ]
     },
     "execution_count": 15,
     "metadata": {},
     "output_type": "execute_result"
    }
   ],
   "source": [
    "wks3 = gc.open(\"readers\").get_worksheet(1)\n",
    "div_metrics = diversity_metrics.iloc[-1].tolist()\n",
    "wks3.append_row(div_metrics)"
   ]
  },
  {
   "cell_type": "code",
   "execution_count": null,
   "metadata": {},
   "outputs": [],
   "source": []
  }
 ],
 "metadata": {
  "kernelspec": {
   "display_name": "Python 3 (ipykernel)",
   "language": "python",
   "name": "python3"
  },
  "language_info": {
   "codemirror_mode": {
    "name": "ipython",
    "version": 3
   },
   "file_extension": ".py",
   "mimetype": "text/x-python",
   "name": "python",
   "nbconvert_exporter": "python",
   "pygments_lexer": "ipython3",
   "version": "3.7.13"
  }
 },
 "nbformat": 4,
 "nbformat_minor": 4
}
